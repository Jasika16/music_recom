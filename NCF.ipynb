{
  "nbformat": 4,
  "nbformat_minor": 0,
  "metadata": {
    "colab": {
      "name": "NCF",
      "provenance": [],
      "collapsed_sections": []
    },
    "kernelspec": {
      "name": "python3",
      "display_name": "Python 3"
    }
  },
  "cells": [
    {
      "cell_type": "markdown",
      "metadata": {
        "id": "KRuc9a_gwXAZ",
        "colab_type": "text"
      },
      "source": [
        "This notebook is my implementation of the Neural Collabrative Filtering Recoomendation system. \n",
        "[NCF](https://arxiv.org/abs/1708.05031) models has other implementation, such as the [author's original implementation in theano](https://github.com/hexiangnan/neural_collaborative_filtering), the [offical tensorflow/keras version](https://github.com/tensorflow/models/tree/master/official/recommendation) and a [pytorch version](\n",
        "https://towardsdatascience.com/recotour-ii-neural-recommendation-algorithms-49733938d56e) with a [video](https://www.youtube.com/watch?v=O4lk9Lw7lS0) explaining it. In this notebook, I write the code so that it can be followed in a single google colab notebook with step by step instructuion"
      ]
    },
    {
      "cell_type": "code",
      "metadata": {
        "id": "J0sMrzLBxx6l",
        "colab_type": "code",
        "colab": {}
      },
      "source": [
        "# !kill -9 -1xw"
      ],
      "execution_count": 0,
      "outputs": []
    },
    {
      "cell_type": "markdown",
      "metadata": {
        "id": "zuIb820ywcHY",
        "colab_type": "text"
      },
      "source": [
        "### 1. Download data"
      ]
    },
    {
      "cell_type": "code",
      "metadata": {
        "id": "OVw8rAeju1VX",
        "colab_type": "code",
        "colab": {
          "base_uri": "https://localhost:8080/",
          "height": 102
        },
        "outputId": "3f797c9e-bdcf-469d-f1f5-2e338c1c292b"
      },
      "source": [
        "!curl -O 'http://files.grouplens.org/datasets/movielens/ml-100k.zip'\n",
        "!unzip ml-100k.zip\n",
        "!mkdir -p data\n",
        "\n",
        "!cp ml-100k/u.data data/"
      ],
      "execution_count": 280,
      "outputs": [
        {
          "output_type": "stream",
          "text": [
            "  % Total    % Received % Xferd  Average Speed   Time    Time     Time  Current\n",
            "                                 Dload  Upload   Total   Spent    Left  Speed\n",
            "\r  0     0    0     0    0     0      0      0 --:--:-- --:--:-- --:--:--     0\r  2 4808k    2  107k    0     0   573k      0  0:00:08 --:--:--  0:00:08  570k\r100 4808k  100 4808k    0     0  12.4M      0 --:--:-- --:--:-- --:--:-- 12.3M\n",
            "Archive:  ml-100k.zip\n",
            "replace ml-100k/allbut.pl? [y]es, [n]o, [A]ll, [N]one, [r]ename: N\n"
          ],
          "name": "stdout"
        }
      ]
    },
    {
      "cell_type": "code",
      "metadata": {
        "id": "Y0G78vZGwjaC",
        "colab_type": "code",
        "colab": {}
      },
      "source": [
        "import pandas as pd\n",
        "import numpy as np"
      ],
      "execution_count": 0,
      "outputs": []
    },
    {
      "cell_type": "code",
      "metadata": {
        "id": "8mfn4z2Bxbjv",
        "colab_type": "code",
        "colab": {
          "base_uri": "https://localhost:8080/",
          "height": 34
        },
        "outputId": "8e40acd3-7eb5-4c3b-bf3a-11bdeae2cd2e"
      },
      "source": [
        "import os\n",
        "os.getcwd()"
      ],
      "execution_count": 282,
      "outputs": [
        {
          "output_type": "execute_result",
          "data": {
            "text/plain": [
              "'/content'"
            ]
          },
          "metadata": {
            "tags": []
          },
          "execution_count": 282
        }
      ]
    },
    {
      "cell_type": "code",
      "metadata": {
        "id": "j0ERxv-wwga8",
        "colab_type": "code",
        "colab": {}
      },
      "source": [
        "input_file = 'data/u.data'\n",
        "headers = ['user_id', 'item_id', 'rating', 'timestamp']\n",
        "header_row = None\n",
        "ratings_df = pd.read_csv(input_file,\n",
        "                         sep='\\t',\n",
        "                         names=headers,\n",
        "                         header=header_row,\n",
        "                         dtype={\n",
        "                           'user_id': np.int32,\n",
        "                           'item_id': np.int32,\n",
        "                           'rating': np.float32,\n",
        "                           'timestamp': np.int32,\n",
        "                         })"
      ],
      "execution_count": 0,
      "outputs": []
    },
    {
      "cell_type": "code",
      "metadata": {
        "id": "9PaXMuQ4J3Jb",
        "colab_type": "code",
        "colab": {
          "base_uri": "https://localhost:8080/",
          "height": 204
        },
        "outputId": "acc15297-01ea-498d-d3a9-6e6ba31a4e0c"
      },
      "source": [
        "ratings_df.head()"
      ],
      "execution_count": 284,
      "outputs": [
        {
          "output_type": "execute_result",
          "data": {
            "text/html": [
              "<div>\n",
              "<style scoped>\n",
              "    .dataframe tbody tr th:only-of-type {\n",
              "        vertical-align: middle;\n",
              "    }\n",
              "\n",
              "    .dataframe tbody tr th {\n",
              "        vertical-align: top;\n",
              "    }\n",
              "\n",
              "    .dataframe thead th {\n",
              "        text-align: right;\n",
              "    }\n",
              "</style>\n",
              "<table border=\"1\" class=\"dataframe\">\n",
              "  <thead>\n",
              "    <tr style=\"text-align: right;\">\n",
              "      <th></th>\n",
              "      <th>user_id</th>\n",
              "      <th>item_id</th>\n",
              "      <th>rating</th>\n",
              "      <th>timestamp</th>\n",
              "    </tr>\n",
              "  </thead>\n",
              "  <tbody>\n",
              "    <tr>\n",
              "      <th>0</th>\n",
              "      <td>196</td>\n",
              "      <td>242</td>\n",
              "      <td>3.0</td>\n",
              "      <td>881250949</td>\n",
              "    </tr>\n",
              "    <tr>\n",
              "      <th>1</th>\n",
              "      <td>186</td>\n",
              "      <td>302</td>\n",
              "      <td>3.0</td>\n",
              "      <td>891717742</td>\n",
              "    </tr>\n",
              "    <tr>\n",
              "      <th>2</th>\n",
              "      <td>22</td>\n",
              "      <td>377</td>\n",
              "      <td>1.0</td>\n",
              "      <td>878887116</td>\n",
              "    </tr>\n",
              "    <tr>\n",
              "      <th>3</th>\n",
              "      <td>244</td>\n",
              "      <td>51</td>\n",
              "      <td>2.0</td>\n",
              "      <td>880606923</td>\n",
              "    </tr>\n",
              "    <tr>\n",
              "      <th>4</th>\n",
              "      <td>166</td>\n",
              "      <td>346</td>\n",
              "      <td>1.0</td>\n",
              "      <td>886397596</td>\n",
              "    </tr>\n",
              "  </tbody>\n",
              "</table>\n",
              "</div>"
            ],
            "text/plain": [
              "   user_id  item_id  rating  timestamp\n",
              "0      196      242     3.0  881250949\n",
              "1      186      302     3.0  891717742\n",
              "2       22      377     1.0  878887116\n",
              "3      244       51     2.0  880606923\n",
              "4      166      346     1.0  886397596"
            ]
          },
          "metadata": {
            "tags": []
          },
          "execution_count": 284
        }
      ]
    },
    {
      "cell_type": "markdown",
      "metadata": {
        "id": "2MEVxRwPwepz",
        "colab_type": "text"
      },
      "source": [
        "### 2. Preprocess the data"
      ]
    },
    {
      "cell_type": "code",
      "metadata": {
        "id": "Fe-BortnJ-1Y",
        "colab_type": "code",
        "colab": {}
      },
      "source": [
        "from sklearn.preprocessing import LabelEncoder, MinMaxScaler"
      ],
      "execution_count": 0,
      "outputs": []
    },
    {
      "cell_type": "code",
      "metadata": {
        "id": "sIZrbRj_JuY5",
        "colab_type": "code",
        "colab": {}
      },
      "source": [
        "user_enc = LabelEncoder()\n",
        "product_enc = LabelEncoder()\n",
        "scaler = MinMaxScaler()\n",
        "\n",
        "ratings_df['user_id'] = user_enc.fit_transform(ratings_df['user_id'].values)\n",
        "ratings_df['item_id'] = product_enc.fit_transform(ratings_df['item_id'].values)\n",
        "ratings_df['rating'] = scaler.fit_transform(ratings_df['rating'].values.reshape(-1, 1))"
      ],
      "execution_count": 0,
      "outputs": []
    },
    {
      "cell_type": "code",
      "metadata": {
        "id": "-hD9wegNK3Ge",
        "colab_type": "code",
        "colab": {
          "base_uri": "https://localhost:8080/",
          "height": 204
        },
        "outputId": "63ca919e-6416-4af5-f348-85326166ba42"
      },
      "source": [
        "ratings_df.head()"
      ],
      "execution_count": 287,
      "outputs": [
        {
          "output_type": "execute_result",
          "data": {
            "text/html": [
              "<div>\n",
              "<style scoped>\n",
              "    .dataframe tbody tr th:only-of-type {\n",
              "        vertical-align: middle;\n",
              "    }\n",
              "\n",
              "    .dataframe tbody tr th {\n",
              "        vertical-align: top;\n",
              "    }\n",
              "\n",
              "    .dataframe thead th {\n",
              "        text-align: right;\n",
              "    }\n",
              "</style>\n",
              "<table border=\"1\" class=\"dataframe\">\n",
              "  <thead>\n",
              "    <tr style=\"text-align: right;\">\n",
              "      <th></th>\n",
              "      <th>user_id</th>\n",
              "      <th>item_id</th>\n",
              "      <th>rating</th>\n",
              "      <th>timestamp</th>\n",
              "    </tr>\n",
              "  </thead>\n",
              "  <tbody>\n",
              "    <tr>\n",
              "      <th>0</th>\n",
              "      <td>195</td>\n",
              "      <td>241</td>\n",
              "      <td>0.50</td>\n",
              "      <td>881250949</td>\n",
              "    </tr>\n",
              "    <tr>\n",
              "      <th>1</th>\n",
              "      <td>185</td>\n",
              "      <td>301</td>\n",
              "      <td>0.50</td>\n",
              "      <td>891717742</td>\n",
              "    </tr>\n",
              "    <tr>\n",
              "      <th>2</th>\n",
              "      <td>21</td>\n",
              "      <td>376</td>\n",
              "      <td>0.00</td>\n",
              "      <td>878887116</td>\n",
              "    </tr>\n",
              "    <tr>\n",
              "      <th>3</th>\n",
              "      <td>243</td>\n",
              "      <td>50</td>\n",
              "      <td>0.25</td>\n",
              "      <td>880606923</td>\n",
              "    </tr>\n",
              "    <tr>\n",
              "      <th>4</th>\n",
              "      <td>165</td>\n",
              "      <td>345</td>\n",
              "      <td>0.00</td>\n",
              "      <td>886397596</td>\n",
              "    </tr>\n",
              "  </tbody>\n",
              "</table>\n",
              "</div>"
            ],
            "text/plain": [
              "   user_id  item_id  rating  timestamp\n",
              "0      195      241    0.50  881250949\n",
              "1      185      301    0.50  891717742\n",
              "2       21      376    0.00  878887116\n",
              "3      243       50    0.25  880606923\n",
              "4      165      345    0.00  886397596"
            ]
          },
          "metadata": {
            "tags": []
          },
          "execution_count": 287
        }
      ]
    },
    {
      "cell_type": "code",
      "metadata": {
        "id": "PkRecdunJtSe",
        "colab_type": "code",
        "colab": {}
      },
      "source": [
        "n_users = len(ratings_df['user_id'].unique())\n",
        "n_items = len(ratings_df['item_id'].unique())"
      ],
      "execution_count": 0,
      "outputs": []
    },
    {
      "cell_type": "code",
      "metadata": {
        "id": "5CWJZDNqynsN",
        "colab_type": "code",
        "colab": {
          "base_uri": "https://localhost:8080/",
          "height": 51
        },
        "outputId": "7489e715-b5bc-4e94-a02b-b771ceadfb85"
      },
      "source": [
        "print('number of unique user {}'.format(n_users))\n",
        "print('number of unique movie {}'.format(n_items))"
      ],
      "execution_count": 289,
      "outputs": [
        {
          "output_type": "stream",
          "text": [
            "number of unique user 943\n",
            "number of unique movie 1682\n"
          ],
          "name": "stdout"
        }
      ]
    },
    {
      "cell_type": "code",
      "metadata": {
        "id": "6GXqmoMwLbNu",
        "colab_type": "code",
        "colab": {
          "base_uri": "https://localhost:8080/",
          "height": 34
        },
        "outputId": "24bb200f-280f-4a2c-b616-29a51651465b"
      },
      "source": [
        "ratings_df['user_id'].min() # make sure index start from 0"
      ],
      "execution_count": 290,
      "outputs": [
        {
          "output_type": "execute_result",
          "data": {
            "text/plain": [
              "0"
            ]
          },
          "metadata": {
            "tags": []
          },
          "execution_count": 290
        }
      ]
    },
    {
      "cell_type": "code",
      "metadata": {
        "id": "TnqzeLY5LlG9",
        "colab_type": "code",
        "colab": {}
      },
      "source": [
        "ratings = ratings_df[['user_id','item_id','rating']].to_numpy()"
      ],
      "execution_count": 0,
      "outputs": []
    },
    {
      "cell_type": "code",
      "metadata": {
        "id": "5QlMekooy9_V",
        "colab_type": "code",
        "colab": {}
      },
      "source": [
        "from sklearn.model_selection import train_test_split\n",
        "\n",
        "tr_ratings, ts_ratings = train_test_split(ratings, test_size = 0.1)\n",
        "X_train = [[tr_ratings[:,0],tr_ratings[:,1]]]\n",
        "y_train = tr_ratings[:,2].reshape(-1,1)\n",
        "\n",
        "X_test = [[ts_ratings[:,0],ts_ratings[:,1]]]\n",
        "y_test = ts_ratings[:,2].reshape(-1,1)"
      ],
      "execution_count": 0,
      "outputs": []
    },
    {
      "cell_type": "code",
      "metadata": {
        "id": "0jnV7Iwqz3sm",
        "colab_type": "code",
        "colab": {}
      },
      "source": [
        "## convert the rating matrix to a sparse matrix\n",
        "\n",
        "# from scipy.sparse import coo_matrix\n",
        "# u_tr, i_tr, r_tr = zip(*tr_ratings)\n",
        "# tr_sparse = coo_matrix((r_tr, (u_tr, i_tr)), shape=(n_users, n_items))\n",
        "\n",
        "# u_ts, i_ts, r_ts = zip(*ts_ratings)\n",
        "# test_sparse = coo_matrix((r_ts, (u_ts, i_ts)), shape=(n_users, n_items))"
      ],
      "execution_count": 0,
      "outputs": []
    },
    {
      "cell_type": "markdown",
      "metadata": {
        "id": "b-mDJgz7OWil",
        "colab_type": "text"
      },
      "source": [
        "### 3. build the model\n",
        "\n",
        "Note that the neural collaborative filtering (NCF) model is a combination of the generalized matrix factorization model(GMF) and the multilayer perception model(MLP). We can build each model first and then concatenate them. In fact, in the original paper, it shows that by pretraining each model then used the pretrained weight as initialiation point for the final model, you can reach a higher accuracy. \n",
        "![](https://drive.google.com/uc?id=1RqXBiGTCPFRpSkcTfpB7WgpYOXZyuXhx)"
      ]
    },
    {
      "cell_type": "code",
      "metadata": {
        "id": "npnadXDHZRX_",
        "colab_type": "code",
        "colab": {
          "base_uri": "https://localhost:8080/",
          "height": 34
        },
        "outputId": "665f3d6a-17a4-4ec3-e23e-8a7af9f7ce33"
      },
      "source": [
        "import tensorflow as tf\n",
        "print(tf.__version__)"
      ],
      "execution_count": 294,
      "outputs": [
        {
          "output_type": "stream",
          "text": [
            "2.2.0\n"
          ],
          "name": "stdout"
        }
      ]
    },
    {
      "cell_type": "markdown",
      "metadata": {
        "id": "tHRqTpJaZxVv",
        "colab_type": "text"
      },
      "source": [
        "**Part 1, build the GMF model**"
      ]
    },
    {
      "cell_type": "code",
      "metadata": {
        "id": "o3D7tJLLOj8Q",
        "colab_type": "code",
        "colab": {}
      },
      "source": [
        "def build_GMF(embedding_dim, n_users, n_items):\n",
        "  # Input layers\n",
        "  user_input = tf.keras.layers.Input(shape=(1,)) # user\n",
        "  product_input = tf.keras.layers.Input(shape=(1,)) # movie\n",
        "  # Embedding layers\n",
        "  User_embedding = tf.keras.layers.Embedding(n_users, embedding_dim,\\\n",
        "                                             embeddings_regularizer=tf.keras.regularizers.l2(1e-6))(user_input)\n",
        "  Product_embedding = tf.keras.layers.Embedding(n_items, embedding_dim, \\\n",
        "                                                embeddings_regularizer=tf.keras.regularizers.l2(1e-6))(product_input)\n",
        "  # Dot products\n",
        "  u = tf.keras.layers.Reshape((embedding_dim,))(User_embedding)\n",
        "  v = tf.keras.layers.Reshape((embedding_dim,))(Product_embedding)\n",
        "  s = tf.keras.layers.Dot(axes=1)([u, v])\n",
        "  model = tf.keras.Model(inputs=[user_input, product_input], outputs=s)\n",
        "  print(model.summary())\n",
        "  return(model)\n"
      ],
      "execution_count": 0,
      "outputs": []
    },
    {
      "cell_type": "code",
      "metadata": {
        "id": "KxZvR4BDPEQP",
        "colab_type": "code",
        "colab": {
          "base_uri": "https://localhost:8080/",
          "height": 425
        },
        "outputId": "b22beec4-3f64-4fd7-e316-ecded7bb5fb6"
      },
      "source": [
        "embedding_dim = 10\n",
        "GMF_model = build_GMF(embedding_dim, n_users, n_items)"
      ],
      "execution_count": 296,
      "outputs": [
        {
          "output_type": "stream",
          "text": [
            "Model: \"model_38\"\n",
            "__________________________________________________________________________________________________\n",
            "Layer (type)                    Output Shape         Param #     Connected to                     \n",
            "==================================================================================================\n",
            "input_97 (InputLayer)           [(None, 1)]          0                                            \n",
            "__________________________________________________________________________________________________\n",
            "input_98 (InputLayer)           [(None, 1)]          0                                            \n",
            "__________________________________________________________________________________________________\n",
            "embedding_114 (Embedding)       (None, 1, 10)        9430        input_97[0][0]                   \n",
            "__________________________________________________________________________________________________\n",
            "embedding_115 (Embedding)       (None, 1, 10)        16820       input_98[0][0]                   \n",
            "__________________________________________________________________________________________________\n",
            "reshape_64 (Reshape)            (None, 10)           0           embedding_114[0][0]              \n",
            "__________________________________________________________________________________________________\n",
            "reshape_65 (Reshape)            (None, 10)           0           embedding_115[0][0]              \n",
            "__________________________________________________________________________________________________\n",
            "dot_32 (Dot)                    (None, 1)            0           reshape_64[0][0]                 \n",
            "                                                                 reshape_65[0][0]                 \n",
            "==================================================================================================\n",
            "Total params: 26,250\n",
            "Trainable params: 26,250\n",
            "Non-trainable params: 0\n",
            "__________________________________________________________________________________________________\n",
            "None\n"
          ],
          "name": "stdout"
        }
      ]
    },
    {
      "cell_type": "code",
      "metadata": {
        "id": "yZrHGpDnNt9q",
        "colab_type": "code",
        "colab": {}
      },
      "source": [
        "# Directory where the checkpoints will be saved\n",
        "checkpoint_dir = './training_checkpoints'\n",
        "# Name of the checkpoint files\n",
        "checkpoint_prefix = os.path.join(checkpoint_dir, \"ckpt_{epoch}\")\n",
        "\n",
        "checkpoint_callback=tf.keras.callbacks.ModelCheckpoint(\n",
        "    filepath=checkpoint_prefix,\n",
        "    save_weights_only=True)\n",
        "\n",
        "es = tf.keras.callbacks.EarlyStopping(monitor='val_loss', mode='min', verbose=1, patience=10)"
      ],
      "execution_count": 0,
      "outputs": []
    },
    {
      "cell_type": "code",
      "metadata": {
        "id": "OluMrjFY36-_",
        "colab_type": "code",
        "colab": {
          "base_uri": "https://localhost:8080/",
          "height": 768
        },
        "outputId": "b8ad519d-d00f-4162-e4a2-a35e71228ca2"
      },
      "source": [
        "opt = tf.keras.optimizers.Adagrad(learning_rate=0.5)  #Use Adagrad to get faster learning rate\n",
        "# opt = tf.keras.optimizers.Adam(learning_rate=0.01)  \n",
        "\n",
        "GMF_model.compile(loss='mean_squared_error', optimizer=opt)\n",
        "\n",
        "history = GMF_model.fit(x=X_train, y=y_train,\n",
        "                  batch_size=64, epochs=500,\n",
        "                  validation_data= (X_test, y_test),\n",
        "                  callbacks=[checkpoint_callback, es])"
      ],
      "execution_count": 298,
      "outputs": [
        {
          "output_type": "stream",
          "text": [
            "Epoch 1/500\n"
          ],
          "name": "stdout"
        },
        {
          "output_type": "stream",
          "text": [
            "/usr/local/lib/python3.6/dist-packages/tensorflow/python/framework/indexed_slices.py:434: UserWarning: Converting sparse IndexedSlices to a dense Tensor of unknown shape. This may consume a large amount of memory.\n",
            "  \"Converting sparse IndexedSlices to a dense Tensor of unknown shape. \"\n"
          ],
          "name": "stderr"
        },
        {
          "output_type": "stream",
          "text": [
            "1407/1407 [==============================] - 2s 2ms/step - loss: 0.4507 - val_loss: 0.2830\n",
            "Epoch 2/500\n",
            "1407/1407 [==============================] - 2s 1ms/step - loss: 0.1315 - val_loss: 0.0786\n",
            "Epoch 3/500\n",
            "1407/1407 [==============================] - 2s 1ms/step - loss: 0.0696 - val_loss: 0.0635\n",
            "Epoch 4/500\n",
            "1407/1407 [==============================] - 2s 1ms/step - loss: 0.0613 - val_loss: 0.0602\n",
            "Epoch 5/500\n",
            "1407/1407 [==============================] - 2s 1ms/step - loss: 0.0581 - val_loss: 0.0582\n",
            "Epoch 6/500\n",
            "1407/1407 [==============================] - 2s 1ms/step - loss: 0.0560 - val_loss: 0.0566\n",
            "Epoch 7/500\n",
            "1407/1407 [==============================] - 2s 1ms/step - loss: 0.0542 - val_loss: 0.0559\n",
            "Epoch 8/500\n",
            "1407/1407 [==============================] - 2s 1ms/step - loss: 0.0525 - val_loss: 0.0553\n",
            "Epoch 9/500\n",
            "1407/1407 [==============================] - 2s 1ms/step - loss: 0.0509 - val_loss: 0.0550\n",
            "Epoch 10/500\n",
            "1407/1407 [==============================] - 2s 1ms/step - loss: 0.0494 - val_loss: 0.0548\n",
            "Epoch 11/500\n",
            "1407/1407 [==============================] - 2s 1ms/step - loss: 0.0480 - val_loss: 0.0550\n",
            "Epoch 12/500\n",
            "1407/1407 [==============================] - 2s 1ms/step - loss: 0.0467 - val_loss: 0.0552\n",
            "Epoch 13/500\n",
            "1407/1407 [==============================] - 2s 1ms/step - loss: 0.0455 - val_loss: 0.0555\n",
            "Epoch 14/500\n",
            "1407/1407 [==============================] - 2s 1ms/step - loss: 0.0445 - val_loss: 0.0560\n",
            "Epoch 15/500\n",
            "1407/1407 [==============================] - 2s 1ms/step - loss: 0.0435 - val_loss: 0.0560\n",
            "Epoch 16/500\n",
            "1407/1407 [==============================] - 2s 1ms/step - loss: 0.0427 - val_loss: 0.0568\n",
            "Epoch 17/500\n",
            "1407/1407 [==============================] - 2s 1ms/step - loss: 0.0421 - val_loss: 0.0568\n",
            "Epoch 18/500\n",
            "1407/1407 [==============================] - 2s 1ms/step - loss: 0.0415 - val_loss: 0.0574\n",
            "Epoch 19/500\n",
            "1407/1407 [==============================] - 2s 1ms/step - loss: 0.0409 - val_loss: 0.0578\n",
            "Epoch 20/500\n",
            "1407/1407 [==============================] - 2s 1ms/step - loss: 0.0405 - val_loss: 0.0580\n",
            "Epoch 00020: early stopping\n"
          ],
          "name": "stdout"
        }
      ]
    },
    {
      "cell_type": "code",
      "metadata": {
        "id": "YCrOtpslOVoT",
        "colab_type": "code",
        "colab": {}
      },
      "source": [
        "import matplotlib.pyplot as plt\n",
        "\n",
        "def plot_graph(history, string):\n",
        "    plt.plot(history.history[string])\n",
        "    plt.plot(history.history['val_'+string])\n",
        "    plt.xlabel(\"Epochs\")\n",
        "    plt.ylabel(string)\n",
        "    plt.legend([string, 'val_'+string])\n",
        "    plt.show()"
      ],
      "execution_count": 0,
      "outputs": []
    },
    {
      "cell_type": "code",
      "metadata": {
        "id": "l5kr2yX9Q3mz",
        "colab_type": "code",
        "colab": {
          "base_uri": "https://localhost:8080/",
          "height": 279
        },
        "outputId": "bd48caac-63b4-4083-94c5-481ba11a1c78"
      },
      "source": [
        "plot_graph(history, \"loss\")"
      ],
      "execution_count": 300,
      "outputs": [
        {
          "output_type": "display_data",
          "data": {
            "image/png": "[encoded data removed]",
            "text/plain": [
              "<Figure size 432x288 with 1 Axes>"
            ]
          },
          "metadata": {
            "tags": [],
            "needs_background": "light"
          }
        }
      ]
    },
    {
      "cell_type": "markdown",
      "metadata": {
        "id": "nZr8cp8iRDbw",
        "colab_type": "text"
      },
      "source": [
        "As we can see, we should use the model somewhere around the 10th epoches, we can load the saved weight from checkpoint file"
      ]
    },
    {
      "cell_type": "code",
      "metadata": {
        "id": "31athEBbRCgF",
        "colab_type": "code",
        "colab": {
          "base_uri": "https://localhost:8080/",
          "height": 425
        },
        "outputId": "9ce3b505-d5a6-4bc4-8dd0-53a84472fd6d"
      },
      "source": [
        "recovered_model = build_GMF(embedding_dim, n_users, n_items)\n",
        "recovered_model.load_weights(tf.train.latest_checkpoint(checkpoint_dir))\n",
        "recovered_model.build(tf.TensorShape([1, None]))"
      ],
      "execution_count": 301,
      "outputs": [
        {
          "output_type": "stream",
          "text": [
            "Model: \"model_39\"\n",
            "__________________________________________________________________________________________________\n",
            "Layer (type)                    Output Shape         Param #     Connected to                     \n",
            "==================================================================================================\n",
            "input_99 (InputLayer)           [(None, 1)]          0                                            \n",
            "__________________________________________________________________________________________________\n",
            "input_100 (InputLayer)          [(None, 1)]          0                                            \n",
            "__________________________________________________________________________________________________\n",
            "embedding_116 (Embedding)       (None, 1, 10)        9430        input_99[0][0]                   \n",
            "__________________________________________________________________________________________________\n",
            "embedding_117 (Embedding)       (None, 1, 10)        16820       input_100[0][0]                  \n",
            "__________________________________________________________________________________________________\n",
            "reshape_66 (Reshape)            (None, 10)           0           embedding_116[0][0]              \n",
            "__________________________________________________________________________________________________\n",
            "reshape_67 (Reshape)            (None, 10)           0           embedding_117[0][0]              \n",
            "__________________________________________________________________________________________________\n",
            "dot_33 (Dot)                    (None, 1)            0           reshape_66[0][0]                 \n",
            "                                                                 reshape_67[0][0]                 \n",
            "==================================================================================================\n",
            "Total params: 26,250\n",
            "Trainable params: 26,250\n",
            "Non-trainable params: 0\n",
            "__________________________________________________________________________________________________\n",
            "None\n"
          ],
          "name": "stdout"
        }
      ]
    },
    {
      "cell_type": "code",
      "metadata": {
        "id": "ySAF934lRjey",
        "colab_type": "code",
        "colab": {}
      },
      "source": [
        "prediction = recovered_model(X_test)"
      ],
      "execution_count": 0,
      "outputs": []
    },
    {
      "cell_type": "code",
      "metadata": {
        "id": "XuGYwF_KRycv",
        "colab_type": "code",
        "colab": {
          "base_uri": "https://localhost:8080/",
          "height": 269
        },
        "outputId": "d1e3bb06-7cc5-4640-dc90-dec27b4438ec"
      },
      "source": [
        "plt.plot(y_test,prediction,'o')\n",
        "plt.xlim(-0.5, 1.5)\n",
        "plt.ylim(-0.5, 1.5)\n",
        "plt.gca().set_aspect('equal', adjustable='box')"
      ],
      "execution_count": 303,
      "outputs": [
        {
          "output_type": "display_data",
          "data": {
            "image/png": "[encoded data removed]",
            "text/plain": [
              "<Figure size 432x288 with 1 Axes>"
            ]
          },
          "metadata": {
            "tags": [],
            "needs_background": "light"
          }
        }
      ]
    },
    {
      "cell_type": "markdown",
      "metadata": {
        "id": "XP5iZ6bSTj5-",
        "colab_type": "text"
      },
      "source": [
        "One can also add a bias layer, which represent the average score for each users, and the average score for each item"
      ]
    },
    {
      "cell_type": "code",
      "metadata": {
        "id": "6qzl6f1kTspS",
        "colab_type": "code",
        "colab": {}
      },
      "source": [
        "def build_bias(embedding_dim, n_users, n_items):\n",
        "  # Input layers\n",
        "  user_input = tf.keras.layers.Input(shape=(1,)) # user\n",
        "  product_input = tf.keras.layers.Input(shape=(1,)) # movie\n",
        "  # Embedding layers\n",
        "  User_embedding = tf.keras.layers.Embedding(n_users, embedding_dim,\\\n",
        "                                             embeddings_regularizer=tf.keras.regularizers.l2(1e-6))(user_input)\n",
        "  \n",
        "  User_embedding_avg = tf.keras.layers.Embedding(n_users, 1,embeddings_regularizer=tf.keras.regularizers.l2(1e-6))(user_input)\n",
        " \n",
        "\n",
        "  Product_embedding = tf.keras.layers.Embedding(n_items, embedding_dim,\\\n",
        "                                             embeddings_regularizer=tf.keras.regularizers.l2(1e-6))(product_input)\n",
        "  \n",
        "  Product_embedding_avg = tf.keras.layers.Embedding(n_items, 1,embeddings_regularizer=tf.keras.regularizers.l2(1e-6))(product_input)\n",
        " \n",
        "  \n",
        "  # Dot products\n",
        "  u = tf.keras.layers.Reshape((embedding_dim,))(User_embedding)\n",
        "  v = tf.keras.layers.Reshape((embedding_dim,))(Product_embedding)\n",
        "  s = tf.keras.layers.Dot(axes=1)([u, v])\n",
        "\n",
        "  o = tf.keras.layers.Add()([s, User_embedding_avg, Product_embedding_avg])\n",
        "\n",
        "  model = tf.keras.Model(inputs=[user_input, product_input], outputs=o)\n",
        "  print(model.summary())\n",
        "  return(model)"
      ],
      "execution_count": 0,
      "outputs": []
    },
    {
      "cell_type": "markdown",
      "metadata": {
        "id": "jEi4kL2bZ0V-",
        "colab_type": "text"
      },
      "source": [
        "**Part 2, build the MLP model**\n",
        "\n",
        "We will be using two embedding layer (one for user and one for item), and 3 fully connective layers with size of [16,8,4]"
      ]
    },
    {
      "cell_type": "code",
      "metadata": {
        "id": "4hjb9nQ0lvBQ",
        "colab_type": "code",
        "colab": {}
      },
      "source": [
        "def build_MLP(embedding_dim, n_users, n_items):\n",
        "  # Input layers\n",
        "  user_input_mlp = tf.keras.layers.Input(shape=(1,)) # user\n",
        "  product_input_mlp = tf.keras.layers.Input(shape=(1,)) # movie\n",
        "  # Embedding layers\n",
        "  User_embedding_mlp = tf.keras.layers.Embedding(n_users, embedding_dim,\n",
        "                                                 embeddings_initializer= \"normal\",\n",
        "                                                  embeddings_regularizer=tf.keras.regularizers.l2(1e-6))(user_input_mlp)\n",
        "  Product_embedding_mlp = tf.keras.layers.Embedding(n_items, embedding_dim, \n",
        "                                                    embeddings_initializer= \"normal\",\n",
        "                                                    embeddings_regularizer=tf.keras.regularizers.l2(1e-6))(product_input_mlp)\n",
        "  # Concatenation of the two embedding\n",
        "  # u_mlp = tf.keras.layers.Flatten()(User_embedding_mlp)\n",
        "  # v_mlp = tf.keras.layers.Flatten()(Product_embedding_mlp)\n",
        "\n",
        "  u_mlp =tf.keras.layers.Reshape((embedding_dim,))(User_embedding_mlp)\n",
        "  v_mlp = tf.keras.layers.Reshape((embedding_dim,))(Product_embedding_mlp)\n",
        "\n",
        "  u_mlp = tf.keras.layers.Dropout(0.5)(u_mlp)\n",
        "  v_mlp = tf.keras.layers.Dropout(0.5)(v_mlp)\n",
        "\n",
        "  merged = tf.keras.layers.Concatenate(axis=1)([u_mlp, v_mlp])\n",
        "\n",
        "  fcn = tf.keras.layers.Dense(64, activation='relu',\\\n",
        "                              kernel_regularizer=tf.keras.regularizers.l2(1e-6),\n",
        "                              activity_regularizer = tf.keras.regularizers.l2(1e-6))(merged)\n",
        "\n",
        "  fcn = tf.keras.layers.Dense(32, activation='relu',kernel_regularizer=tf.keras.regularizers.l2(1e-6))(fcn)\n",
        "\n",
        "  fcn = tf.keras.layers.Dense(16, activation='relu', kernel_regularizer=tf.keras.regularizers.l2(1e-6))(fcn)\n",
        "  fcn = tf.keras.layers.Dense(8, activation='relu', kernel_regularizer=tf.keras.regularizers.l2(1e-6))(fcn)\n",
        "\n",
        "  output_mlp = tf.keras.layers.Dense(1, activation='sigmoid', kernel_initializer=\"lecun_uniform\")(fcn)\n",
        "\n",
        "  model = tf.keras.Model(inputs=[user_input_mlp, product_input_mlp], outputs=output_mlp)\n",
        "  print(model.summary())\n",
        "  return(model)"
      ],
      "execution_count": 0,
      "outputs": []
    },
    {
      "cell_type": "code",
      "metadata": {
        "id": "E_lBy1Dlr6O0",
        "colab_type": "code",
        "colab": {
          "base_uri": "https://localhost:8080/",
          "height": 663
        },
        "outputId": "f29a5c34-66d7-4715-83e6-db3611415d7d"
      },
      "source": [
        "embedding_dim = 100\n",
        "MLP_model = build_MLP(embedding_dim, n_users, n_items)"
      ],
      "execution_count": 408,
      "outputs": [
        {
          "output_type": "stream",
          "text": [
            "Model: \"model_69\"\n",
            "__________________________________________________________________________________________________\n",
            "Layer (type)                    Output Shape         Param #     Connected to                     \n",
            "==================================================================================================\n",
            "input_165 (InputLayer)          [(None, 1)]          0                                            \n",
            "__________________________________________________________________________________________________\n",
            "input_166 (InputLayer)          [(None, 1)]          0                                            \n",
            "__________________________________________________________________________________________________\n",
            "embedding_180 (Embedding)       (None, 1, 100)       94300       input_165[0][0]                  \n",
            "__________________________________________________________________________________________________\n",
            "embedding_181 (Embedding)       (None, 1, 100)       168200      input_166[0][0]                  \n",
            "__________________________________________________________________________________________________\n",
            "reshape_98 (Reshape)            (None, 100)          0           embedding_180[0][0]              \n",
            "__________________________________________________________________________________________________\n",
            "reshape_99 (Reshape)            (None, 100)          0           embedding_181[0][0]              \n",
            "__________________________________________________________________________________________________\n",
            "dropout_36 (Dropout)            (None, 100)          0           reshape_98[0][0]                 \n",
            "__________________________________________________________________________________________________\n",
            "dropout_37 (Dropout)            (None, 100)          0           reshape_99[0][0]                 \n",
            "__________________________________________________________________________________________________\n",
            "concatenate_34 (Concatenate)    (None, 200)          0           dropout_36[0][0]                 \n",
            "                                                                 dropout_37[0][0]                 \n",
            "__________________________________________________________________________________________________\n",
            "dense_113 (Dense)               (None, 64)           12864       concatenate_34[0][0]             \n",
            "__________________________________________________________________________________________________\n",
            "dense_114 (Dense)               (None, 32)           2080        dense_113[0][0]                  \n",
            "__________________________________________________________________________________________________\n",
            "dense_115 (Dense)               (None, 16)           528         dense_114[0][0]                  \n",
            "__________________________________________________________________________________________________\n",
            "dense_116 (Dense)               (None, 8)            136         dense_115[0][0]                  \n",
            "__________________________________________________________________________________________________\n",
            "dense_117 (Dense)               (None, 1)            9           dense_116[0][0]                  \n",
            "==================================================================================================\n",
            "Total params: 278,117\n",
            "Trainable params: 278,117\n",
            "Non-trainable params: 0\n",
            "__________________________________________________________________________________________________\n",
            "None\n"
          ],
          "name": "stdout"
        }
      ]
    },
    {
      "cell_type": "code",
      "metadata": {
        "id": "ILOwnrq3uaFH",
        "colab_type": "code",
        "colab": {
          "base_uri": "https://localhost:8080/",
          "height": 480
        },
        "outputId": "74ad6c66-c8f9-4f8c-e78c-a563b3c6135e"
      },
      "source": [
        "# opt = tf.keras.optimizers.Adagrad(learning_rate=0.01)  #Use Adagrad to get faster learning rate\n",
        "opt = tf.keras.optimizers.Adam(learning_rate=0.001)  \n",
        "\n",
        "MLP_model.compile(loss='mean_squared_error', optimizer=opt)\n",
        "\n",
        "history = MLP_model.fit(x=X_train, y=y_train,\n",
        "                  batch_size=64, epochs=500,\n",
        "                  validation_data= (X_test, y_test),\n",
        "                  callbacks=[checkpoint_callback, es])"
      ],
      "execution_count": 406,
      "outputs": [
        {
          "output_type": "stream",
          "text": [
            "Epoch 1/500\n"
          ],
          "name": "stdout"
        },
        {
          "output_type": "stream",
          "text": [
            "/usr/local/lib/python3.6/dist-packages/tensorflow/python/framework/indexed_slices.py:434: UserWarning: Converting sparse IndexedSlices to a dense Tensor of unknown shape. This may consume a large amount of memory.\n",
            "  \"Converting sparse IndexedSlices to a dense Tensor of unknown shape. \"\n"
          ],
          "name": "stderr"
        },
        {
          "output_type": "error",
          "ename": "InvalidArgumentError",
          "evalue": "ignored",
          "traceback": [
            "\u001b[0;31m---------------------------------------------------------------------------\u001b[0m",
            "\u001b[0;31mInvalidArgumentError\u001b[0m                      Traceback (most recent call last)",
            "\u001b[0;32m<ipython-input-406-4a2e8cf6bf5a>\u001b[0m in \u001b[0;36m<module>\u001b[0;34m()\u001b[0m\n\u001b[1;32m      7\u001b[0m                   \u001b[0mbatch_size\u001b[0m\u001b[0;34m=\u001b[0m\u001b[0;36m64\u001b[0m\u001b[0;34m,\u001b[0m \u001b[0mepochs\u001b[0m\u001b[0;34m=\u001b[0m\u001b[0;36m500\u001b[0m\u001b[0;34m,\u001b[0m\u001b[0;34m\u001b[0m\u001b[0;34m\u001b[0m\u001b[0m\n\u001b[1;32m      8\u001b[0m                   \u001b[0mvalidation_data\u001b[0m\u001b[0;34m=\u001b[0m \u001b[0;34m(\u001b[0m\u001b[0mX_test\u001b[0m\u001b[0;34m,\u001b[0m \u001b[0my_test\u001b[0m\u001b[0;34m)\u001b[0m\u001b[0;34m,\u001b[0m\u001b[0;34m\u001b[0m\u001b[0;34m\u001b[0m\u001b[0m\n\u001b[0;32m----> 9\u001b[0;31m                   callbacks=[checkpoint_callback, es])\n\u001b[0m",
            "\u001b[0;32m/usr/local/lib/python3.6/dist-packages/tensorflow/python/keras/engine/training.py\u001b[0m in \u001b[0;36m_method_wrapper\u001b[0;34m(self, *args, **kwargs)\u001b[0m\n\u001b[1;32m     64\u001b[0m   \u001b[0;32mdef\u001b[0m \u001b[0m_method_wrapper\u001b[0m\u001b[0;34m(\u001b[0m\u001b[0mself\u001b[0m\u001b[0;34m,\u001b[0m \u001b[0;34m*\u001b[0m\u001b[0margs\u001b[0m\u001b[0;34m,\u001b[0m \u001b[0;34m**\u001b[0m\u001b[0mkwargs\u001b[0m\u001b[0;34m)\u001b[0m\u001b[0;34m:\u001b[0m\u001b[0;34m\u001b[0m\u001b[0;34m\u001b[0m\u001b[0m\n\u001b[1;32m     65\u001b[0m     \u001b[0;32mif\u001b[0m \u001b[0;32mnot\u001b[0m \u001b[0mself\u001b[0m\u001b[0;34m.\u001b[0m\u001b[0m_in_multi_worker_mode\u001b[0m\u001b[0;34m(\u001b[0m\u001b[0;34m)\u001b[0m\u001b[0;34m:\u001b[0m  \u001b[0;31m# pylint: disable=protected-access\u001b[0m\u001b[0;34m\u001b[0m\u001b[0;34m\u001b[0m\u001b[0m\n\u001b[0;32m---> 66\u001b[0;31m       \u001b[0;32mreturn\u001b[0m \u001b[0mmethod\u001b[0m\u001b[0;34m(\u001b[0m\u001b[0mself\u001b[0m\u001b[0;34m,\u001b[0m \u001b[0;34m*\u001b[0m\u001b[0margs\u001b[0m\u001b[0;34m,\u001b[0m \u001b[0;34m**\u001b[0m\u001b[0mkwargs\u001b[0m\u001b[0;34m)\u001b[0m\u001b[0;34m\u001b[0m\u001b[0;34m\u001b[0m\u001b[0m\n\u001b[0m\u001b[1;32m     67\u001b[0m \u001b[0;34m\u001b[0m\u001b[0m\n\u001b[1;32m     68\u001b[0m     \u001b[0;31m# Running inside `run_distribute_coordinator` already.\u001b[0m\u001b[0;34m\u001b[0m\u001b[0;34m\u001b[0m\u001b[0;34m\u001b[0m\u001b[0m\n",
            "\u001b[0;32m/usr/local/lib/python3.6/dist-packages/tensorflow/python/keras/engine/training.py\u001b[0m in \u001b[0;36mfit\u001b[0;34m(self, x, y, batch_size, epochs, verbose, callbacks, validation_split, validation_data, shuffle, class_weight, sample_weight, initial_epoch, steps_per_epoch, validation_steps, validation_batch_size, validation_freq, max_queue_size, workers, use_multiprocessing)\u001b[0m\n\u001b[1;32m    846\u001b[0m                 batch_size=batch_size):\n\u001b[1;32m    847\u001b[0m               \u001b[0mcallbacks\u001b[0m\u001b[0;34m.\u001b[0m\u001b[0mon_train_batch_begin\u001b[0m\u001b[0;34m(\u001b[0m\u001b[0mstep\u001b[0m\u001b[0;34m)\u001b[0m\u001b[0;34m\u001b[0m\u001b[0;34m\u001b[0m\u001b[0m\n\u001b[0;32m--> 848\u001b[0;31m               \u001b[0mtmp_logs\u001b[0m \u001b[0;34m=\u001b[0m \u001b[0mtrain_function\u001b[0m\u001b[0;34m(\u001b[0m\u001b[0miterator\u001b[0m\u001b[0;34m)\u001b[0m\u001b[0;34m\u001b[0m\u001b[0;34m\u001b[0m\u001b[0m\n\u001b[0m\u001b[1;32m    849\u001b[0m               \u001b[0;31m# Catch OutOfRangeError for Datasets of unknown size.\u001b[0m\u001b[0;34m\u001b[0m\u001b[0;34m\u001b[0m\u001b[0;34m\u001b[0m\u001b[0m\n\u001b[1;32m    850\u001b[0m               \u001b[0;31m# This blocks until the batch has finished executing.\u001b[0m\u001b[0;34m\u001b[0m\u001b[0;34m\u001b[0m\u001b[0;34m\u001b[0m\u001b[0m\n",
            "\u001b[0;32m/usr/local/lib/python3.6/dist-packages/tensorflow/python/eager/def_function.py\u001b[0m in \u001b[0;36m__call__\u001b[0;34m(self, *args, **kwds)\u001b[0m\n\u001b[1;32m    578\u001b[0m         \u001b[0mxla_context\u001b[0m\u001b[0;34m.\u001b[0m\u001b[0mExit\u001b[0m\u001b[0;34m(\u001b[0m\u001b[0;34m)\u001b[0m\u001b[0;34m\u001b[0m\u001b[0;34m\u001b[0m\u001b[0m\n\u001b[1;32m    579\u001b[0m     \u001b[0;32melse\u001b[0m\u001b[0;34m:\u001b[0m\u001b[0;34m\u001b[0m\u001b[0;34m\u001b[0m\u001b[0m\n\u001b[0;32m--> 580\u001b[0;31m       \u001b[0mresult\u001b[0m \u001b[0;34m=\u001b[0m \u001b[0mself\u001b[0m\u001b[0;34m.\u001b[0m\u001b[0m_call\u001b[0m\u001b[0;34m(\u001b[0m\u001b[0;34m*\u001b[0m\u001b[0margs\u001b[0m\u001b[0;34m,\u001b[0m \u001b[0;34m**\u001b[0m\u001b[0mkwds\u001b[0m\u001b[0;34m)\u001b[0m\u001b[0;34m\u001b[0m\u001b[0;34m\u001b[0m\u001b[0m\n\u001b[0m\u001b[1;32m    581\u001b[0m \u001b[0;34m\u001b[0m\u001b[0m\n\u001b[1;32m    582\u001b[0m     \u001b[0;32mif\u001b[0m \u001b[0mtracing_count\u001b[0m \u001b[0;34m==\u001b[0m \u001b[0mself\u001b[0m\u001b[0;34m.\u001b[0m\u001b[0m_get_tracing_count\u001b[0m\u001b[0;34m(\u001b[0m\u001b[0;34m)\u001b[0m\u001b[0;34m:\u001b[0m\u001b[0;34m\u001b[0m\u001b[0;34m\u001b[0m\u001b[0m\n",
            "\u001b[0;32m/usr/local/lib/python3.6/dist-packages/tensorflow/python/eager/def_function.py\u001b[0m in \u001b[0;36m_call\u001b[0;34m(self, *args, **kwds)\u001b[0m\n\u001b[1;32m    642\u001b[0m         \u001b[0;31m# Lifting succeeded, so variables are initialized and we can run the\u001b[0m\u001b[0;34m\u001b[0m\u001b[0;34m\u001b[0m\u001b[0;34m\u001b[0m\u001b[0m\n\u001b[1;32m    643\u001b[0m         \u001b[0;31m# stateless function.\u001b[0m\u001b[0;34m\u001b[0m\u001b[0;34m\u001b[0m\u001b[0;34m\u001b[0m\u001b[0m\n\u001b[0;32m--> 644\u001b[0;31m         \u001b[0;32mreturn\u001b[0m \u001b[0mself\u001b[0m\u001b[0;34m.\u001b[0m\u001b[0m_stateless_fn\u001b[0m\u001b[0;34m(\u001b[0m\u001b[0;34m*\u001b[0m\u001b[0margs\u001b[0m\u001b[0;34m,\u001b[0m \u001b[0;34m**\u001b[0m\u001b[0mkwds\u001b[0m\u001b[0;34m)\u001b[0m\u001b[0;34m\u001b[0m\u001b[0;34m\u001b[0m\u001b[0m\n\u001b[0m\u001b[1;32m    645\u001b[0m     \u001b[0;32melse\u001b[0m\u001b[0;34m:\u001b[0m\u001b[0;34m\u001b[0m\u001b[0;34m\u001b[0m\u001b[0m\n\u001b[1;32m    646\u001b[0m       \u001b[0mcanon_args\u001b[0m\u001b[0;34m,\u001b[0m \u001b[0mcanon_kwds\u001b[0m \u001b[0;34m=\u001b[0m\u001b[0;31m \u001b[0m\u001b[0;31m\\\u001b[0m\u001b[0;34m\u001b[0m\u001b[0;34m\u001b[0m\u001b[0m\n",
            "\u001b[0;32m/usr/local/lib/python3.6/dist-packages/tensorflow/python/eager/function.py\u001b[0m in \u001b[0;36m__call__\u001b[0;34m(self, *args, **kwargs)\u001b[0m\n\u001b[1;32m   2418\u001b[0m     \u001b[0;32mwith\u001b[0m \u001b[0mself\u001b[0m\u001b[0;34m.\u001b[0m\u001b[0m_lock\u001b[0m\u001b[0;34m:\u001b[0m\u001b[0;34m\u001b[0m\u001b[0;34m\u001b[0m\u001b[0m\n\u001b[1;32m   2419\u001b[0m       \u001b[0mgraph_function\u001b[0m\u001b[0;34m,\u001b[0m \u001b[0margs\u001b[0m\u001b[0;34m,\u001b[0m \u001b[0mkwargs\u001b[0m \u001b[0;34m=\u001b[0m \u001b[0mself\u001b[0m\u001b[0;34m.\u001b[0m\u001b[0m_maybe_define_function\u001b[0m\u001b[0;34m(\u001b[0m\u001b[0margs\u001b[0m\u001b[0;34m,\u001b[0m \u001b[0mkwargs\u001b[0m\u001b[0;34m)\u001b[0m\u001b[0;34m\u001b[0m\u001b[0;34m\u001b[0m\u001b[0m\n\u001b[0;32m-> 2420\u001b[0;31m     \u001b[0;32mreturn\u001b[0m \u001b[0mgraph_function\u001b[0m\u001b[0;34m.\u001b[0m\u001b[0m_filtered_call\u001b[0m\u001b[0;34m(\u001b[0m\u001b[0margs\u001b[0m\u001b[0;34m,\u001b[0m \u001b[0mkwargs\u001b[0m\u001b[0;34m)\u001b[0m  \u001b[0;31m# pylint: disable=protected-access\u001b[0m\u001b[0;34m\u001b[0m\u001b[0;34m\u001b[0m\u001b[0m\n\u001b[0m\u001b[1;32m   2421\u001b[0m \u001b[0;34m\u001b[0m\u001b[0m\n\u001b[1;32m   2422\u001b[0m   \u001b[0;34m@\u001b[0m\u001b[0mproperty\u001b[0m\u001b[0;34m\u001b[0m\u001b[0;34m\u001b[0m\u001b[0m\n",
            "\u001b[0;32m/usr/local/lib/python3.6/dist-packages/tensorflow/python/eager/function.py\u001b[0m in \u001b[0;36m_filtered_call\u001b[0;34m(self, args, kwargs)\u001b[0m\n\u001b[1;32m   1663\u001b[0m          if isinstance(t, (ops.Tensor,\n\u001b[1;32m   1664\u001b[0m                            resource_variable_ops.BaseResourceVariable))),\n\u001b[0;32m-> 1665\u001b[0;31m         self.captured_inputs)\n\u001b[0m\u001b[1;32m   1666\u001b[0m \u001b[0;34m\u001b[0m\u001b[0m\n\u001b[1;32m   1667\u001b[0m   \u001b[0;32mdef\u001b[0m \u001b[0m_call_flat\u001b[0m\u001b[0;34m(\u001b[0m\u001b[0mself\u001b[0m\u001b[0;34m,\u001b[0m \u001b[0margs\u001b[0m\u001b[0;34m,\u001b[0m \u001b[0mcaptured_inputs\u001b[0m\u001b[0;34m,\u001b[0m \u001b[0mcancellation_manager\u001b[0m\u001b[0;34m=\u001b[0m\u001b[0;32mNone\u001b[0m\u001b[0;34m)\u001b[0m\u001b[0;34m:\u001b[0m\u001b[0;34m\u001b[0m\u001b[0;34m\u001b[0m\u001b[0m\n",
            "\u001b[0;32m/usr/local/lib/python3.6/dist-packages/tensorflow/python/eager/function.py\u001b[0m in \u001b[0;36m_call_flat\u001b[0;34m(self, args, captured_inputs, cancellation_manager)\u001b[0m\n\u001b[1;32m   1744\u001b[0m       \u001b[0;31m# No tape is watching; skip to running the function.\u001b[0m\u001b[0;34m\u001b[0m\u001b[0;34m\u001b[0m\u001b[0;34m\u001b[0m\u001b[0m\n\u001b[1;32m   1745\u001b[0m       return self._build_call_outputs(self._inference_function.call(\n\u001b[0;32m-> 1746\u001b[0;31m           ctx, args, cancellation_manager=cancellation_manager))\n\u001b[0m\u001b[1;32m   1747\u001b[0m     forward_backward = self._select_forward_and_backward_functions(\n\u001b[1;32m   1748\u001b[0m         \u001b[0margs\u001b[0m\u001b[0;34m,\u001b[0m\u001b[0;34m\u001b[0m\u001b[0;34m\u001b[0m\u001b[0m\n",
            "\u001b[0;32m/usr/local/lib/python3.6/dist-packages/tensorflow/python/eager/function.py\u001b[0m in \u001b[0;36mcall\u001b[0;34m(self, ctx, args, cancellation_manager)\u001b[0m\n\u001b[1;32m    596\u001b[0m               \u001b[0minputs\u001b[0m\u001b[0;34m=\u001b[0m\u001b[0margs\u001b[0m\u001b[0;34m,\u001b[0m\u001b[0;34m\u001b[0m\u001b[0;34m\u001b[0m\u001b[0m\n\u001b[1;32m    597\u001b[0m               \u001b[0mattrs\u001b[0m\u001b[0;34m=\u001b[0m\u001b[0mattrs\u001b[0m\u001b[0;34m,\u001b[0m\u001b[0;34m\u001b[0m\u001b[0;34m\u001b[0m\u001b[0m\n\u001b[0;32m--> 598\u001b[0;31m               ctx=ctx)\n\u001b[0m\u001b[1;32m    599\u001b[0m         \u001b[0;32melse\u001b[0m\u001b[0;34m:\u001b[0m\u001b[0;34m\u001b[0m\u001b[0;34m\u001b[0m\u001b[0m\n\u001b[1;32m    600\u001b[0m           outputs = execute.execute_with_cancellation(\n",
            "\u001b[0;32m/usr/local/lib/python3.6/dist-packages/tensorflow/python/eager/execute.py\u001b[0m in \u001b[0;36mquick_execute\u001b[0;34m(op_name, num_outputs, inputs, attrs, ctx, name)\u001b[0m\n\u001b[1;32m     58\u001b[0m     \u001b[0mctx\u001b[0m\u001b[0;34m.\u001b[0m\u001b[0mensure_initialized\u001b[0m\u001b[0;34m(\u001b[0m\u001b[0;34m)\u001b[0m\u001b[0;34m\u001b[0m\u001b[0;34m\u001b[0m\u001b[0m\n\u001b[1;32m     59\u001b[0m     tensors = pywrap_tfe.TFE_Py_Execute(ctx._handle, device_name, op_name,\n\u001b[0;32m---> 60\u001b[0;31m                                         inputs, attrs, num_outputs)\n\u001b[0m\u001b[1;32m     61\u001b[0m   \u001b[0;32mexcept\u001b[0m \u001b[0mcore\u001b[0m\u001b[0;34m.\u001b[0m\u001b[0m_NotOkStatusException\u001b[0m \u001b[0;32mas\u001b[0m \u001b[0me\u001b[0m\u001b[0;34m:\u001b[0m\u001b[0;34m\u001b[0m\u001b[0;34m\u001b[0m\u001b[0m\n\u001b[1;32m     62\u001b[0m     \u001b[0;32mif\u001b[0m \u001b[0mname\u001b[0m \u001b[0;32mis\u001b[0m \u001b[0;32mnot\u001b[0m \u001b[0;32mNone\u001b[0m\u001b[0;34m:\u001b[0m\u001b[0;34m\u001b[0m\u001b[0;34m\u001b[0m\u001b[0m\n",
            "\u001b[0;31mInvalidArgumentError\u001b[0m:  Incompatible shapes: [64,1] vs. [128,1]\n\t [[node mean_squared_error/SquaredDifference (defined at <ipython-input-406-4a2e8cf6bf5a>:9) ]] [Op:__inference_train_function_1302411]\n\nFunction call stack:\ntrain_function\n"
          ]
        }
      ]
    },
    {
      "cell_type": "code",
      "metadata": {
        "id": "jdH2aotTumu6",
        "colab_type": "code",
        "colab": {
          "base_uri": "https://localhost:8080/",
          "height": 279
        },
        "outputId": "9a212304-3a73-411c-ca6b-9760abc69d68"
      },
      "source": [
        "plot_graph(history, \"loss\")"
      ],
      "execution_count": 400,
      "outputs": [
        {
          "output_type": "display_data",
          "data": {
            "image/png": "[encoded data removed]",
            "text/plain": [
              "<Figure size 432x288 with 1 Axes>"
            ]
          },
          "metadata": {
            "tags": [],
            "needs_background": "light"
          }
        }
      ]
    },
    {
      "cell_type": "code",
      "metadata": {
        "id": "S2UfCCxFuqS4",
        "colab_type": "code",
        "colab": {
          "base_uri": "https://localhost:8080/",
          "height": 425
        },
        "outputId": "91367329-fd9c-490e-ad16-7a20de78496f"
      },
      "source": [
        "recovered_model = build_GMF(embedding_dim, n_users, n_items)\n",
        "recovered_model.load_weights(tf.train.latest_checkpoint(checkpoint_dir))\n",
        "recovered_model.build(tf.TensorShape([1, None]))"
      ],
      "execution_count": 401,
      "outputs": [
        {
          "output_type": "stream",
          "text": [
            "Model: \"model_67\"\n",
            "__________________________________________________________________________________________________\n",
            "Layer (type)                    Output Shape         Param #     Connected to                     \n",
            "==================================================================================================\n",
            "input_159 (InputLayer)          [(None, 1)]          0                                            \n",
            "__________________________________________________________________________________________________\n",
            "input_160 (InputLayer)          [(None, 1)]          0                                            \n",
            "__________________________________________________________________________________________________\n",
            "embedding_174 (Embedding)       (None, 1, 100)       94300       input_159[0][0]                  \n",
            "__________________________________________________________________________________________________\n",
            "embedding_175 (Embedding)       (None, 1, 100)       168200      input_160[0][0]                  \n",
            "__________________________________________________________________________________________________\n",
            "reshape_92 (Reshape)            (None, 100)          0           embedding_174[0][0]              \n",
            "__________________________________________________________________________________________________\n",
            "reshape_93 (Reshape)            (None, 100)          0           embedding_175[0][0]              \n",
            "__________________________________________________________________________________________________\n",
            "dot_45 (Dot)                    (None, 1)            0           reshape_92[0][0]                 \n",
            "                                                                 reshape_93[0][0]                 \n",
            "==================================================================================================\n",
            "Total params: 262,500\n",
            "Trainable params: 262,500\n",
            "Non-trainable params: 0\n",
            "__________________________________________________________________________________________________\n",
            "None\n"
          ],
          "name": "stdout"
        }
      ]
    },
    {
      "cell_type": "code",
      "metadata": {
        "id": "YBS2f36HusqY",
        "colab_type": "code",
        "colab": {}
      },
      "source": [
        "prediction = recovered_model(X_test)"
      ],
      "execution_count": 0,
      "outputs": []
    },
    {
      "cell_type": "code",
      "metadata": {
        "id": "LKxxhgrSuwKa",
        "colab_type": "code",
        "colab": {
          "base_uri": "https://localhost:8080/",
          "height": 269
        },
        "outputId": "305111eb-0fc0-4f24-e24a-db187ecfd4b1"
      },
      "source": [
        "plt.plot(y_test,prediction,'o')\n",
        "plt.xlim(-1.5, 1.5)\n",
        "plt.ylim(-1.5, 1.5)\n",
        "plt.gca().set_aspect('equal', adjustable='box')"
      ],
      "execution_count": 396,
      "outputs": [
        {
          "output_type": "display_data",
          "data": {
            "image/png": "[encoded data removed]",
            "text/plain": [
              "<Figure size 432x288 with 1 Axes>"
            ]
          },
          "metadata": {
            "tags": [],
            "needs_background": "light"
          }
        }
      ]
    },
    {
      "cell_type": "markdown",
      "metadata": {
        "id": "l-xSVBBSB4AR",
        "colab_type": "text"
      },
      "source": [
        "**Part3 NCF: combining part1 and part2**"
      ]
    },
    {
      "cell_type": "code",
      "metadata": {
        "id": "4wA_oEr6CAD9",
        "colab_type": "code",
        "colab": {}
      },
      "source": [
        "def build_NCF(embedding_dim, n_users, n_items):\n",
        "  user_input = tf.keras.layers.Input(shape=(1,)) # user\n",
        "  product_input = tf.keras.layers.Input(shape=(1,)) # movie\n",
        "\n",
        "  # Embedding of GMF\n",
        "  User_embedding_gmf = tf.keras.layers.Embedding(n_users, embedding_dim,\\\n",
        "                                             embeddings_regularizer=tf.keras.regularizers.l2(1e-6))(user_input)\n",
        "  Product_embedding_gmf = tf.keras.layers.Embedding(n_items, embedding_dim, \\\n",
        "                                                embeddings_regularizer=tf.keras.regularizers.l2(1e-6))(product_input)\n",
        "\n",
        "  # Embedding of MLP\n",
        "  User_embedding_mlp = tf.keras.layers.Embedding(n_users, embedding_dim,\n",
        "                                            embeddings_initializer= \"normal\",\n",
        "                                            embeddings_regularizer=tf.keras.regularizers.l2(1e-6))(user_input)\n",
        "  Product_embedding_mlp = tf.keras.layers.Embedding(n_items, embedding_dim, \n",
        "                                                    embeddings_initializer= \"normal\",\n",
        "                                                    embeddings_regularizer=tf.keras.regularizers.l2(1e-6))(product_input)\n",
        "\n",
        "  # GMF: Matrix Multiplication\n",
        "  u = tf.keras.layers.Flatten()(User_embedding_gmf)\n",
        "  v = tf.keras.layers.Flatten()(Product_embedding_gmf)\n",
        "  output_gmf = tf.keras.layers.Dot(axes=1)([u, v])\n",
        "\n",
        "  # MLP: Concatenation of the two embedding\n",
        "  u_mlp = tf.keras.layers.Flatten()(User_embedding_mlp)\n",
        "  v_mlp = tf.keras.layers.Flatten()(Product_embedding_mlp)\n",
        "\n",
        "  u_mlp = tf.keras.layers.Dropout(0.5)(u_mlp)\n",
        "  v_mlp = tf.keras.layers.Dropout(0.5)(v_mlp)\n",
        "\n",
        "  merged_mlp = tf.keras.layers.Concatenate(axis=1)([u_mlp, v_mlp])\n",
        "\n",
        "\n",
        "  fcn = tf.keras.layers.Dense(64, activation='relu',\\\n",
        "                              kernel_regularizer=tf.keras.regularizers.l2(1e-6),\n",
        "                              activity_regularizer = tf.keras.regularizers.l2(1e-6))(merged_mlp)\n",
        "\n",
        "  fcn = tf.keras.layers.Dense(32, activation='relu',kernel_regularizer=tf.keras.regularizers.l2(1e-6))(fcn)\n",
        "\n",
        "  fcn = tf.keras.layers.Dense(16, activation='relu', kernel_regularizer=tf.keras.regularizers.l2(1e-6))(fcn)\n",
        "  output_mlp = tf.keras.layers.Dense(8, activation='relu', kernel_regularizer=tf.keras.regularizers.l2(1e-6))(fcn)\n",
        "\n",
        "  #merge two output\n",
        "  merged = tf.keras.layers.Concatenate(axis=1)([output_mlp, output_gmf])\n",
        "  output = tf.keras.layers.Dense(1, activation='sigmoid', kernel_initializer=\"lecun_uniform\")(merged)\n",
        "\n",
        "  model = tf.keras.Model(inputs=[user_input, product_input], outputs=output)\n",
        "  print(model.summary())\n",
        "  return(model)"
      ],
      "execution_count": 0,
      "outputs": []
    },
    {
      "cell_type": "code",
      "metadata": {
        "id": "RLYFMESiGfWX",
        "colab_type": "code",
        "colab": {
          "base_uri": "https://localhost:8080/",
          "height": 901
        },
        "outputId": "7a380b5d-9fe7-4d0f-e76d-128bbbbe1fb3"
      },
      "source": [
        "embedding_dim = 100\n",
        "NCF_model = build_NCF(embedding_dim, n_users, n_items)"
      ],
      "execution_count": 414,
      "outputs": [
        {
          "output_type": "stream",
          "text": [
            "Model: \"model_70\"\n",
            "__________________________________________________________________________________________________\n",
            "Layer (type)                    Output Shape         Param #     Connected to                     \n",
            "==================================================================================================\n",
            "input_169 (InputLayer)          [(None, 1)]          0                                            \n",
            "__________________________________________________________________________________________________\n",
            "input_170 (InputLayer)          [(None, 1)]          0                                            \n",
            "__________________________________________________________________________________________________\n",
            "embedding_188 (Embedding)       (None, 1, 100)       94300       input_169[0][0]                  \n",
            "__________________________________________________________________________________________________\n",
            "embedding_189 (Embedding)       (None, 1, 100)       168200      input_170[0][0]                  \n",
            "__________________________________________________________________________________________________\n",
            "flatten_70 (Flatten)            (None, 100)          0           embedding_188[0][0]              \n",
            "__________________________________________________________________________________________________\n",
            "flatten_71 (Flatten)            (None, 100)          0           embedding_189[0][0]              \n",
            "__________________________________________________________________________________________________\n",
            "dropout_40 (Dropout)            (None, 100)          0           flatten_70[0][0]                 \n",
            "__________________________________________________________________________________________________\n",
            "dropout_41 (Dropout)            (None, 100)          0           flatten_71[0][0]                 \n",
            "__________________________________________________________________________________________________\n",
            "concatenate_37 (Concatenate)    (None, 200)          0           dropout_40[0][0]                 \n",
            "                                                                 dropout_41[0][0]                 \n",
            "__________________________________________________________________________________________________\n",
            "dense_122 (Dense)               (None, 64)           12864       concatenate_37[0][0]             \n",
            "__________________________________________________________________________________________________\n",
            "dense_123 (Dense)               (None, 32)           2080        dense_122[0][0]                  \n",
            "__________________________________________________________________________________________________\n",
            "embedding_186 (Embedding)       (None, 1, 100)       94300       input_169[0][0]                  \n",
            "__________________________________________________________________________________________________\n",
            "embedding_187 (Embedding)       (None, 1, 100)       168200      input_170[0][0]                  \n",
            "__________________________________________________________________________________________________\n",
            "dense_124 (Dense)               (None, 16)           528         dense_123[0][0]                  \n",
            "__________________________________________________________________________________________________\n",
            "flatten_68 (Flatten)            (None, 100)          0           embedding_186[0][0]              \n",
            "__________________________________________________________________________________________________\n",
            "flatten_69 (Flatten)            (None, 100)          0           embedding_187[0][0]              \n",
            "__________________________________________________________________________________________________\n",
            "dense_125 (Dense)               (None, 8)            136         dense_124[0][0]                  \n",
            "__________________________________________________________________________________________________\n",
            "dot_47 (Dot)                    (None, 1)            0           flatten_68[0][0]                 \n",
            "                                                                 flatten_69[0][0]                 \n",
            "__________________________________________________________________________________________________\n",
            "concatenate_38 (Concatenate)    (None, 9)            0           dense_125[0][0]                  \n",
            "                                                                 dot_47[0][0]                     \n",
            "__________________________________________________________________________________________________\n",
            "dense_126 (Dense)               (None, 1)            10          concatenate_38[0][0]             \n",
            "==================================================================================================\n",
            "Total params: 540,618\n",
            "Trainable params: 540,618\n",
            "Non-trainable params: 0\n",
            "__________________________________________________________________________________________________\n",
            "None\n"
          ],
          "name": "stdout"
        }
      ]
    },
    {
      "cell_type": "code",
      "metadata": {
        "id": "DSO23gcRGqmA",
        "colab_type": "code",
        "colab": {
          "base_uri": "https://localhost:8080/",
          "height": 972
        },
        "outputId": "ad7e2b90-fac5-4494-d54a-7f043c407455"
      },
      "source": [
        "opt = tf.keras.optimizers.Adagrad(learning_rate=0.5)  #Use Adagrad to get faster learning rate\n",
        "# opt = tf.keras.optimizers.Adam(learning_rate=0.01)  \n",
        "\n",
        "NCF_model.compile(loss='mean_squared_error', optimizer=opt)\n",
        "\n",
        "history = NCF_model.fit(x=X_train, y=y_train,\n",
        "                  batch_size=64, epochs=500,\n",
        "                  validation_data= (X_test, y_test),\n",
        "                  callbacks=[checkpoint_callback, es])"
      ],
      "execution_count": 416,
      "outputs": [
        {
          "output_type": "stream",
          "text": [
            "Epoch 1/500\n"
          ],
          "name": "stdout"
        },
        {
          "output_type": "stream",
          "text": [
            "/usr/local/lib/python3.6/dist-packages/tensorflow/python/framework/indexed_slices.py:434: UserWarning: Converting sparse IndexedSlices to a dense Tensor of unknown shape. This may consume a large amount of memory.\n",
            "  \"Converting sparse IndexedSlices to a dense Tensor of unknown shape. \"\n"
          ],
          "name": "stderr"
        },
        {
          "output_type": "stream",
          "text": [
            "1407/1407 [==============================] - 8s 6ms/step - loss: 0.0730 - val_loss: 0.0608\n",
            "Epoch 2/500\n",
            "1407/1407 [==============================] - 8s 6ms/step - loss: 0.0607 - val_loss: 0.0563\n",
            "Epoch 3/500\n",
            "1407/1407 [==============================] - 8s 6ms/step - loss: 0.0581 - val_loss: 0.0553\n",
            "Epoch 4/500\n",
            "1407/1407 [==============================] - 8s 6ms/step - loss: 0.0568 - val_loss: 0.0551\n",
            "Epoch 5/500\n",
            "1407/1407 [==============================] - 8s 6ms/step - loss: 0.0558 - val_loss: 0.0539\n",
            "Epoch 6/500\n",
            "1407/1407 [==============================] - 8s 6ms/step - loss: 0.0553 - val_loss: 0.0539\n",
            "Epoch 7/500\n",
            "1407/1407 [==============================] - 8s 6ms/step - loss: 0.0548 - val_loss: 0.0539\n",
            "Epoch 8/500\n",
            "1407/1407 [==============================] - 8s 6ms/step - loss: 0.0543 - val_loss: 0.0535\n",
            "Epoch 9/500\n",
            "1407/1407 [==============================] - 8s 5ms/step - loss: 0.0538 - val_loss: 0.0535\n",
            "Epoch 10/500\n",
            "1407/1407 [==============================] - 8s 6ms/step - loss: 0.0536 - val_loss: 0.0535\n",
            "Epoch 11/500\n",
            "1407/1407 [==============================] - 8s 6ms/step - loss: 0.0532 - val_loss: 0.0539\n",
            "Epoch 12/500\n",
            "1407/1407 [==============================] - 8s 6ms/step - loss: 0.0530 - val_loss: 0.0531\n",
            "Epoch 13/500\n",
            "1407/1407 [==============================] - 8s 6ms/step - loss: 0.0524 - val_loss: 0.0532\n",
            "Epoch 14/500\n",
            "1407/1407 [==============================] - 8s 6ms/step - loss: 0.0519 - val_loss: 0.0532\n",
            "Epoch 15/500\n",
            "1407/1407 [==============================] - 8s 6ms/step - loss: 0.0510 - val_loss: 0.0532\n",
            "Epoch 16/500\n",
            "1407/1407 [==============================] - 8s 5ms/step - loss: 0.0495 - val_loss: 0.0531\n",
            "Epoch 17/500\n",
            "1407/1407 [==============================] - 8s 6ms/step - loss: 0.0465 - val_loss: 0.0533\n",
            "Epoch 18/500\n",
            "1407/1407 [==============================] - 8s 6ms/step - loss: 0.0404 - val_loss: 0.0537\n",
            "Epoch 19/500\n",
            "1407/1407 [==============================] - 8s 5ms/step - loss: 0.0314 - val_loss: 0.0562\n",
            "Epoch 20/500\n",
            "1407/1407 [==============================] - 8s 6ms/step - loss: 0.0227 - val_loss: 0.0599\n",
            "Epoch 21/500\n",
            "1407/1407 [==============================] - 8s 6ms/step - loss: 0.0167 - val_loss: 0.0629\n",
            "Epoch 22/500\n",
            "1407/1407 [==============================] - 8s 6ms/step - loss: 0.0127 - val_loss: 0.0659\n",
            "Epoch 23/500\n",
            "1407/1407 [==============================] - 8s 6ms/step - loss: 0.0103 - val_loss: 0.0680\n",
            "Epoch 24/500\n",
            "1407/1407 [==============================] - 8s 5ms/step - loss: 0.0087 - val_loss: 0.0698\n",
            "Epoch 25/500\n",
            "1407/1407 [==============================] - 8s 6ms/step - loss: 0.0076 - val_loss: 0.0712\n",
            "Epoch 26/500\n",
            "1407/1407 [==============================] - 8s 5ms/step - loss: 0.0068 - val_loss: 0.0725\n",
            "Epoch 00026: early stopping\n"
          ],
          "name": "stdout"
        }
      ]
    },
    {
      "cell_type": "code",
      "metadata": {
        "id": "f7cs4JZ9G8WG",
        "colab_type": "code",
        "colab": {
          "base_uri": "https://localhost:8080/",
          "height": 279
        },
        "outputId": "4118b05e-4cbe-4b6a-8d05-c13817e5b085"
      },
      "source": [
        "plot_graph(history, \"loss\")"
      ],
      "execution_count": 417,
      "outputs": [
        {
          "output_type": "display_data",
          "data": {
            "image/png": "[encoded data removed]",
            "text/plain": [
              "<Figure size 432x288 with 1 Axes>"
            ]
          },
          "metadata": {
            "tags": [],
            "needs_background": "light"
          }
        }
      ]
    },
    {
      "cell_type": "code",
      "metadata": {
        "id": "oZXV_-WOG-Ul",
        "colab_type": "code",
        "colab": {
          "base_uri": "https://localhost:8080/",
          "height": 1000
        },
        "outputId": "06900a69-90d8-4c5e-f64f-603a3b066e1b"
      },
      "source": [
        "recovered_model = build_NCF(embedding_dim, n_users, n_items)\n",
        "recovered_model.load_weights(tf.train.latest_checkpoint(checkpoint_dir))\n",
        "recovered_model.build(tf.TensorShape([1, None]))"
      ],
      "execution_count": 418,
      "outputs": [
        {
          "output_type": "stream",
          "text": [
            "WARNING:tensorflow:Unresolved object in checkpoint: (root).layer-7\n",
            "WARNING:tensorflow:Unresolved object in checkpoint: (root).layer-8\n",
            "WARNING:tensorflow:Unresolved object in checkpoint: (root).layer_with_weights-2\n",
            "WARNING:tensorflow:Unresolved object in checkpoint: (root).layer_with_weights-3\n",
            "WARNING:tensorflow:Unresolved object in checkpoint: (root).layer_with_weights-4\n",
            "WARNING:tensorflow:Unresolved object in checkpoint: (root).layer_with_weights-5\n",
            "WARNING:tensorflow:Unresolved object in checkpoint: (root).layer_with_weights-6\n",
            "WARNING:tensorflow:Unresolved object in checkpoint: (root).optimizer\n",
            "WARNING:tensorflow:Unresolved object in checkpoint: (root).layer_with_weights-2.kernel\n",
            "WARNING:tensorflow:Unresolved object in checkpoint: (root).layer_with_weights-2.bias\n",
            "WARNING:tensorflow:Unresolved object in checkpoint: (root).layer_with_weights-3.kernel\n",
            "WARNING:tensorflow:Unresolved object in checkpoint: (root).layer_with_weights-3.bias\n",
            "WARNING:tensorflow:Unresolved object in checkpoint: (root).layer_with_weights-4.kernel\n",
            "WARNING:tensorflow:Unresolved object in checkpoint: (root).layer_with_weights-4.bias\n",
            "WARNING:tensorflow:Unresolved object in checkpoint: (root).layer_with_weights-5.kernel\n",
            "WARNING:tensorflow:Unresolved object in checkpoint: (root).layer_with_weights-5.bias\n",
            "WARNING:tensorflow:Unresolved object in checkpoint: (root).layer_with_weights-6.kernel\n",
            "WARNING:tensorflow:Unresolved object in checkpoint: (root).layer_with_weights-6.bias\n",
            "WARNING:tensorflow:Unresolved object in checkpoint: (root).optimizer.iter\n",
            "WARNING:tensorflow:Unresolved object in checkpoint: (root).optimizer.beta_1\n",
            "WARNING:tensorflow:Unresolved object in checkpoint: (root).optimizer.beta_2\n",
            "WARNING:tensorflow:Unresolved object in checkpoint: (root).optimizer.decay\n",
            "WARNING:tensorflow:Unresolved object in checkpoint: (root).optimizer.learning_rate\n",
            "WARNING:tensorflow:Unresolved object in checkpoint: (root).optimizer's state 'm' for (root).layer_with_weights-0.embeddings\n",
            "WARNING:tensorflow:Unresolved object in checkpoint: (root).optimizer's state 'm' for (root).layer_with_weights-1.embeddings\n",
            "WARNING:tensorflow:Unresolved object in checkpoint: (root).optimizer's state 'm' for (root).layer_with_weights-2.kernel\n",
            "WARNING:tensorflow:Unresolved object in checkpoint: (root).optimizer's state 'm' for (root).layer_with_weights-2.bias\n",
            "WARNING:tensorflow:Unresolved object in checkpoint: (root).optimizer's state 'm' for (root).layer_with_weights-3.kernel\n",
            "WARNING:tensorflow:Unresolved object in checkpoint: (root).optimizer's state 'm' for (root).layer_with_weights-3.bias\n",
            "WARNING:tensorflow:Unresolved object in checkpoint: (root).optimizer's state 'm' for (root).layer_with_weights-4.kernel\n",
            "WARNING:tensorflow:Unresolved object in checkpoint: (root).optimizer's state 'm' for (root).layer_with_weights-4.bias\n",
            "WARNING:tensorflow:Unresolved object in checkpoint: (root).optimizer's state 'm' for (root).layer_with_weights-5.kernel\n",
            "WARNING:tensorflow:Unresolved object in checkpoint: (root).optimizer's state 'm' for (root).layer_with_weights-5.bias\n",
            "WARNING:tensorflow:Unresolved object in checkpoint: (root).optimizer's state 'm' for (root).layer_with_weights-6.kernel\n",
            "WARNING:tensorflow:Unresolved object in checkpoint: (root).optimizer's state 'm' for (root).layer_with_weights-6.bias\n",
            "WARNING:tensorflow:Unresolved object in checkpoint: (root).optimizer's state 'v' for (root).layer_with_weights-0.embeddings\n",
            "WARNING:tensorflow:Unresolved object in checkpoint: (root).optimizer's state 'v' for (root).layer_with_weights-1.embeddings\n",
            "WARNING:tensorflow:Unresolved object in checkpoint: (root).optimizer's state 'v' for (root).layer_with_weights-2.kernel\n",
            "WARNING:tensorflow:Unresolved object in checkpoint: (root).optimizer's state 'v' for (root).layer_with_weights-2.bias\n",
            "WARNING:tensorflow:Unresolved object in checkpoint: (root).optimizer's state 'v' for (root).layer_with_weights-3.kernel\n",
            "WARNING:tensorflow:Unresolved object in checkpoint: (root).optimizer's state 'v' for (root).layer_with_weights-3.bias\n",
            "WARNING:tensorflow:Unresolved object in checkpoint: (root).optimizer's state 'v' for (root).layer_with_weights-4.kernel\n",
            "WARNING:tensorflow:Unresolved object in checkpoint: (root).optimizer's state 'v' for (root).layer_with_weights-4.bias\n",
            "WARNING:tensorflow:Unresolved object in checkpoint: (root).optimizer's state 'v' for (root).layer_with_weights-5.kernel\n",
            "WARNING:tensorflow:Unresolved object in checkpoint: (root).optimizer's state 'v' for (root).layer_with_weights-5.bias\n",
            "WARNING:tensorflow:Unresolved object in checkpoint: (root).optimizer's state 'v' for (root).layer_with_weights-6.kernel\n",
            "WARNING:tensorflow:Unresolved object in checkpoint: (root).optimizer's state 'v' for (root).layer_with_weights-6.bias\n",
            "WARNING:tensorflow:A checkpoint was restored (e.g. tf.train.Checkpoint.restore or tf.keras.Model.load_weights) but not all checkpointed values were used. See above for specific issues. Use expect_partial() on the load status object, e.g. tf.train.Checkpoint.restore(...).expect_partial(), to silence these warnings, or use assert_consumed() to make the check explicit. See https://www.tensorflow.org/guide/checkpoint#loading_mechanics for details.\n",
            "WARNING:tensorflow:Unresolved object in checkpoint: (root).layer-7\n",
            "WARNING:tensorflow:Unresolved object in checkpoint: (root).layer-8\n",
            "WARNING:tensorflow:Unresolved object in checkpoint: (root).layer_with_weights-2\n",
            "WARNING:tensorflow:Unresolved object in checkpoint: (root).layer_with_weights-3\n",
            "WARNING:tensorflow:Unresolved object in checkpoint: (root).layer_with_weights-4\n",
            "WARNING:tensorflow:Unresolved object in checkpoint: (root).layer_with_weights-5\n",
            "WARNING:tensorflow:Unresolved object in checkpoint: (root).layer_with_weights-6\n",
            "WARNING:tensorflow:Unresolved object in checkpoint: (root).optimizer\n",
            "WARNING:tensorflow:Unresolved object in checkpoint: (root).layer_with_weights-2.kernel\n",
            "WARNING:tensorflow:Unresolved object in checkpoint: (root).layer_with_weights-2.bias\n",
            "WARNING:tensorflow:Unresolved object in checkpoint: (root).layer_with_weights-3.kernel\n",
            "WARNING:tensorflow:Unresolved object in checkpoint: (root).layer_with_weights-3.bias\n",
            "WARNING:tensorflow:Unresolved object in checkpoint: (root).layer_with_weights-4.kernel\n",
            "WARNING:tensorflow:Unresolved object in checkpoint: (root).layer_with_weights-4.bias\n",
            "WARNING:tensorflow:Unresolved object in checkpoint: (root).layer_with_weights-5.kernel\n",
            "WARNING:tensorflow:Unresolved object in checkpoint: (root).layer_with_weights-5.bias\n",
            "WARNING:tensorflow:Unresolved object in checkpoint: (root).layer_with_weights-6.kernel\n",
            "WARNING:tensorflow:Unresolved object in checkpoint: (root).layer_with_weights-6.bias\n",
            "WARNING:tensorflow:Unresolved object in checkpoint: (root).optimizer.iter\n",
            "WARNING:tensorflow:Unresolved object in checkpoint: (root).optimizer.beta_1\n",
            "WARNING:tensorflow:Unresolved object in checkpoint: (root).optimizer.beta_2\n",
            "WARNING:tensorflow:Unresolved object in checkpoint: (root).optimizer.decay\n",
            "WARNING:tensorflow:Unresolved object in checkpoint: (root).optimizer.learning_rate\n",
            "WARNING:tensorflow:Unresolved object in checkpoint: (root).optimizer's state 'm' for (root).layer_with_weights-0.embeddings\n",
            "WARNING:tensorflow:Unresolved object in checkpoint: (root).optimizer's state 'm' for (root).layer_with_weights-1.embeddings\n",
            "WARNING:tensorflow:Unresolved object in checkpoint: (root).optimizer's state 'm' for (root).layer_with_weights-2.kernel\n",
            "WARNING:tensorflow:Unresolved object in checkpoint: (root).optimizer's state 'm' for (root).layer_with_weights-2.bias\n",
            "WARNING:tensorflow:Unresolved object in checkpoint: (root).optimizer's state 'm' for (root).layer_with_weights-3.kernel\n",
            "WARNING:tensorflow:Unresolved object in checkpoint: (root).optimizer's state 'm' for (root).layer_with_weights-3.bias\n",
            "WARNING:tensorflow:Unresolved object in checkpoint: (root).optimizer's state 'm' for (root).layer_with_weights-4.kernel\n",
            "WARNING:tensorflow:Unresolved object in checkpoint: (root).optimizer's state 'm' for (root).layer_with_weights-4.bias\n",
            "WARNING:tensorflow:Unresolved object in checkpoint: (root).optimizer's state 'm' for (root).layer_with_weights-5.kernel\n",
            "WARNING:tensorflow:Unresolved object in checkpoint: (root).optimizer's state 'm' for (root).layer_with_weights-5.bias\n",
            "WARNING:tensorflow:Unresolved object in checkpoint: (root).optimizer's state 'm' for (root).layer_with_weights-6.kernel\n",
            "WARNING:tensorflow:Unresolved object in checkpoint: (root).optimizer's state 'm' for (root).layer_with_weights-6.bias\n",
            "WARNING:tensorflow:Unresolved object in checkpoint: (root).optimizer's state 'v' for (root).layer_with_weights-0.embeddings\n",
            "WARNING:tensorflow:Unresolved object in checkpoint: (root).optimizer's state 'v' for (root).layer_with_weights-1.embeddings\n",
            "WARNING:tensorflow:Unresolved object in checkpoint: (root).optimizer's state 'v' for (root).layer_with_weights-2.kernel\n",
            "WARNING:tensorflow:Unresolved object in checkpoint: (root).optimizer's state 'v' for (root).layer_with_weights-2.bias\n",
            "WARNING:tensorflow:Unresolved object in checkpoint: (root).optimizer's state 'v' for (root).layer_with_weights-3.kernel\n",
            "WARNING:tensorflow:Unresolved object in checkpoint: (root).optimizer's state 'v' for (root).layer_with_weights-3.bias\n",
            "WARNING:tensorflow:Unresolved object in checkpoint: (root).optimizer's state 'v' for (root).layer_with_weights-4.kernel\n",
            "WARNING:tensorflow:Unresolved object in checkpoint: (root).optimizer's state 'v' for (root).layer_with_weights-4.bias\n",
            "WARNING:tensorflow:Unresolved object in checkpoint: (root).optimizer's state 'v' for (root).layer_with_weights-5.kernel\n",
            "WARNING:tensorflow:Unresolved object in checkpoint: (root).optimizer's state 'v' for (root).layer_with_weights-5.bias\n",
            "WARNING:tensorflow:Unresolved object in checkpoint: (root).optimizer's state 'v' for (root).layer_with_weights-6.kernel\n",
            "WARNING:tensorflow:Unresolved object in checkpoint: (root).optimizer's state 'v' for (root).layer_with_weights-6.bias\n",
            "WARNING:tensorflow:A checkpoint was restored (e.g. tf.train.Checkpoint.restore or tf.keras.Model.load_weights) but not all checkpointed values were used. See above for specific issues. Use expect_partial() on the load status object, e.g. tf.train.Checkpoint.restore(...).expect_partial(), to silence these warnings, or use assert_consumed() to make the check explicit. See https://www.tensorflow.org/guide/checkpoint#loading_mechanics for details.\n",
            "WARNING:tensorflow:Unresolved object in checkpoint: (root).layer-7\n",
            "WARNING:tensorflow:Unresolved object in checkpoint: (root).layer-8\n",
            "WARNING:tensorflow:Unresolved object in checkpoint: (root).layer_with_weights-2\n",
            "WARNING:tensorflow:Unresolved object in checkpoint: (root).layer_with_weights-3\n",
            "WARNING:tensorflow:Unresolved object in checkpoint: (root).layer_with_weights-4\n",
            "WARNING:tensorflow:Unresolved object in checkpoint: (root).layer_with_weights-5\n",
            "WARNING:tensorflow:Unresolved object in checkpoint: (root).layer_with_weights-6\n",
            "WARNING:tensorflow:Unresolved object in checkpoint: (root).optimizer\n",
            "WARNING:tensorflow:Unresolved object in checkpoint: (root).layer_with_weights-2.kernel\n",
            "WARNING:tensorflow:Unresolved object in checkpoint: (root).layer_with_weights-2.bias\n",
            "WARNING:tensorflow:Unresolved object in checkpoint: (root).layer_with_weights-3.kernel\n",
            "WARNING:tensorflow:Unresolved object in checkpoint: (root).layer_with_weights-3.bias\n",
            "WARNING:tensorflow:Unresolved object in checkpoint: (root).layer_with_weights-4.kernel\n",
            "WARNING:tensorflow:Unresolved object in checkpoint: (root).layer_with_weights-4.bias\n",
            "WARNING:tensorflow:Unresolved object in checkpoint: (root).layer_with_weights-5.kernel\n",
            "WARNING:tensorflow:Unresolved object in checkpoint: (root).layer_with_weights-5.bias\n",
            "WARNING:tensorflow:Unresolved object in checkpoint: (root).layer_with_weights-6.kernel\n",
            "WARNING:tensorflow:Unresolved object in checkpoint: (root).layer_with_weights-6.bias\n",
            "WARNING:tensorflow:Unresolved object in checkpoint: (root).optimizer.iter\n",
            "WARNING:tensorflow:Unresolved object in checkpoint: (root).optimizer.beta_1\n",
            "WARNING:tensorflow:Unresolved object in checkpoint: (root).optimizer.beta_2\n",
            "WARNING:tensorflow:Unresolved object in checkpoint: (root).optimizer.decay\n",
            "WARNING:tensorflow:Unresolved object in checkpoint: (root).optimizer.learning_rate\n",
            "WARNING:tensorflow:Unresolved object in checkpoint: (root).optimizer's state 'm' for (root).layer_with_weights-0.embeddings\n",
            "WARNING:tensorflow:Unresolved object in checkpoint: (root).optimizer's state 'm' for (root).layer_with_weights-1.embeddings\n",
            "WARNING:tensorflow:Unresolved object in checkpoint: (root).optimizer's state 'm' for (root).layer_with_weights-2.kernel\n",
            "WARNING:tensorflow:Unresolved object in checkpoint: (root).optimizer's state 'm' for (root).layer_with_weights-2.bias\n",
            "WARNING:tensorflow:Unresolved object in checkpoint: (root).optimizer's state 'm' for (root).layer_with_weights-3.kernel\n",
            "WARNING:tensorflow:Unresolved object in checkpoint: (root).optimizer's state 'm' for (root).layer_with_weights-3.bias\n",
            "WARNING:tensorflow:Unresolved object in checkpoint: (root).optimizer's state 'm' for (root).layer_with_weights-4.kernel\n",
            "WARNING:tensorflow:Unresolved object in checkpoint: (root).optimizer's state 'm' for (root).layer_with_weights-4.bias\n",
            "WARNING:tensorflow:Unresolved object in checkpoint: (root).optimizer's state 'm' for (root).layer_with_weights-5.kernel\n",
            "WARNING:tensorflow:Unresolved object in checkpoint: (root).optimizer's state 'm' for (root).layer_with_weights-5.bias\n",
            "WARNING:tensorflow:Unresolved object in checkpoint: (root).optimizer's state 'm' for (root).layer_with_weights-6.kernel\n",
            "WARNING:tensorflow:Unresolved object in checkpoint: (root).optimizer's state 'm' for (root).layer_with_weights-6.bias\n",
            "WARNING:tensorflow:Unresolved object in checkpoint: (root).optimizer's state 'v' for (root).layer_with_weights-0.embeddings\n",
            "WARNING:tensorflow:Unresolved object in checkpoint: (root).optimizer's state 'v' for (root).layer_with_weights-1.embeddings\n",
            "WARNING:tensorflow:Unresolved object in checkpoint: (root).optimizer's state 'v' for (root).layer_with_weights-2.kernel\n",
            "WARNING:tensorflow:Unresolved object in checkpoint: (root).optimizer's state 'v' for (root).layer_with_weights-2.bias\n",
            "WARNING:tensorflow:Unresolved object in checkpoint: (root).optimizer's state 'v' for (root).layer_with_weights-3.kernel\n",
            "WARNING:tensorflow:Unresolved object in checkpoint: (root).optimizer's state 'v' for (root).layer_with_weights-3.bias\n",
            "WARNING:tensorflow:Unresolved object in checkpoint: (root).optimizer's state 'v' for (root).layer_with_weights-4.kernel\n",
            "WARNING:tensorflow:Unresolved object in checkpoint: (root).optimizer's state 'v' for (root).layer_with_weights-4.bias\n",
            "WARNING:tensorflow:Unresolved object in checkpoint: (root).optimizer's state 'v' for (root).layer_with_weights-5.kernel\n",
            "WARNING:tensorflow:Unresolved object in checkpoint: (root).optimizer's state 'v' for (root).layer_with_weights-5.bias\n",
            "WARNING:tensorflow:Unresolved object in checkpoint: (root).optimizer's state 'v' for (root).layer_with_weights-6.kernel\n",
            "WARNING:tensorflow:Unresolved object in checkpoint: (root).optimizer's state 'v' for (root).layer_with_weights-6.bias\n",
            "WARNING:tensorflow:A checkpoint was restored (e.g. tf.train.Checkpoint.restore or tf.keras.Model.load_weights) but not all checkpointed values were used. See above for specific issues. Use expect_partial() on the load status object, e.g. tf.train.Checkpoint.restore(...).expect_partial(), to silence these warnings, or use assert_consumed() to make the check explicit. See https://www.tensorflow.org/guide/checkpoint#loading_mechanics for details.\n",
            "Model: \"model_71\"\n",
            "__________________________________________________________________________________________________\n",
            "Layer (type)                    Output Shape         Param #     Connected to                     \n",
            "==================================================================================================\n",
            "input_171 (InputLayer)          [(None, 1)]          0                                            \n",
            "__________________________________________________________________________________________________\n",
            "input_172 (InputLayer)          [(None, 1)]          0                                            \n",
            "__________________________________________________________________________________________________\n",
            "embedding_192 (Embedding)       (None, 1, 100)       94300       input_171[0][0]                  \n",
            "__________________________________________________________________________________________________\n",
            "embedding_193 (Embedding)       (None, 1, 100)       168200      input_172[0][0]                  \n",
            "__________________________________________________________________________________________________\n",
            "flatten_74 (Flatten)            (None, 100)          0           embedding_192[0][0]              \n",
            "__________________________________________________________________________________________________\n",
            "flatten_75 (Flatten)            (None, 100)          0           embedding_193[0][0]              \n",
            "__________________________________________________________________________________________________\n",
            "dropout_42 (Dropout)            (None, 100)          0           flatten_74[0][0]                 \n",
            "__________________________________________________________________________________________________\n",
            "dropout_43 (Dropout)            (None, 100)          0           flatten_75[0][0]                 \n",
            "__________________________________________________________________________________________________\n",
            "concatenate_39 (Concatenate)    (None, 200)          0           dropout_42[0][0]                 \n",
            "                                                                 dropout_43[0][0]                 \n",
            "__________________________________________________________________________________________________\n",
            "dense_127 (Dense)               (None, 64)           12864       concatenate_39[0][0]             \n",
            "__________________________________________________________________________________________________\n",
            "dense_128 (Dense)               (None, 32)           2080        dense_127[0][0]                  \n",
            "__________________________________________________________________________________________________\n",
            "embedding_190 (Embedding)       (None, 1, 100)       94300       input_171[0][0]                  \n",
            "__________________________________________________________________________________________________\n",
            "embedding_191 (Embedding)       (None, 1, 100)       168200      input_172[0][0]                  \n",
            "__________________________________________________________________________________________________\n",
            "dense_129 (Dense)               (None, 16)           528         dense_128[0][0]                  \n",
            "__________________________________________________________________________________________________\n",
            "flatten_72 (Flatten)            (None, 100)          0           embedding_190[0][0]              \n",
            "__________________________________________________________________________________________________\n",
            "flatten_73 (Flatten)            (None, 100)          0           embedding_191[0][0]              \n",
            "__________________________________________________________________________________________________\n",
            "dense_130 (Dense)               (None, 8)            136         dense_129[0][0]                  \n",
            "__________________________________________________________________________________________________\n",
            "dot_48 (Dot)                    (None, 1)            0           flatten_72[0][0]                 \n",
            "                                                                 flatten_73[0][0]                 \n",
            "__________________________________________________________________________________________________\n",
            "concatenate_40 (Concatenate)    (None, 9)            0           dense_130[0][0]                  \n",
            "                                                                 dot_48[0][0]                     \n",
            "__________________________________________________________________________________________________\n",
            "dense_131 (Dense)               (None, 1)            10          concatenate_40[0][0]             \n",
            "==================================================================================================\n",
            "Total params: 540,618\n",
            "Trainable params: 540,618\n",
            "Non-trainable params: 0\n",
            "__________________________________________________________________________________________________\n",
            "None\n"
          ],
          "name": "stdout"
        }
      ]
    },
    {
      "cell_type": "code",
      "metadata": {
        "id": "0hEXv8NzHDWN",
        "colab_type": "code",
        "colab": {}
      },
      "source": [
        "prediction = recovered_model(X_test)"
      ],
      "execution_count": 0,
      "outputs": []
    },
    {
      "cell_type": "code",
      "metadata": {
        "id": "tIaHRlS1HFp5",
        "colab_type": "code",
        "colab": {
          "base_uri": "https://localhost:8080/",
          "height": 269
        },
        "outputId": "96192dca-599b-4ac3-ea57-d58615829f51"
      },
      "source": [
        "plt.plot(y_test,prediction,'o')\n",
        "plt.xlim(-1.5, 1.5)\n",
        "plt.ylim(-1.5, 1.5)\n",
        "plt.gca().set_aspect('equal', adjustable='box')"
      ],
      "execution_count": 420,
      "outputs": [
        {
          "output_type": "display_data",
          "data": {
            "image/png": "[encoded data removed]",
            "text/plain": [
              "<Figure size 432x288 with 1 Axes>"
            ]
          },
          "metadata": {
            "tags": [],
            "needs_background": "light"
          }
        }
      ]
    }
  ]
}