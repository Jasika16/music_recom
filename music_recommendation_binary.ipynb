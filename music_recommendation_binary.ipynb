{
  "nbformat": 4,
  "nbformat_minor": 0,
  "metadata": {
    "colab": {
      "name": "music_recommendation_binary.ipynb",
      "version": "0.3.2",
      "provenance": [],
      "collapsed_sections": [],
      "machine_shape": "hm",
      "include_colab_link": true
    },
    "kernelspec": {
      "name": "python3",
      "display_name": "Python 3"
    },
    "accelerator": "GPU"
  },
  "cells": [
    {
      "cell_type": "markdown",
      "metadata": {
        "id": "view-in-github",
        "colab_type": "text"
      },
      "source": [
        "<a href=\"https://colab.research.google.com/github/YIZHE12/music_recom/blob/master/music_recommendation_binary.ipynb\" target=\"_parent\"><img src=\"https://colab.research.google.com/assets/colab-badge.svg\" alt=\"Open In Colab\"/></a>"
      ]
    },
    {
      "cell_type": "markdown",
      "metadata": {
        "id": "ZZJR3EHm2D_0",
        "colab_type": "text"
      },
      "source": [
        "# Music recommendation system using TensorFlow and Keras"
      ]
    },
    {
      "cell_type": "markdown",
      "metadata": {
        "id": "mxTcEIB82Owz",
        "colab_type": "text"
      },
      "source": [
        "## Load all require packages "
      ]
    },
    {
      "cell_type": "code",
      "metadata": {
        "id": "QAnR5ZnGYxNB",
        "colab_type": "code",
        "outputId": "0acc0c03-408e-45e6-b11f-691be3e4b839",
        "colab": {
          "base_uri": "https://localhost:8080/",
          "height": 34
        }
      },
      "source": [
        "from __future__ import print_function\n",
        "\n",
        "import numpy as np\n",
        "import pandas as pd\n",
        "import collections\n",
        "from mpl_toolkits.mplot3d import Axes3D\n",
        "from IPython import display\n",
        "from matplotlib import pyplot as plt\n",
        "import sklearn\n",
        "import sklearn.manifold\n",
        "import tensorflow as tf\n",
        "from sklearn import preprocessing\n",
        "import time\n",
        "import seaborn as sns\n",
        "import re\n",
        "from gensim.models import word2vec\n",
        "from keras.preprocessing.text import Tokenizer\n",
        "from keras.preprocessing.sequence import pad_sequences\n",
        "from sklearn.model_selection import train_test_split\n",
        "import os\n",
        "from keras.models import Sequential\n",
        "\n",
        "from keras.layers import Embedding\n",
        "\n",
        "tf.logging.set_verbosity(tf.logging.ERROR)\n",
        "\n",
        "\n",
        "# Add some convenience functions to Pandas DataFrame.\n",
        "pd.options.display.max_rows = 10\n",
        "pd.options.display.float_format = '{:.3f}'.format\n",
        "def mask(df, key, function):\n",
        "  \"\"\"Returns a filtered dataframe, by applying function to key\"\"\"\n",
        "  return df[function(df[key])]\n",
        "\n",
        "def flatten_cols(df):\n",
        "  df.columns = [' '.join(col).strip() for col in df.columns.values]\n",
        "  return df\n",
        "\n",
        "pd.DataFrame.mask = mask\n",
        "pd.DataFrame.flatten_cols = flatten_cols\n",
        "\n",
        "\n",
        "# Install spreadsheets and import authentication module.\n",
        "USER_RATINGS = False\n",
        "!pip install --upgrade -q gspread\n",
        "from google.colab import auth\n",
        "import gspread\n",
        "from oauth2client.client import GoogleCredentials\n"
      ],
      "execution_count": 1,
      "outputs": [
        {
          "output_type": "stream",
          "text": [
            "Using TensorFlow backend.\n"
          ],
          "name": "stderr"
        }
      ]
    },
    {
      "cell_type": "markdown",
      "metadata": {
        "id": "k4ZQdaip2T7v",
        "colab_type": "text"
      },
      "source": [
        "## Load data\n",
        "\n",
        "song_df_1 is the table of user's listening record, which has columns of 'user_id',' 'song_id', 'listen_count'\n",
        "\n",
        "song_df_2 is song metadata file, which has 'song_id',\t'title',\t'release',\t'artist_name',\t'year'"
      ]
    },
    {
      "cell_type": "code",
      "metadata": {
        "id": "RdBOJSLqY34V",
        "colab_type": "code",
        "outputId": "c67a0053-8ac6-4b56-d4e9-4bd0c90cad3a",
        "colab": {
          "base_uri": "https://localhost:8080/",
          "height": 51
        }
      },
      "source": [
        "triplets_file = 'https://static.turi.com/datasets/millionsong/10000.txt'\n",
        "songs_metadata_file = 'https://static.turi.com/datasets/millionsong/song_data.csv'\n",
        "\n",
        "song_df_1 = pd.read_table(triplets_file,header=None)\n",
        "song_df_1.columns = ['user_id', 'song_id', 'listen_count']\n",
        "\n",
        "#Read song  metadata\n",
        "song_df_2 =  pd.read_csv(songs_metadata_file)"
      ],
      "execution_count": 2,
      "outputs": [
        {
          "output_type": "stream",
          "text": [
            "/usr/local/lib/python3.6/dist-packages/ipykernel_launcher.py:4: FutureWarning: read_table is deprecated, use read_csv instead, passing sep='\\t'.\n",
            "  after removing the cwd from sys.path.\n"
          ],
          "name": "stderr"
        }
      ]
    },
    {
      "cell_type": "code",
      "metadata": {
        "id": "-Lqyxlw12lVr",
        "colab_type": "code",
        "outputId": "46e12152-9ccd-4c13-f7d1-8e39689a6ee4",
        "colab": {
          "base_uri": "https://localhost:8080/",
          "height": 204
        }
      },
      "source": [
        "song_df_1.head()"
      ],
      "execution_count": 3,
      "outputs": [
        {
          "output_type": "execute_result",
          "data": {
            "text/html": [
              "<div>\n",
              "<style scoped>\n",
              "    .dataframe tbody tr th:only-of-type {\n",
              "        vertical-align: middle;\n",
              "    }\n",
              "\n",
              "    .dataframe tbody tr th {\n",
              "        vertical-align: top;\n",
              "    }\n",
              "\n",
              "    .dataframe thead th {\n",
              "        text-align: right;\n",
              "    }\n",
              "</style>\n",
              "<table border=\"1\" class=\"dataframe\">\n",
              "  <thead>\n",
              "    <tr style=\"text-align: right;\">\n",
              "      <th></th>\n",
              "      <th>user_id</th>\n",
              "      <th>song_id</th>\n",
              "      <th>listen_count</th>\n",
              "    </tr>\n",
              "  </thead>\n",
              "  <tbody>\n",
              "    <tr>\n",
              "      <th>0</th>\n",
              "      <td>b80344d063b5ccb3212f76538f3d9e43d87dca9e</td>\n",
              "      <td>SOAKIMP12A8C130995</td>\n",
              "      <td>1</td>\n",
              "    </tr>\n",
              "    <tr>\n",
              "      <th>1</th>\n",
              "      <td>b80344d063b5ccb3212f76538f3d9e43d87dca9e</td>\n",
              "      <td>SOBBMDR12A8C13253B</td>\n",
              "      <td>2</td>\n",
              "    </tr>\n",
              "    <tr>\n",
              "      <th>2</th>\n",
              "      <td>b80344d063b5ccb3212f76538f3d9e43d87dca9e</td>\n",
              "      <td>SOBXHDL12A81C204C0</td>\n",
              "      <td>1</td>\n",
              "    </tr>\n",
              "    <tr>\n",
              "      <th>3</th>\n",
              "      <td>b80344d063b5ccb3212f76538f3d9e43d87dca9e</td>\n",
              "      <td>SOBYHAJ12A6701BF1D</td>\n",
              "      <td>1</td>\n",
              "    </tr>\n",
              "    <tr>\n",
              "      <th>4</th>\n",
              "      <td>b80344d063b5ccb3212f76538f3d9e43d87dca9e</td>\n",
              "      <td>SODACBL12A8C13C273</td>\n",
              "      <td>1</td>\n",
              "    </tr>\n",
              "  </tbody>\n",
              "</table>\n",
              "</div>"
            ],
            "text/plain": [
              "                                    user_id             song_id  listen_count\n",
              "0  b80344d063b5ccb3212f76538f3d9e43d87dca9e  SOAKIMP12A8C130995             1\n",
              "1  b80344d063b5ccb3212f76538f3d9e43d87dca9e  SOBBMDR12A8C13253B             2\n",
              "2  b80344d063b5ccb3212f76538f3d9e43d87dca9e  SOBXHDL12A81C204C0             1\n",
              "3  b80344d063b5ccb3212f76538f3d9e43d87dca9e  SOBYHAJ12A6701BF1D             1\n",
              "4  b80344d063b5ccb3212f76538f3d9e43d87dca9e  SODACBL12A8C13C273             1"
            ]
          },
          "metadata": {
            "tags": []
          },
          "execution_count": 3
        }
      ]
    },
    {
      "cell_type": "code",
      "metadata": {
        "id": "Ai_bEzQR2nPu",
        "colab_type": "code",
        "outputId": "3ac7710d-b794-45de-d528-a0db92b6492b",
        "colab": {
          "base_uri": "https://localhost:8080/",
          "height": 204
        }
      },
      "source": [
        "song_df_2.head()"
      ],
      "execution_count": 4,
      "outputs": [
        {
          "output_type": "execute_result",
          "data": {
            "text/html": [
              "<div>\n",
              "<style scoped>\n",
              "    .dataframe tbody tr th:only-of-type {\n",
              "        vertical-align: middle;\n",
              "    }\n",
              "\n",
              "    .dataframe tbody tr th {\n",
              "        vertical-align: top;\n",
              "    }\n",
              "\n",
              "    .dataframe thead th {\n",
              "        text-align: right;\n",
              "    }\n",
              "</style>\n",
              "<table border=\"1\" class=\"dataframe\">\n",
              "  <thead>\n",
              "    <tr style=\"text-align: right;\">\n",
              "      <th></th>\n",
              "      <th>song_id</th>\n",
              "      <th>title</th>\n",
              "      <th>release</th>\n",
              "      <th>artist_name</th>\n",
              "      <th>year</th>\n",
              "    </tr>\n",
              "  </thead>\n",
              "  <tbody>\n",
              "    <tr>\n",
              "      <th>0</th>\n",
              "      <td>SOQMMHC12AB0180CB8</td>\n",
              "      <td>Silent Night</td>\n",
              "      <td>Monster Ballads X-Mas</td>\n",
              "      <td>Faster Pussy cat</td>\n",
              "      <td>2003</td>\n",
              "    </tr>\n",
              "    <tr>\n",
              "      <th>1</th>\n",
              "      <td>SOVFVAK12A8C1350D9</td>\n",
              "      <td>Tanssi vaan</td>\n",
              "      <td>Karkuteillä</td>\n",
              "      <td>Karkkiautomaatti</td>\n",
              "      <td>1995</td>\n",
              "    </tr>\n",
              "    <tr>\n",
              "      <th>2</th>\n",
              "      <td>SOGTUKN12AB017F4F1</td>\n",
              "      <td>No One Could Ever</td>\n",
              "      <td>Butter</td>\n",
              "      <td>Hudson Mohawke</td>\n",
              "      <td>2006</td>\n",
              "    </tr>\n",
              "    <tr>\n",
              "      <th>3</th>\n",
              "      <td>SOBNYVR12A8C13558C</td>\n",
              "      <td>Si Vos Querés</td>\n",
              "      <td>De Culo</td>\n",
              "      <td>Yerba Brava</td>\n",
              "      <td>2003</td>\n",
              "    </tr>\n",
              "    <tr>\n",
              "      <th>4</th>\n",
              "      <td>SOHSBXH12A8C13B0DF</td>\n",
              "      <td>Tangle Of Aspens</td>\n",
              "      <td>Rene Ablaze Presents Winter Sessions</td>\n",
              "      <td>Der Mystic</td>\n",
              "      <td>0</td>\n",
              "    </tr>\n",
              "  </tbody>\n",
              "</table>\n",
              "</div>"
            ],
            "text/plain": [
              "              song_id              title  ...       artist_name  year\n",
              "0  SOQMMHC12AB0180CB8       Silent Night  ...  Faster Pussy cat  2003\n",
              "1  SOVFVAK12A8C1350D9        Tanssi vaan  ...  Karkkiautomaatti  1995\n",
              "2  SOGTUKN12AB017F4F1  No One Could Ever  ...    Hudson Mohawke  2006\n",
              "3  SOBNYVR12A8C13558C      Si Vos Querés  ...       Yerba Brava  2003\n",
              "4  SOHSBXH12A8C13B0DF   Tangle Of Aspens  ...        Der Mystic     0\n",
              "\n",
              "[5 rows x 5 columns]"
            ]
          },
          "metadata": {
            "tags": []
          },
          "execution_count": 4
        }
      ]
    },
    {
      "cell_type": "code",
      "metadata": {
        "id": "e6moKECrAJSE",
        "colab_type": "code",
        "colab": {
          "base_uri": "https://localhost:8080/",
          "height": 34
        },
        "outputId": "b048a9f4-272b-4490-fc15-f17a44a144c4"
      },
      "source": [
        "len(song_df_2.artist_name.unique())"
      ],
      "execution_count": 6,
      "outputs": [
        {
          "output_type": "execute_result",
          "data": {
            "text/plain": [
              "72665"
            ]
          },
          "metadata": {
            "tags": []
          },
          "execution_count": 6
        }
      ]
    },
    {
      "cell_type": "code",
      "metadata": {
        "id": "zr_DD4WzBMRS",
        "colab_type": "code",
        "colab": {
          "base_uri": "https://localhost:8080/",
          "height": 34
        },
        "outputId": "ba3e4c87-7a4e-4be5-d30e-760e4b4e5b2e"
      },
      "source": [
        "len(song_df_2.title.unique())"
      ],
      "execution_count": 7,
      "outputs": [
        {
          "output_type": "execute_result",
          "data": {
            "text/plain": [
              "702429"
            ]
          },
          "metadata": {
            "tags": []
          },
          "execution_count": 7
        }
      ]
    },
    {
      "cell_type": "markdown",
      "metadata": {
        "id": "iwEcHEOt2q8E",
        "colab_type": "text"
      },
      "source": [
        "## Data cleaning\n",
        "The song_id and user_id is a very long string, we can increase efficiency by converting this long string to a number by label encoding\n"
      ]
    },
    {
      "cell_type": "code",
      "metadata": {
        "id": "OVhJmF-83bMu",
        "colab_type": "code",
        "colab": {}
      },
      "source": [
        "le_song_id = preprocessing.LabelEncoder()\n",
        "le_song_id.fit(song_df_2.song_id)\n",
        "song_df_2.song_id = le_song_id.transform(song_df_2.song_id)\n",
        "song_df_1.song_id = le_song_id.transform(song_df_1.song_id)"
      ],
      "execution_count": 0,
      "outputs": []
    },
    {
      "cell_type": "code",
      "metadata": {
        "id": "fE5ZoPGN8Kcb",
        "colab_type": "code",
        "colab": {}
      },
      "source": [
        "le_user_id = preprocessing.LabelEncoder()\n",
        "song_df_1.user_id = le_user_id.fit_transform(song_df_1.user_id)"
      ],
      "execution_count": 0,
      "outputs": []
    },
    {
      "cell_type": "markdown",
      "metadata": {
        "id": "PX-Hk4Zj2yk0",
        "colab_type": "text"
      },
      "source": [
        "## Merge two dataset"
      ]
    },
    {
      "cell_type": "code",
      "metadata": {
        "id": "NcqcUkwGxT9u",
        "colab_type": "code",
        "colab": {}
      },
      "source": [
        "#Merge the two dataframes above to create input dataframe for recommender systems\n",
        "song_df = pd.merge(song_df_1, \\\n",
        "                   song_df_2.drop_duplicates(['song_id']), \\\n",
        "                   on=\"song_id\", how=\"left\")"
      ],
      "execution_count": 0,
      "outputs": []
    },
    {
      "cell_type": "code",
      "metadata": {
        "id": "wowg9erxZXor",
        "colab_type": "code",
        "outputId": "f2371401-e315-4b6b-b5da-4f27396103f7",
        "colab": {
          "base_uri": "https://localhost:8080/",
          "height": 204
        }
      },
      "source": [
        "song_df.head()"
      ],
      "execution_count": 8,
      "outputs": [
        {
          "output_type": "execute_result",
          "data": {
            "text/html": [
              "<div>\n",
              "<style scoped>\n",
              "    .dataframe tbody tr th:only-of-type {\n",
              "        vertical-align: middle;\n",
              "    }\n",
              "\n",
              "    .dataframe tbody tr th {\n",
              "        vertical-align: top;\n",
              "    }\n",
              "\n",
              "    .dataframe thead th {\n",
              "        text-align: right;\n",
              "    }\n",
              "</style>\n",
              "<table border=\"1\" class=\"dataframe\">\n",
              "  <thead>\n",
              "    <tr style=\"text-align: right;\">\n",
              "      <th></th>\n",
              "      <th>user_id</th>\n",
              "      <th>song_id</th>\n",
              "      <th>listen_count</th>\n",
              "      <th>title</th>\n",
              "      <th>release</th>\n",
              "      <th>artist_name</th>\n",
              "      <th>year</th>\n",
              "    </tr>\n",
              "  </thead>\n",
              "  <tbody>\n",
              "    <tr>\n",
              "      <th>0</th>\n",
              "      <td>54961</td>\n",
              "      <td>17370</td>\n",
              "      <td>1</td>\n",
              "      <td>The Cove</td>\n",
              "      <td>Thicker Than Water</td>\n",
              "      <td>Jack Johnson</td>\n",
              "      <td>0</td>\n",
              "    </tr>\n",
              "    <tr>\n",
              "      <th>1</th>\n",
              "      <td>54961</td>\n",
              "      <td>45995</td>\n",
              "      <td>2</td>\n",
              "      <td>Entre Dos Aguas</td>\n",
              "      <td>Flamenco Para Niños</td>\n",
              "      <td>Paco De Lucia</td>\n",
              "      <td>1976</td>\n",
              "    </tr>\n",
              "    <tr>\n",
              "      <th>2</th>\n",
              "      <td>54961</td>\n",
              "      <td>82002</td>\n",
              "      <td>1</td>\n",
              "      <td>Stronger</td>\n",
              "      <td>Graduation</td>\n",
              "      <td>Kanye West</td>\n",
              "      <td>2007</td>\n",
              "    </tr>\n",
              "    <tr>\n",
              "      <th>3</th>\n",
              "      <td>54961</td>\n",
              "      <td>83689</td>\n",
              "      <td>1</td>\n",
              "      <td>Constellations</td>\n",
              "      <td>In Between Dreams</td>\n",
              "      <td>Jack Johnson</td>\n",
              "      <td>2005</td>\n",
              "    </tr>\n",
              "    <tr>\n",
              "      <th>4</th>\n",
              "      <td>54961</td>\n",
              "      <td>129375</td>\n",
              "      <td>1</td>\n",
              "      <td>Learn To Fly</td>\n",
              "      <td>There Is Nothing Left To Lose</td>\n",
              "      <td>Foo Fighters</td>\n",
              "      <td>1999</td>\n",
              "    </tr>\n",
              "  </tbody>\n",
              "</table>\n",
              "</div>"
            ],
            "text/plain": [
              "   user_id  song_id  ...    artist_name  year\n",
              "0    54961    17370  ...   Jack Johnson     0\n",
              "1    54961    45995  ...  Paco De Lucia  1976\n",
              "2    54961    82002  ...     Kanye West  2007\n",
              "3    54961    83689  ...   Jack Johnson  2005\n",
              "4    54961   129375  ...   Foo Fighters  1999\n",
              "\n",
              "[5 rows x 7 columns]"
            ]
          },
          "metadata": {
            "tags": []
          },
          "execution_count": 8
        }
      ]
    },
    {
      "cell_type": "code",
      "metadata": {
        "id": "QWeX6_IjZeq-",
        "colab_type": "code",
        "outputId": "5b17e1c6-c8b1-4981-d7db-e221c191e36b",
        "colab": {
          "base_uri": "https://localhost:8080/",
          "height": 419
        }
      },
      "source": [
        "song_df.describe(include=[np.int, np.object])"
      ],
      "execution_count": 12,
      "outputs": [
        {
          "output_type": "execute_result",
          "data": {
            "text/html": [
              "<div>\n",
              "<style scoped>\n",
              "    .dataframe tbody tr th:only-of-type {\n",
              "        vertical-align: middle;\n",
              "    }\n",
              "\n",
              "    .dataframe tbody tr th {\n",
              "        vertical-align: top;\n",
              "    }\n",
              "\n",
              "    .dataframe thead th {\n",
              "        text-align: right;\n",
              "    }\n",
              "</style>\n",
              "<table border=\"1\" class=\"dataframe\">\n",
              "  <thead>\n",
              "    <tr style=\"text-align: right;\">\n",
              "      <th></th>\n",
              "      <th>user_id</th>\n",
              "      <th>song_id</th>\n",
              "      <th>listen_count</th>\n",
              "      <th>title</th>\n",
              "      <th>release</th>\n",
              "      <th>artist_name</th>\n",
              "      <th>year</th>\n",
              "    </tr>\n",
              "  </thead>\n",
              "  <tbody>\n",
              "    <tr>\n",
              "      <th>count</th>\n",
              "      <td>2000000.000</td>\n",
              "      <td>2000000.000</td>\n",
              "      <td>2000000.000</td>\n",
              "      <td>2000000</td>\n",
              "      <td>2000000</td>\n",
              "      <td>2000000</td>\n",
              "      <td>2000000.000</td>\n",
              "    </tr>\n",
              "    <tr>\n",
              "      <th>unique</th>\n",
              "      <td>nan</td>\n",
              "      <td>nan</td>\n",
              "      <td>nan</td>\n",
              "      <td>9567</td>\n",
              "      <td>5388</td>\n",
              "      <td>3375</td>\n",
              "      <td>nan</td>\n",
              "    </tr>\n",
              "    <tr>\n",
              "      <th>top</th>\n",
              "      <td>nan</td>\n",
              "      <td>nan</td>\n",
              "      <td>nan</td>\n",
              "      <td>Sehr kosmisch</td>\n",
              "      <td>Greatest Hits</td>\n",
              "      <td>Coldplay</td>\n",
              "      <td>nan</td>\n",
              "    </tr>\n",
              "    <tr>\n",
              "      <th>freq</th>\n",
              "      <td>nan</td>\n",
              "      <td>nan</td>\n",
              "      <td>nan</td>\n",
              "      <td>8277</td>\n",
              "      <td>15692</td>\n",
              "      <td>29422</td>\n",
              "      <td>nan</td>\n",
              "    </tr>\n",
              "    <tr>\n",
              "      <th>mean</th>\n",
              "      <td>38135.988</td>\n",
              "      <td>509769.531</td>\n",
              "      <td>3.045</td>\n",
              "      <td>NaN</td>\n",
              "      <td>NaN</td>\n",
              "      <td>NaN</td>\n",
              "      <td>1628.645</td>\n",
              "    </tr>\n",
              "    <tr>\n",
              "      <th>...</th>\n",
              "      <td>...</td>\n",
              "      <td>...</td>\n",
              "      <td>...</td>\n",
              "      <td>...</td>\n",
              "      <td>...</td>\n",
              "      <td>...</td>\n",
              "      <td>...</td>\n",
              "    </tr>\n",
              "    <tr>\n",
              "      <th>min</th>\n",
              "      <td>0.000</td>\n",
              "      <td>19.000</td>\n",
              "      <td>1.000</td>\n",
              "      <td>NaN</td>\n",
              "      <td>NaN</td>\n",
              "      <td>NaN</td>\n",
              "      <td>0.000</td>\n",
              "    </tr>\n",
              "    <tr>\n",
              "      <th>25%</th>\n",
              "      <td>19112.000</td>\n",
              "      <td>262268.000</td>\n",
              "      <td>1.000</td>\n",
              "      <td>NaN</td>\n",
              "      <td>NaN</td>\n",
              "      <td>NaN</td>\n",
              "      <td>1984.000</td>\n",
              "    </tr>\n",
              "    <tr>\n",
              "      <th>50%</th>\n",
              "      <td>37949.000</td>\n",
              "      <td>523210.000</td>\n",
              "      <td>1.000</td>\n",
              "      <td>NaN</td>\n",
              "      <td>NaN</td>\n",
              "      <td>NaN</td>\n",
              "      <td>2002.000</td>\n",
              "    </tr>\n",
              "    <tr>\n",
              "      <th>75%</th>\n",
              "      <td>57135.000</td>\n",
              "      <td>760352.000</td>\n",
              "      <td>3.000</td>\n",
              "      <td>NaN</td>\n",
              "      <td>NaN</td>\n",
              "      <td>NaN</td>\n",
              "      <td>2007.000</td>\n",
              "    </tr>\n",
              "    <tr>\n",
              "      <th>max</th>\n",
              "      <td>76352.000</td>\n",
              "      <td>999036.000</td>\n",
              "      <td>2213.000</td>\n",
              "      <td>NaN</td>\n",
              "      <td>NaN</td>\n",
              "      <td>NaN</td>\n",
              "      <td>2010.000</td>\n",
              "    </tr>\n",
              "  </tbody>\n",
              "</table>\n",
              "<p>11 rows × 7 columns</p>\n",
              "</div>"
            ],
            "text/plain": [
              "           user_id     song_id  ...  artist_name        year\n",
              "count  2000000.000 2000000.000  ...      2000000 2000000.000\n",
              "unique         nan         nan  ...         3375         nan\n",
              "top            nan         nan  ...     Coldplay         nan\n",
              "freq           nan         nan  ...        29422         nan\n",
              "mean     38135.988  509769.531  ...          NaN    1628.645\n",
              "...            ...         ...  ...          ...         ...\n",
              "min          0.000      19.000  ...          NaN       0.000\n",
              "25%      19112.000  262268.000  ...          NaN    1984.000\n",
              "50%      37949.000  523210.000  ...          NaN    2002.000\n",
              "75%      57135.000  760352.000  ...          NaN    2007.000\n",
              "max      76352.000  999036.000  ...          NaN    2010.000\n",
              "\n",
              "[11 rows x 7 columns]"
            ]
          },
          "metadata": {
            "tags": []
          },
          "execution_count": 12
        }
      ]
    },
    {
      "cell_type": "code",
      "metadata": {
        "id": "Bt0KGlXxKzyF",
        "colab_type": "code",
        "colab": {}
      },
      "source": [
        "song_df = song_df.fillna(value=0)"
      ],
      "execution_count": 0,
      "outputs": []
    },
    {
      "cell_type": "markdown",
      "metadata": {
        "id": "Cl5N_TjyL5YN",
        "colab_type": "text"
      },
      "source": [
        "#### Hiistogram of listen_count In log scale"
      ]
    },
    {
      "cell_type": "code",
      "metadata": {
        "id": "aglPQB3MKgx5",
        "colab_type": "code",
        "colab": {
          "base_uri": "https://localhost:8080/",
          "height": 284
        },
        "outputId": "39d8ad48-9f7d-4524-ce1c-dbcdae6006a0"
      },
      "source": [
        "g = sns.distplot(song_df.listen_count, kde=False, rug=False)\n",
        "g.set_yscale('log')"
      ],
      "execution_count": 14,
      "outputs": [
        {
          "output_type": "display_data",
          "data": {
            "image/png": "[encoded data removed]",
            "text/plain": [
              "<Figure size 432x288 with 1 Axes>"
            ]
          },
          "metadata": {
            "tags": []
          }
        }
      ]
    },
    {
      "cell_type": "markdown",
      "metadata": {
        "id": "J13lkvXM26DW",
        "colab_type": "text"
      },
      "source": [
        "#### number of unique user"
      ]
    },
    {
      "cell_type": "code",
      "metadata": {
        "id": "4AtCaBPieXZY",
        "colab_type": "code",
        "outputId": "5959aac3-7b0e-40f1-9422-0fd97b43aeed",
        "colab": {
          "base_uri": "https://localhost:8080/",
          "height": 34
        }
      },
      "source": [
        "len(pd.unique(song_df.user_id))"
      ],
      "execution_count": 15,
      "outputs": [
        {
          "output_type": "execute_result",
          "data": {
            "text/plain": [
              "76353"
            ]
          },
          "metadata": {
            "tags": []
          },
          "execution_count": 15
        }
      ]
    },
    {
      "cell_type": "markdown",
      "metadata": {
        "id": "NLLqbm9Y29lX",
        "colab_type": "text"
      },
      "source": [
        "#### number of unique song"
      ]
    },
    {
      "cell_type": "code",
      "metadata": {
        "id": "fmGrE3xdx1dL",
        "colab_type": "code",
        "outputId": "eedcf8ce-b81b-4ec1-998a-f3b5a4ffc857",
        "colab": {
          "base_uri": "https://localhost:8080/",
          "height": 34
        }
      },
      "source": [
        "len(pd.unique(song_df.song_id))"
      ],
      "execution_count": 16,
      "outputs": [
        {
          "output_type": "execute_result",
          "data": {
            "text/plain": [
              "10000"
            ]
          },
          "metadata": {
            "tags": []
          },
          "execution_count": 16
        }
      ]
    },
    {
      "cell_type": "markdown",
      "metadata": {
        "id": "eTvpu-lP3UPl",
        "colab_type": "text"
      },
      "source": [
        "#### check the most popular songs "
      ]
    },
    {
      "cell_type": "code",
      "metadata": {
        "id": "ybX1pbb5_tKi",
        "colab_type": "code",
        "colab": {}
      },
      "source": [
        "song_ratings = song_df_2.merge(\n",
        "    song_df\n",
        "    .groupby('song_id', as_index=False)\n",
        "    .agg({'listen_count': ['count', 'mean']})\n",
        "    .flatten_cols(),\n",
        "    on='song_id')\n"
      ],
      "execution_count": 0,
      "outputs": []
    },
    {
      "cell_type": "code",
      "metadata": {
        "id": "3NTCIOsnACfN",
        "colab_type": "code",
        "colab": {}
      },
      "source": [
        "sorted_song = (song_ratings[['title', 'listen_count count', 'listen_count mean']]\n",
        " .sort_values('listen_count count', ascending=False))"
      ],
      "execution_count": 0,
      "outputs": []
    },
    {
      "cell_type": "code",
      "metadata": {
        "id": "_p4hPyBnMxhe",
        "colab_type": "code",
        "colab": {
          "base_uri": "https://localhost:8080/",
          "height": 359
        },
        "outputId": "643d69cd-7645-436b-b136-20860a18227d"
      },
      "source": [
        " sorted_song.head(10)"
      ],
      "execution_count": 19,
      "outputs": [
        {
          "output_type": "execute_result",
          "data": {
            "text/html": [
              "<div>\n",
              "<style scoped>\n",
              "    .dataframe tbody tr th:only-of-type {\n",
              "        vertical-align: middle;\n",
              "    }\n",
              "\n",
              "    .dataframe tbody tr th {\n",
              "        vertical-align: top;\n",
              "    }\n",
              "\n",
              "    .dataframe thead th {\n",
              "        text-align: right;\n",
              "    }\n",
              "</style>\n",
              "<table border=\"1\" class=\"dataframe\">\n",
              "  <thead>\n",
              "    <tr style=\"text-align: right;\">\n",
              "      <th></th>\n",
              "      <th>title</th>\n",
              "      <th>listen_count count</th>\n",
              "      <th>listen_count mean</th>\n",
              "    </tr>\n",
              "  </thead>\n",
              "  <tbody>\n",
              "    <tr>\n",
              "      <th>8364</th>\n",
              "      <td>Sehr kosmisch</td>\n",
              "      <td>8277</td>\n",
              "      <td>3.750</td>\n",
              "    </tr>\n",
              "    <tr>\n",
              "      <th>1197</th>\n",
              "      <td>Undo</td>\n",
              "      <td>7032</td>\n",
              "      <td>7.004</td>\n",
              "    </tr>\n",
              "    <tr>\n",
              "      <th>1625</th>\n",
              "      <td>Dog Days Are Over (Radio Edit)</td>\n",
              "      <td>6949</td>\n",
              "      <td>3.837</td>\n",
              "    </tr>\n",
              "    <tr>\n",
              "      <th>4755</th>\n",
              "      <td>You're The One</td>\n",
              "      <td>6412</td>\n",
              "      <td>8.443</td>\n",
              "    </tr>\n",
              "    <tr>\n",
              "      <th>8933</th>\n",
              "      <td>Revelry</td>\n",
              "      <td>6145</td>\n",
              "      <td>6.740</td>\n",
              "    </tr>\n",
              "    <tr>\n",
              "      <th>8902</th>\n",
              "      <td>Secrets</td>\n",
              "      <td>5841</td>\n",
              "      <td>3.784</td>\n",
              "    </tr>\n",
              "    <tr>\n",
              "      <th>6483</th>\n",
              "      <td>Horn Concerto No. 4 in E flat K495: II. Romanc...</td>\n",
              "      <td>5385</td>\n",
              "      <td>5.785</td>\n",
              "    </tr>\n",
              "    <tr>\n",
              "      <th>8269</th>\n",
              "      <td>Fireflies</td>\n",
              "      <td>4795</td>\n",
              "      <td>3.048</td>\n",
              "    </tr>\n",
              "    <tr>\n",
              "      <th>8054</th>\n",
              "      <td>Hey_ Soul Sister</td>\n",
              "      <td>4758</td>\n",
              "      <td>3.257</td>\n",
              "    </tr>\n",
              "    <tr>\n",
              "      <th>5869</th>\n",
              "      <td>Tive Sim</td>\n",
              "      <td>4548</td>\n",
              "      <td>3.171</td>\n",
              "    </tr>\n",
              "  </tbody>\n",
              "</table>\n",
              "</div>"
            ],
            "text/plain": [
              "                                                  title  ...  listen_count mean\n",
              "8364                                      Sehr kosmisch  ...              3.750\n",
              "1197                                               Undo  ...              7.004\n",
              "1625                     Dog Days Are Over (Radio Edit)  ...              3.837\n",
              "4755                                     You're The One  ...              8.443\n",
              "8933                                            Revelry  ...              6.740\n",
              "8902                                            Secrets  ...              3.784\n",
              "6483  Horn Concerto No. 4 in E flat K495: II. Romanc...  ...              5.785\n",
              "8269                                          Fireflies  ...              3.048\n",
              "8054                                   Hey_ Soul Sister  ...              3.257\n",
              "5869                                           Tive Sim  ...              3.171\n",
              "\n",
              "[10 rows x 3 columns]"
            ]
          },
          "metadata": {
            "tags": []
          },
          "execution_count": 19
        }
      ]
    },
    {
      "cell_type": "markdown",
      "metadata": {
        "id": "Iv8qWjSIMi7c",
        "colab_type": "text"
      },
      "source": [
        "## Data Normalization\n",
        "\n",
        "The maximum number of 'listen_count' is 8277, while the minimal is 0. This large range will create problems for the model and require normalization. \n",
        "\n",
        "Here, I first grouped the data by user then normalized the listen_count value."
      ]
    },
    {
      "cell_type": "code",
      "metadata": {
        "id": "58utJ9rDMbT4",
        "colab_type": "code",
        "colab": {
          "base_uri": "https://localhost:8080/",
          "height": 204
        },
        "outputId": "701becc9-b6c0-4997-fe98-249ed07c2d9e"
      },
      "source": [
        "zscore = lambda x: (x - x.mean()) / x.std() \n",
        "# min_max = lambda x: (x - x.min()) / (x.max() - x.min())\n",
        "norm = song_df.groupby('user_id').transform(zscore)\n",
        "song_df.listen_count = norm.listen_count \n",
        "\n",
        "song_df.head()"
      ],
      "execution_count": 10,
      "outputs": [
        {
          "output_type": "execute_result",
          "data": {
            "text/html": [
              "<div>\n",
              "<style scoped>\n",
              "    .dataframe tbody tr th:only-of-type {\n",
              "        vertical-align: middle;\n",
              "    }\n",
              "\n",
              "    .dataframe tbody tr th {\n",
              "        vertical-align: top;\n",
              "    }\n",
              "\n",
              "    .dataframe thead th {\n",
              "        text-align: right;\n",
              "    }\n",
              "</style>\n",
              "<table border=\"1\" class=\"dataframe\">\n",
              "  <thead>\n",
              "    <tr style=\"text-align: right;\">\n",
              "      <th></th>\n",
              "      <th>user_id</th>\n",
              "      <th>song_id</th>\n",
              "      <th>listen_count</th>\n",
              "      <th>title</th>\n",
              "      <th>release</th>\n",
              "      <th>artist_name</th>\n",
              "      <th>year</th>\n",
              "    </tr>\n",
              "  </thead>\n",
              "  <tbody>\n",
              "    <tr>\n",
              "      <th>0</th>\n",
              "      <td>54961</td>\n",
              "      <td>17370</td>\n",
              "      <td>-0.367</td>\n",
              "      <td>The Cove</td>\n",
              "      <td>Thicker Than Water</td>\n",
              "      <td>Jack Johnson</td>\n",
              "      <td>0</td>\n",
              "    </tr>\n",
              "    <tr>\n",
              "      <th>1</th>\n",
              "      <td>54961</td>\n",
              "      <td>45995</td>\n",
              "      <td>0.268</td>\n",
              "      <td>Entre Dos Aguas</td>\n",
              "      <td>Flamenco Para Niños</td>\n",
              "      <td>Paco De Lucia</td>\n",
              "      <td>1976</td>\n",
              "    </tr>\n",
              "    <tr>\n",
              "      <th>2</th>\n",
              "      <td>54961</td>\n",
              "      <td>82002</td>\n",
              "      <td>-0.367</td>\n",
              "      <td>Stronger</td>\n",
              "      <td>Graduation</td>\n",
              "      <td>Kanye West</td>\n",
              "      <td>2007</td>\n",
              "    </tr>\n",
              "    <tr>\n",
              "      <th>3</th>\n",
              "      <td>54961</td>\n",
              "      <td>83689</td>\n",
              "      <td>-0.367</td>\n",
              "      <td>Constellations</td>\n",
              "      <td>In Between Dreams</td>\n",
              "      <td>Jack Johnson</td>\n",
              "      <td>2005</td>\n",
              "    </tr>\n",
              "    <tr>\n",
              "      <th>4</th>\n",
              "      <td>54961</td>\n",
              "      <td>129375</td>\n",
              "      <td>-0.367</td>\n",
              "      <td>Learn To Fly</td>\n",
              "      <td>There Is Nothing Left To Lose</td>\n",
              "      <td>Foo Fighters</td>\n",
              "      <td>1999</td>\n",
              "    </tr>\n",
              "  </tbody>\n",
              "</table>\n",
              "</div>"
            ],
            "text/plain": [
              "   user_id  song_id  ...    artist_name  year\n",
              "0    54961    17370  ...   Jack Johnson     0\n",
              "1    54961    45995  ...  Paco De Lucia  1976\n",
              "2    54961    82002  ...     Kanye West  2007\n",
              "3    54961    83689  ...   Jack Johnson  2005\n",
              "4    54961   129375  ...   Foo Fighters  1999\n",
              "\n",
              "[5 rows x 7 columns]"
            ]
          },
          "metadata": {
            "tags": []
          },
          "execution_count": 10
        }
      ]
    },
    {
      "cell_type": "code",
      "metadata": {
        "id": "gHF0vSN0sQsV",
        "colab_type": "code",
        "colab": {
          "base_uri": "https://localhost:8080/",
          "height": 204
        },
        "outputId": "fa406d2d-5ed3-4293-ea02-eaef178d7a2a"
      },
      "source": [
        "min_max = lambda x: (x - x.min()) / (x.max() - x.min())\n",
        "norm = song_df.groupby('user_id').transform(min_max)\n",
        "\n",
        "song_df.listen_count = norm.listen_count \n",
        "\n",
        "song_df.head()"
      ],
      "execution_count": 11,
      "outputs": [
        {
          "output_type": "execute_result",
          "data": {
            "text/html": [
              "<div>\n",
              "<style scoped>\n",
              "    .dataframe tbody tr th:only-of-type {\n",
              "        vertical-align: middle;\n",
              "    }\n",
              "\n",
              "    .dataframe tbody tr th {\n",
              "        vertical-align: top;\n",
              "    }\n",
              "\n",
              "    .dataframe thead th {\n",
              "        text-align: right;\n",
              "    }\n",
              "</style>\n",
              "<table border=\"1\" class=\"dataframe\">\n",
              "  <thead>\n",
              "    <tr style=\"text-align: right;\">\n",
              "      <th></th>\n",
              "      <th>user_id</th>\n",
              "      <th>song_id</th>\n",
              "      <th>listen_count</th>\n",
              "      <th>title</th>\n",
              "      <th>release</th>\n",
              "      <th>artist_name</th>\n",
              "      <th>year</th>\n",
              "    </tr>\n",
              "  </thead>\n",
              "  <tbody>\n",
              "    <tr>\n",
              "      <th>0</th>\n",
              "      <td>54961</td>\n",
              "      <td>17370</td>\n",
              "      <td>0.000</td>\n",
              "      <td>The Cove</td>\n",
              "      <td>Thicker Than Water</td>\n",
              "      <td>Jack Johnson</td>\n",
              "      <td>0</td>\n",
              "    </tr>\n",
              "    <tr>\n",
              "      <th>1</th>\n",
              "      <td>54961</td>\n",
              "      <td>45995</td>\n",
              "      <td>0.143</td>\n",
              "      <td>Entre Dos Aguas</td>\n",
              "      <td>Flamenco Para Niños</td>\n",
              "      <td>Paco De Lucia</td>\n",
              "      <td>1976</td>\n",
              "    </tr>\n",
              "    <tr>\n",
              "      <th>2</th>\n",
              "      <td>54961</td>\n",
              "      <td>82002</td>\n",
              "      <td>0.000</td>\n",
              "      <td>Stronger</td>\n",
              "      <td>Graduation</td>\n",
              "      <td>Kanye West</td>\n",
              "      <td>2007</td>\n",
              "    </tr>\n",
              "    <tr>\n",
              "      <th>3</th>\n",
              "      <td>54961</td>\n",
              "      <td>83689</td>\n",
              "      <td>0.000</td>\n",
              "      <td>Constellations</td>\n",
              "      <td>In Between Dreams</td>\n",
              "      <td>Jack Johnson</td>\n",
              "      <td>2005</td>\n",
              "    </tr>\n",
              "    <tr>\n",
              "      <th>4</th>\n",
              "      <td>54961</td>\n",
              "      <td>129375</td>\n",
              "      <td>0.000</td>\n",
              "      <td>Learn To Fly</td>\n",
              "      <td>There Is Nothing Left To Lose</td>\n",
              "      <td>Foo Fighters</td>\n",
              "      <td>1999</td>\n",
              "    </tr>\n",
              "  </tbody>\n",
              "</table>\n",
              "</div>"
            ],
            "text/plain": [
              "   user_id  song_id  ...    artist_name  year\n",
              "0    54961    17370  ...   Jack Johnson     0\n",
              "1    54961    45995  ...  Paco De Lucia  1976\n",
              "2    54961    82002  ...     Kanye West  2007\n",
              "3    54961    83689  ...   Jack Johnson  2005\n",
              "4    54961   129375  ...   Foo Fighters  1999\n",
              "\n",
              "[5 rows x 7 columns]"
            ]
          },
          "metadata": {
            "tags": []
          },
          "execution_count": 11
        }
      ]
    },
    {
      "cell_type": "code",
      "metadata": {
        "id": "ocUqYTUTnwf8",
        "colab_type": "code",
        "colab": {}
      },
      "source": [
        "song_df = song_df.fillna(value=0)"
      ],
      "execution_count": 0,
      "outputs": []
    },
    {
      "cell_type": "markdown",
      "metadata": {
        "id": "We_mT9Id3eMK",
        "colab_type": "text"
      },
      "source": [
        "# Build a collaborative filtering model"
      ]
    },
    {
      "cell_type": "markdown",
      "metadata": {
        "id": "FIaxxHdKF76H",
        "colab_type": "text"
      },
      "source": [
        "## CFModel (Collaborative Filtering Model) helper class\n",
        "This is a simple class to train a matrix factorization model using stochastic gradient descent.\n",
        "\n",
        "The class constructor takes\n",
        "- the user embeddings U (a `tf.Variable`).\n",
        "- the song embeddings V, (a `tf.Variable`).\n",
        "- a loss to optimize (a `tf.Tensor`).\n",
        "- an optional list of metrics dictionaries, each mapping a string (the name of the metric) to a tensor. These are evaluated and plotted during training (e.g. training error and test error).\n",
        "\n",
        "After training, one can access the trained embeddings using the `model.embeddings` dictionary.\n",
        "\n",
        "Example usage:\n",
        "```\n",
        "U_var = ...\n",
        "V_var = ...\n",
        "loss = ...\n",
        "model = CFModel(U_var, V_var, loss)\n",
        "model.train(iterations=100, learning_rate=1.0)\n",
        "user_embeddings = model.embeddings['user_id']\n",
        "song_embeddings = model.embeddings['song_id']\n",
        "```"
      ]
    },
    {
      "cell_type": "code",
      "metadata": {
        "id": "7KiM_m4dvw70",
        "colab_type": "code",
        "colab": {}
      },
      "source": [
        "# Utility to split the data into training and test sets.\n",
        "def split_dataframe(df, holdout_fraction=0.1):\n",
        "  \"\"\"Splits a DataFrame into training and test sets.\n",
        "  Args:\n",
        "    df: a dataframe.\n",
        "    holdout_fraction: fraction of dataframe rows to use in the test set.\n",
        "  Returns:\n",
        "    train: dataframe for training\n",
        "    test: dataframe for testing\n",
        "  \"\"\"\n",
        "  test = df.sample(frac=holdout_fraction, replace=False)\n",
        "  train = df[~df.index.isin(test.index)]\n",
        "  return train, test"
      ],
      "execution_count": 0,
      "outputs": []
    },
    {
      "cell_type": "code",
      "metadata": {
        "id": "hrlFIa9aejxg",
        "colab_type": "code",
        "colab": {}
      },
      "source": [
        "def build_rating_sparse_tensor(song_df):\n",
        "  \"\"\"\n",
        "  Args:\n",
        "    ratings_df: a pd.DataFrame with `user_id`, `song_id` and `listen_count` columns.\n",
        "  Returns:\n",
        "    a tf.SparseTensor representing the ratings matrix.\n",
        "  \"\"\"\n",
        "  indices = song_df[['user_id', 'song_id']].values\n",
        "  values = song_df['listen_count'].values\n",
        "  return tf.SparseTensor(\n",
        "      indices=indices,\n",
        "      values=values,\n",
        "      dense_shape=[song_df_1.shape[0], song_df_2.shape[0]])\n"
      ],
      "execution_count": 0,
      "outputs": []
    },
    {
      "cell_type": "code",
      "metadata": {
        "id": "25ezEoP5u2WR",
        "colab_type": "code",
        "colab": {}
      },
      "source": [
        "def sparse_mean_square_error(sparse_ratings, user_embeddings, music_embeddings):\n",
        "  \"\"\"\n",
        "  Args:\n",
        "    sparse_ratings: A SparseTensor rating matrix, of dense_shape [N, M]\n",
        "    user_embeddings: A dense Tensor U of shape [N, k] where k is the embedding\n",
        "      dimension, such that U_i is the embedding of user i.\n",
        "    music_embeddings: A dense Tensor V of shape [M, k] where k is the embedding\n",
        "      dimension, such that V_j is the embedding of music j.\n",
        "  Returns:\n",
        "    A scalar Tensor representing the MSE between the true ratings and the\n",
        "      model's predictions.\n",
        "  \"\"\"\n",
        "  predictions = tf.reduce_sum(\n",
        "      tf.gather(user_embeddings, sparse_ratings.indices[:, 0]) *\n",
        "      tf.gather(music_embeddings, sparse_ratings.indices[:, 1]),\n",
        "      axis=1)\n",
        "  loss = tf.losses.mean_squared_error(sparse_ratings.values, predictions)\n",
        "  return loss"
      ],
      "execution_count": 0,
      "outputs": []
    },
    {
      "cell_type": "code",
      "metadata": {
        "id": "M7KWX3eVu_ZM",
        "colab_type": "code",
        "colab": {}
      },
      "source": [
        "class CFModel(object):\n",
        "  \"\"\"Simple class that represents a collaborative filtering model\"\"\"\n",
        "  def __init__(self, embedding_vars, loss, metrics=None):\n",
        "    \"\"\"Initializes a CFModel.\n",
        "    Args:\n",
        "      embedding_vars: A dictionary of tf.Variables.\n",
        "      loss: A float Tensor. The loss to optimize.\n",
        "      metrics: optional list of dictionaries of Tensors. The metrics in each\n",
        "        dictionary will be plotted in a separate figure during training.\n",
        "    \"\"\"\n",
        "    self._embedding_vars = embedding_vars\n",
        "    self._loss = loss\n",
        "    self._metrics = metrics\n",
        "    self._embeddings = {k: None for k in embedding_vars}\n",
        "    self._session = None\n",
        "\n",
        "  @property\n",
        "  def embeddings(self):\n",
        "    \"\"\"The embeddings dictionary.\"\"\"\n",
        "    return self._embeddings\n",
        "\n",
        "  def train(self, num_iterations=100, learning_rate=1.0, plot_results=True,\n",
        "            optimizer=tf.train.GradientDescentOptimizer):\n",
        "    \"\"\"Trains the model.\n",
        "    Args:\n",
        "      iterations: number of iterations to run.\n",
        "      learning_rate: optimizer learning rate.\n",
        "      plot_results: whether to plot the results at the end of training.\n",
        "      optimizer: the optimizer to use. Default to GradientDescentOptimizer.\n",
        "    Returns:\n",
        "      The metrics dictionary evaluated at the last iteration.\n",
        "    \"\"\"\n",
        "    with self._loss.graph.as_default():\n",
        "      opt = optimizer(learning_rate)\n",
        "      train_op = opt.minimize(self._loss)\n",
        "      local_init_op = tf.group(\n",
        "          tf.variables_initializer(opt.variables()),\n",
        "          tf.local_variables_initializer())\n",
        "      if self._session is None:\n",
        "        self._session = tf.Session()\n",
        "        with self._session.as_default():\n",
        "          self._session.run(tf.global_variables_initializer())\n",
        "          self._session.run(tf.tables_initializer())\n",
        "          tf.train.start_queue_runners()\n",
        "\n",
        "    with self._session.as_default():\n",
        "      local_init_op.run()\n",
        "      iterations = []\n",
        "      metrics = self._metrics or ({},)\n",
        "      metrics_vals = [collections.defaultdict(list) for _ in self._metrics]\n",
        "\n",
        "      # Train and append results.\n",
        "      for i in range(num_iterations + 1):\n",
        "        _, results = self._session.run((train_op, metrics))\n",
        "        if (i % 10 == 0) or i == num_iterations:\n",
        "          print(\"\\r iteration %d: \" % i + \", \".join(\n",
        "                [\"%s=%f\" % (k, v) for r in results for k, v in r.items()]),\n",
        "                end='')\n",
        "          iterations.append(i)\n",
        "          for metric_val, result in zip(metrics_vals, results):\n",
        "            for k, v in result.items():\n",
        "              metric_val[k].append(v)\n",
        "\n",
        "      for k, v in self._embedding_vars.items():\n",
        "        self._embeddings[k] = v.eval()\n",
        "\n",
        "      if plot_results:\n",
        "        # Plot the metrics.\n",
        "        num_subplots = len(metrics)+1\n",
        "        fig = plt.figure()\n",
        "        fig.set_size_inches(num_subplots*10, 8)\n",
        "        for i, metric_vals in enumerate(metrics_vals):\n",
        "          ax = fig.add_subplot(1, num_subplots, i+1)\n",
        "          for k, v in metric_vals.items():\n",
        "            ax.plot(iterations, v, label=k)\n",
        "          ax.set_xlim([1, num_iterations])\n",
        "          ax.legend()\n",
        "      return results"
      ],
      "execution_count": 0,
      "outputs": []
    },
    {
      "cell_type": "code",
      "metadata": {
        "id": "lrD7H6zmvHP5",
        "colab_type": "code",
        "colab": {}
      },
      "source": [
        "def build_model(ratings, embedding_dim=3, init_stddev=1.):\n",
        "  \"\"\"\n",
        "  Args:\n",
        "    ratings: a DataFrame of the ratings\n",
        "    embedding_dim: the dimension of the embedding vectors.\n",
        "    init_stddev: float, the standard deviation of the random initial embeddings.\n",
        "  Returns:\n",
        "    model: a CFModel.\n",
        "  \"\"\"\n",
        "  # Split the ratings DataFrame into train and test.\n",
        "  train_ratings, test_ratings = split_dataframe(ratings)\n",
        "  # SparseTensor representation of the train and test datasets.\n",
        "  A_train = build_rating_sparse_tensor(train_ratings)\n",
        "  A_test = build_rating_sparse_tensor(test_ratings)\n",
        "  # Initialize the embeddings using a normal distribution.\n",
        "  U = tf.Variable(tf.random_normal(\n",
        "      [A_train.dense_shape[0], embedding_dim], stddev=init_stddev))\n",
        "  V = tf.Variable(tf.random_normal(\n",
        "      [A_train.dense_shape[1], embedding_dim], stddev=init_stddev))\n",
        "  train_loss = sparse_mean_square_error(A_train, U, V)\n",
        "  test_loss = sparse_mean_square_error(A_test, U, V)\n",
        "  metrics = {\n",
        "      'train_error': train_loss,\n",
        "      'test_error': test_loss\n",
        "  }\n",
        "  embeddings = {\n",
        "      \"user_id\": U,\n",
        "      \"song_id\": V\n",
        "  }\n",
        "  return CFModel(embeddings, train_loss, [metrics])"
      ],
      "execution_count": 0,
      "outputs": []
    },
    {
      "cell_type": "code",
      "metadata": {
        "id": "DZlVyE5xvVNd",
        "colab_type": "code",
        "colab": {
          "base_uri": "https://localhost:8080/",
          "height": 503
        },
        "outputId": "55a78a83-649b-4f78-d9f6-072ac366c800"
      },
      "source": [
        "# Build the CF model and train it.\n",
        "model = build_model(song_df, embedding_dim=3, init_stddev=0.5)\n",
        "model.train(num_iterations=5000, learning_rate=25.)"
      ],
      "execution_count": 28,
      "outputs": [
        {
          "output_type": "stream",
          "text": [
            " iteration 5000: train_error=0.088745, test_error=0.092346"
          ],
          "name": "stdout"
        },
        {
          "output_type": "execute_result",
          "data": {
            "text/plain": [
              "[{'test_error': 0.092346095, 'train_error': 0.08874533}]"
            ]
          },
          "metadata": {
            "tags": []
          },
          "execution_count": 28
        },
        {
          "output_type": "display_data",
          "data": {
            "image/png": "[encoded data removed]",
            "text/plain": [
              "<Figure size 1440x576 with 1 Axes>"
            ]
          },
          "metadata": {
            "tags": []
          }
        }
      ]
    },
    {
      "cell_type": "markdown",
      "metadata": {
        "id": "YawUyH_739QK",
        "colab_type": "text"
      },
      "source": [
        "## Find similar items"
      ]
    },
    {
      "cell_type": "code",
      "metadata": {
        "id": "ZS-1g-2VB7v3",
        "colab_type": "code",
        "colab": {}
      },
      "source": [
        "DOT = 'dot'\n",
        "COSINE = 'cosine'\n",
        "def compute_scores(query_embedding, item_embeddings, measure=DOT):\n",
        "  \"\"\"Computes the scores of the candidates given a query.\n",
        "  Args:\n",
        "    query_embedding: a vector of shape [k], representing the query embedding.\n",
        "    item_embeddings: a matrix of shape [N, k], such that row i is the embedding\n",
        "      of item i.\n",
        "    measure: a string specifying the similarity measure to be used. Can be\n",
        "      either DOT or COSINE.\n",
        "  Returns:\n",
        "    scores: a vector of shape [N], such that scores[i] is the score of item i.\n",
        "  \"\"\"\n",
        "  u = query_embedding\n",
        "  V = item_embeddings\n",
        "  if measure == COSINE:\n",
        "    V = V / np.linalg.norm(V, axis=1, keepdims=True)\n",
        "    u = u / np.linalg.norm(u)\n",
        "  scores = u.dot(V.T)\n",
        "  return scores"
      ],
      "execution_count": 0,
      "outputs": []
    },
    {
      "cell_type": "code",
      "metadata": {
        "id": "d8T7WV3804rx",
        "colab_type": "code",
        "colab": {}
      },
      "source": [
        "def music_neighbors(model, title_substring, measure=DOT, k=6):\n",
        "  # Search for music ids that match the given substring.\n",
        "  ids =  music[music['title']==title_substring].index.values\n",
        "  titles = music.iloc[ids]['title'].values\n",
        "  if len(titles) == 0:\n",
        "    raise ValueError(\"Found no music with title %s\" % title_substring)\n",
        "  print(\"Nearest neighbors of : %s.\" % titles[0])\n",
        "  if len(titles) > 1:\n",
        "    print(\"[Found more than one matching music. Other candidates: {}]\".format(\n",
        "        \", \".join(titles[1:])))\n",
        "  song_id = ids[0]\n",
        "  scores = compute_scores(\n",
        "      model.embeddings[\"song_id\"][song_id], model.embeddings[\"song_id\"],\n",
        "      measure)\n",
        "  score_key = measure + ' score'\n",
        "  df = pd.DataFrame({\n",
        "      score_key: list(scores),\n",
        "      'titles': music['title'],\n",
        "  })\n",
        "  display.display(df.sort_values([score_key], ascending=False).head(k))"
      ],
      "execution_count": 0,
      "outputs": []
    },
    {
      "cell_type": "markdown",
      "metadata": {
        "id": "7jV75rax4F-j",
        "colab_type": "text"
      },
      "source": [
        "#### Find similar songs to Stronger"
      ]
    },
    {
      "cell_type": "code",
      "metadata": {
        "id": "_utL9Pu_EIWx",
        "colab_type": "code",
        "colab": {}
      },
      "source": [
        "music = song_df_2"
      ],
      "execution_count": 0,
      "outputs": []
    },
    {
      "cell_type": "code",
      "metadata": {
        "id": "juPihThsCfM5",
        "colab_type": "code",
        "outputId": "b63c05f5-ea84-4b7b-bb2d-cad9391c69a6",
        "colab": {
          "base_uri": "https://localhost:8080/",
          "height": 289
        }
      },
      "source": [
        "music_neighbors(model, \"Stronger\", COSINE)"
      ],
      "execution_count": 32,
      "outputs": [
        {
          "output_type": "stream",
          "text": [
            "Nearest neighbors of : Stronger.\n",
            "[Found more than one matching music. Other candidates: Stronger, Stronger, Stronger, Stronger, Stronger, Stronger, Stronger, Stronger, Stronger, Stronger, Stronger, Stronger, Stronger, Stronger, Stronger, Stronger, Stronger, Stronger, Stronger, Stronger, Stronger, Stronger, Stronger, Stronger, Stronger, Stronger, Stronger, Stronger, Stronger, Stronger, Stronger, Stronger, Stronger, Stronger, Stronger, Stronger, Stronger, Stronger, Stronger, Stronger, Stronger, Stronger, Stronger, Stronger]\n"
          ],
          "name": "stdout"
        },
        {
          "output_type": "display_data",
          "data": {
            "text/html": [
              "<div>\n",
              "<style scoped>\n",
              "    .dataframe tbody tr th:only-of-type {\n",
              "        vertical-align: middle;\n",
              "    }\n",
              "\n",
              "    .dataframe tbody tr th {\n",
              "        vertical-align: top;\n",
              "    }\n",
              "\n",
              "    .dataframe thead th {\n",
              "        text-align: right;\n",
              "    }\n",
              "</style>\n",
              "<table border=\"1\" class=\"dataframe\">\n",
              "  <thead>\n",
              "    <tr style=\"text-align: right;\">\n",
              "      <th></th>\n",
              "      <th>cosine score</th>\n",
              "      <th>titles</th>\n",
              "    </tr>\n",
              "  </thead>\n",
              "  <tbody>\n",
              "    <tr>\n",
              "      <th>5945</th>\n",
              "      <td>1.000</td>\n",
              "      <td>Stronger</td>\n",
              "    </tr>\n",
              "    <tr>\n",
              "      <th>155024</th>\n",
              "      <td>1.000</td>\n",
              "      <td>This City Is Contagious (Album Version)</td>\n",
              "    </tr>\n",
              "    <tr>\n",
              "      <th>680189</th>\n",
              "      <td>1.000</td>\n",
              "      <td>Suuria kuvioita</td>\n",
              "    </tr>\n",
              "    <tr>\n",
              "      <th>449113</th>\n",
              "      <td>1.000</td>\n",
              "      <td>Forget His Facade</td>\n",
              "    </tr>\n",
              "    <tr>\n",
              "      <th>43355</th>\n",
              "      <td>1.000</td>\n",
              "      <td>Takin\u0019 You Back</td>\n",
              "    </tr>\n",
              "    <tr>\n",
              "      <th>988491</th>\n",
              "      <td>1.000</td>\n",
              "      <td>Riverdale</td>\n",
              "    </tr>\n",
              "  </tbody>\n",
              "</table>\n",
              "</div>"
            ],
            "text/plain": [
              "        cosine score                                   titles\n",
              "5945           1.000                                 Stronger\n",
              "155024         1.000  This City Is Contagious (Album Version)\n",
              "680189         1.000                          Suuria kuvioita\n",
              "449113         1.000                        Forget His Facade\n",
              "43355          1.000                          Takin\u0019 You Back\n",
              "988491         1.000                                Riverdale"
            ]
          },
          "metadata": {
            "tags": []
          }
        }
      ]
    },
    {
      "cell_type": "code",
      "metadata": {
        "id": "6ECNWfzZFDeN",
        "colab_type": "code",
        "outputId": "dadef47a-87c4-49f6-e54d-48e52464a711",
        "colab": {
          "base_uri": "https://localhost:8080/",
          "height": 289
        }
      },
      "source": [
        "music_neighbors(model, \"Stronger\", DOT)"
      ],
      "execution_count": 33,
      "outputs": [
        {
          "output_type": "stream",
          "text": [
            "Nearest neighbors of : Stronger.\n",
            "[Found more than one matching music. Other candidates: Stronger, Stronger, Stronger, Stronger, Stronger, Stronger, Stronger, Stronger, Stronger, Stronger, Stronger, Stronger, Stronger, Stronger, Stronger, Stronger, Stronger, Stronger, Stronger, Stronger, Stronger, Stronger, Stronger, Stronger, Stronger, Stronger, Stronger, Stronger, Stronger, Stronger, Stronger, Stronger, Stronger, Stronger, Stronger, Stronger, Stronger, Stronger, Stronger, Stronger, Stronger, Stronger, Stronger, Stronger]\n"
          ],
          "name": "stdout"
        },
        {
          "output_type": "display_data",
          "data": {
            "text/html": [
              "<div>\n",
              "<style scoped>\n",
              "    .dataframe tbody tr th:only-of-type {\n",
              "        vertical-align: middle;\n",
              "    }\n",
              "\n",
              "    .dataframe tbody tr th {\n",
              "        vertical-align: top;\n",
              "    }\n",
              "\n",
              "    .dataframe thead th {\n",
              "        text-align: right;\n",
              "    }\n",
              "</style>\n",
              "<table border=\"1\" class=\"dataframe\">\n",
              "  <thead>\n",
              "    <tr style=\"text-align: right;\">\n",
              "      <th></th>\n",
              "      <th>dot score</th>\n",
              "      <th>titles</th>\n",
              "    </tr>\n",
              "  </thead>\n",
              "  <tbody>\n",
              "    <tr>\n",
              "      <th>869725</th>\n",
              "      <td>2.569</td>\n",
              "      <td>Flora's Song</td>\n",
              "    </tr>\n",
              "    <tr>\n",
              "      <th>840192</th>\n",
              "      <td>2.466</td>\n",
              "      <td>Love Is A Stranger</td>\n",
              "    </tr>\n",
              "    <tr>\n",
              "      <th>78251</th>\n",
              "      <td>2.320</td>\n",
              "      <td>White Balloons</td>\n",
              "    </tr>\n",
              "    <tr>\n",
              "      <th>369984</th>\n",
              "      <td>2.259</td>\n",
              "      <td>Quiero Ser Un Pez (Maqueta)</td>\n",
              "    </tr>\n",
              "    <tr>\n",
              "      <th>529659</th>\n",
              "      <td>2.253</td>\n",
              "      <td>Police State</td>\n",
              "    </tr>\n",
              "    <tr>\n",
              "      <th>540117</th>\n",
              "      <td>2.200</td>\n",
              "      <td>Always Free</td>\n",
              "    </tr>\n",
              "  </tbody>\n",
              "</table>\n",
              "</div>"
            ],
            "text/plain": [
              "        dot score                       titles\n",
              "869725      2.569                 Flora's Song\n",
              "840192      2.466           Love Is A Stranger\n",
              "78251       2.320               White Balloons\n",
              "369984      2.259  Quiero Ser Un Pez (Maqueta)\n",
              "529659      2.253                 Police State\n",
              "540117      2.200                  Always Free"
            ]
          },
          "metadata": {
            "tags": []
          }
        }
      ]
    },
    {
      "cell_type": "markdown",
      "metadata": {
        "id": "IQIaMEc1E6zf",
        "colab_type": "text"
      },
      "source": [
        "## Regularization In Matrix Factorization\n",
        "\n",
        "In the previous section, the loss was defined as the mean squared error on the observed part of the rating matrix.  This can be problematic as the model does not learn how to place the embeddings of irrelevant movies. This phenomenon is known as *folding*.\n",
        "\n",
        "We will add regularization terms that will address this issue. We will use two types of regularization:\n",
        "- Regularization of the model parameters. This is a common $\\ell_2$ regularization term on the embedding matrices, given by $r(U, V) =  \\frac{1}{N} \\sum_i \\|U_i\\|^2 + \\frac{1}{M}\\sum_j \\|V_j\\|^2$.\n",
        "- A global prior that pushes the prediction of any pair towards zero, called the *gravity* term. This is given by $g(U, V) = \\frac{1}{MN} \\sum_{i = 1}^N \\sum_{j = 1}^M \\langle U_i, V_j \\rangle^2$.\n",
        "\n",
        "The total loss is then given by\n",
        "$$\n",
        "\\frac{1}{|\\Omega|}\\sum_{(i, j) \\in \\Omega} (A_{ij} - \\langle U_i, V_j\\rangle)^2 + \\lambda _r r(U, V) + \\lambda_g g(U, V)\n",
        "$$\n",
        "where $\\lambda_r$ and $\\lambda_g$ are two regularization coefficients (hyper-parameters)."
      ]
    },
    {
      "cell_type": "code",
      "metadata": {
        "id": "AEqot3bAET-F",
        "colab_type": "code",
        "colab": {}
      },
      "source": [
        "def gravity(U, V):\n",
        "  \"\"\"Creates a gravity loss given two embedding matrices.\"\"\"\n",
        "  return 1. / (U.shape[0].value*V.shape[0].value) * tf.reduce_sum(\n",
        "      tf.matmul(U, U, transpose_a=True) * tf.matmul(V, V, transpose_a=True))\n",
        "\n",
        "def build_regularized_model(\n",
        "    ratings, embedding_dim=3, regularization_coeff=.1, gravity_coeff=1.,\n",
        "    init_stddev=0.1):\n",
        "  \"\"\"\n",
        "  Args:\n",
        "    ratings: the DataFrame of song ratings.\n",
        "    embedding_dim: The dimension of the embedding space.\n",
        "    regularization_coeff: The regularization coefficient lambda.\n",
        "    gravity_coeff: The gravity regularization coefficient lambda_g.\n",
        "  Returns:\n",
        "    A CFModel object that uses a regularized loss.\n",
        "  \"\"\"\n",
        "  # Split the ratings DataFrame into train and test.\n",
        "  train_ratings, test_ratings = split_dataframe(ratings)\n",
        "  # SparseTensor representation of the train and test datasets.\n",
        "  A_train = build_rating_sparse_tensor(train_ratings)\n",
        "  A_test = build_rating_sparse_tensor(test_ratings)\n",
        "  U = tf.Variable(tf.random_normal(\n",
        "      [A_train.dense_shape[0], embedding_dim], stddev=init_stddev))\n",
        "  V = tf.Variable(tf.random_normal(\n",
        "      [A_train.dense_shape[1], embedding_dim], stddev=init_stddev))\n",
        "\n",
        "  error_train = sparse_mean_square_error(A_train, U, V)\n",
        "  error_test = sparse_mean_square_error(A_test, U, V)\n",
        "  gravity_loss = gravity_coeff * gravity(U, V)\n",
        "  regularization_loss = regularization_coeff * (\n",
        "      tf.reduce_sum(U*U)/U.shape[0].value + tf.reduce_sum(V*V)/V.shape[0].value)\n",
        "  total_loss = error_train + regularization_loss + gravity_loss\n",
        "  losses = {\n",
        "      'train_error_observed': error_train,\n",
        "      'test_error_observed': error_test,\n",
        "  }\n",
        "  loss_components = {\n",
        "      'observed_loss': error_train,\n",
        "      'regularization_loss': regularization_loss,\n",
        "      'gravity_loss': gravity_loss,\n",
        "  }\n",
        "  embeddings = {\"user_id\": U, \"song_id\": V}\n",
        "\n",
        "  return CFModel(embeddings, total_loss, [losses, loss_components])"
      ],
      "execution_count": 0,
      "outputs": []
    },
    {
      "cell_type": "code",
      "metadata": {
        "id": "7rhgqyZBEZFM",
        "colab_type": "code",
        "colab": {
          "base_uri": "https://localhost:8080/",
          "height": 574
        },
        "outputId": "b8f9e089-7730-4d79-c301-12b6736ba8b2"
      },
      "source": [
        "reg_model = build_regularized_model(\n",
        "    song_df, regularization_coeff=0.1, gravity_coeff=1.0, embedding_dim=35,\n",
        "    init_stddev=.05)\n",
        "reg_model.train(num_iterations=2000, learning_rate=20.)"
      ],
      "execution_count": 35,
      "outputs": [
        {
          "output_type": "stream",
          "text": [
            " iteration 2000: train_error_observed=0.088582, test_error_observed=0.090141, observed_loss=0.088582, regularization_loss=0.017290, gravity_loss=0.000214"
          ],
          "name": "stdout"
        },
        {
          "output_type": "execute_result",
          "data": {
            "text/plain": [
              "[{'test_error_observed': 0.090140775, 'train_error_observed': 0.08858184},\n",
              " {'gravity_loss': 0.00021352999,\n",
              "  'observed_loss': 0.08858184,\n",
              "  'regularization_loss': 0.01729011}]"
            ]
          },
          "metadata": {
            "tags": []
          },
          "execution_count": 35
        },
        {
          "output_type": "display_data",
          "data": {
            "image/png": "[encoded data removed]",
            "text/plain": [
              "<Figure size 2160x576 with 2 Axes>"
            ]
          },
          "metadata": {
            "tags": []
          }
        }
      ]
    },
    {
      "cell_type": "code",
      "metadata": {
        "id": "97XxRuUyGxdr",
        "colab_type": "code",
        "colab": {
          "base_uri": "https://localhost:8080/",
          "height": 34
        },
        "outputId": "6b7ed7b8-a74e-4e67-ac57-3e936231f8e3"
      },
      "source": [
        "np.shape(reg_model.embeddings['song_id'])"
      ],
      "execution_count": 36,
      "outputs": [
        {
          "output_type": "execute_result",
          "data": {
            "text/plain": [
              "(1000000, 35)"
            ]
          },
          "metadata": {
            "tags": []
          },
          "execution_count": 36
        }
      ]
    },
    {
      "cell_type": "code",
      "metadata": {
        "id": "fRqpcsAyG82w",
        "colab_type": "code",
        "colab": {
          "base_uri": "https://localhost:8080/",
          "height": 34
        },
        "outputId": "24afbb02-a1cd-4c2a-cefd-626eba38b4e8"
      },
      "source": [
        "np.shape(reg_model.embeddings['user_id'])"
      ],
      "execution_count": 37,
      "outputs": [
        {
          "output_type": "execute_result",
          "data": {
            "text/plain": [
              "(2000000, 35)"
            ]
          },
          "metadata": {
            "tags": []
          },
          "execution_count": 37
        }
      ]
    },
    {
      "cell_type": "code",
      "metadata": {
        "id": "iQpsapE2HMH1",
        "colab_type": "code",
        "colab": {
          "base_uri": "https://localhost:8080/",
          "height": 289
        },
        "outputId": "959b5e78-edc3-49d4-de66-83bf7f9514a8"
      },
      "source": [
        "music_neighbors(reg_model, \"Stronger\", DOT)"
      ],
      "execution_count": 38,
      "outputs": [
        {
          "output_type": "stream",
          "text": [
            "Nearest neighbors of : Stronger.\n",
            "[Found more than one matching music. Other candidates: Stronger, Stronger, Stronger, Stronger, Stronger, Stronger, Stronger, Stronger, Stronger, Stronger, Stronger, Stronger, Stronger, Stronger, Stronger, Stronger, Stronger, Stronger, Stronger, Stronger, Stronger, Stronger, Stronger, Stronger, Stronger, Stronger, Stronger, Stronger, Stronger, Stronger, Stronger, Stronger, Stronger, Stronger, Stronger, Stronger, Stronger, Stronger, Stronger, Stronger, Stronger, Stronger, Stronger, Stronger]\n"
          ],
          "name": "stdout"
        },
        {
          "output_type": "display_data",
          "data": {
            "text/html": [
              "<div>\n",
              "<style scoped>\n",
              "    .dataframe tbody tr th:only-of-type {\n",
              "        vertical-align: middle;\n",
              "    }\n",
              "\n",
              "    .dataframe tbody tr th {\n",
              "        vertical-align: top;\n",
              "    }\n",
              "\n",
              "    .dataframe thead th {\n",
              "        text-align: right;\n",
              "    }\n",
              "</style>\n",
              "<table border=\"1\" class=\"dataframe\">\n",
              "  <thead>\n",
              "    <tr style=\"text-align: right;\">\n",
              "      <th></th>\n",
              "      <th>dot score</th>\n",
              "      <th>titles</th>\n",
              "    </tr>\n",
              "  </thead>\n",
              "  <tbody>\n",
              "    <tr>\n",
              "      <th>5945</th>\n",
              "      <td>0.116</td>\n",
              "      <td>Stronger</td>\n",
              "    </tr>\n",
              "    <tr>\n",
              "      <th>155967</th>\n",
              "      <td>0.078</td>\n",
              "      <td>Time (House Mix)</td>\n",
              "    </tr>\n",
              "    <tr>\n",
              "      <th>907247</th>\n",
              "      <td>0.076</td>\n",
              "      <td>On The Bus</td>\n",
              "    </tr>\n",
              "    <tr>\n",
              "      <th>489330</th>\n",
              "      <td>0.076</td>\n",
              "      <td>Wistful Moment</td>\n",
              "    </tr>\n",
              "    <tr>\n",
              "      <th>58814</th>\n",
              "      <td>0.075</td>\n",
              "      <td>Cut A Long Story Short</td>\n",
              "    </tr>\n",
              "    <tr>\n",
              "      <th>343067</th>\n",
              "      <td>0.073</td>\n",
              "      <td>Feel Like Makin' Love (LP Version)</td>\n",
              "    </tr>\n",
              "  </tbody>\n",
              "</table>\n",
              "</div>"
            ],
            "text/plain": [
              "        dot score                              titles\n",
              "5945        0.116                            Stronger\n",
              "155967      0.078                    Time (House Mix)\n",
              "907247      0.076                          On The Bus\n",
              "489330      0.076                      Wistful Moment\n",
              "58814       0.075              Cut A Long Story Short\n",
              "343067      0.073  Feel Like Makin' Love (LP Version)"
            ]
          },
          "metadata": {
            "tags": []
          }
        }
      ]
    },
    {
      "cell_type": "code",
      "metadata": {
        "id": "Btl1fgrrHTT5",
        "colab_type": "code",
        "colab": {
          "base_uri": "https://localhost:8080/",
          "height": 289
        },
        "outputId": "7622f1bf-e07a-4e80-c13f-6350b8213c83"
      },
      "source": [
        "music_neighbors(reg_model, \"Stronger\", COSINE)"
      ],
      "execution_count": 39,
      "outputs": [
        {
          "output_type": "stream",
          "text": [
            "Nearest neighbors of : Stronger.\n",
            "[Found more than one matching music. Other candidates: Stronger, Stronger, Stronger, Stronger, Stronger, Stronger, Stronger, Stronger, Stronger, Stronger, Stronger, Stronger, Stronger, Stronger, Stronger, Stronger, Stronger, Stronger, Stronger, Stronger, Stronger, Stronger, Stronger, Stronger, Stronger, Stronger, Stronger, Stronger, Stronger, Stronger, Stronger, Stronger, Stronger, Stronger, Stronger, Stronger, Stronger, Stronger, Stronger, Stronger, Stronger, Stronger, Stronger, Stronger]\n"
          ],
          "name": "stdout"
        },
        {
          "output_type": "display_data",
          "data": {
            "text/html": [
              "<div>\n",
              "<style scoped>\n",
              "    .dataframe tbody tr th:only-of-type {\n",
              "        vertical-align: middle;\n",
              "    }\n",
              "\n",
              "    .dataframe tbody tr th {\n",
              "        vertical-align: top;\n",
              "    }\n",
              "\n",
              "    .dataframe thead th {\n",
              "        text-align: right;\n",
              "    }\n",
              "</style>\n",
              "<table border=\"1\" class=\"dataframe\">\n",
              "  <thead>\n",
              "    <tr style=\"text-align: right;\">\n",
              "      <th></th>\n",
              "      <th>cosine score</th>\n",
              "      <th>titles</th>\n",
              "    </tr>\n",
              "  </thead>\n",
              "  <tbody>\n",
              "    <tr>\n",
              "      <th>5945</th>\n",
              "      <td>1.000</td>\n",
              "      <td>Stronger</td>\n",
              "    </tr>\n",
              "    <tr>\n",
              "      <th>58814</th>\n",
              "      <td>0.678</td>\n",
              "      <td>Cut A Long Story Short</td>\n",
              "    </tr>\n",
              "    <tr>\n",
              "      <th>862114</th>\n",
              "      <td>0.667</td>\n",
              "      <td>And I Love Her</td>\n",
              "    </tr>\n",
              "    <tr>\n",
              "      <th>701276</th>\n",
              "      <td>0.656</td>\n",
              "      <td>Make It Like It Was</td>\n",
              "    </tr>\n",
              "    <tr>\n",
              "      <th>222015</th>\n",
              "      <td>0.656</td>\n",
              "      <td>Shawdi</td>\n",
              "    </tr>\n",
              "    <tr>\n",
              "      <th>279267</th>\n",
              "      <td>0.654</td>\n",
              "      <td>Choices</td>\n",
              "    </tr>\n",
              "  </tbody>\n",
              "</table>\n",
              "</div>"
            ],
            "text/plain": [
              "        cosine score                  titles\n",
              "5945           1.000                Stronger\n",
              "58814          0.678  Cut A Long Story Short\n",
              "862114         0.667          And I Love Her\n",
              "701276         0.656     Make It Like It Was\n",
              "222015         0.656                  Shawdi\n",
              "279267         0.654                 Choices"
            ]
          },
          "metadata": {
            "tags": []
          }
        }
      ]
    },
    {
      "cell_type": "code",
      "metadata": {
        "id": "484UCp4rHpRf",
        "colab_type": "code",
        "colab": {}
      },
      "source": [
        "check_user_list = song_df[song_df.title == 'Stronger'].user_id.unique()"
      ],
      "execution_count": 0,
      "outputs": []
    },
    {
      "cell_type": "code",
      "metadata": {
        "id": "uBwWh5CgH9bx",
        "colab_type": "code",
        "colab": {
          "base_uri": "https://localhost:8080/",
          "height": 68
        },
        "outputId": "94bcbbe7-9f47-4520-b53b-b5ef7022e8e5"
      },
      "source": [
        "print(song_df[song_df.user_id == check_user_list[100]].title.unique())"
      ],
      "execution_count": 41,
      "outputs": [
        {
          "output_type": "stream",
          "text": [
            "['Lemme Get That' 'Hot N Cold (Manhattan Clique Remix Radio Edit)'\n",
            " 'Stronger' 'All Star' 'I Kissed A Girl' \"Wavin'  Flag\" 'Magic'\n",
            " 'Without Me' 'LoveGame']\n"
          ],
          "name": "stdout"
        }
      ]
    },
    {
      "cell_type": "markdown",
      "metadata": {
        "id": "C5eUiKmGJt5D",
        "colab_type": "text"
      },
      "source": [
        "## Make your own prediction to build a play list"
      ]
    },
    {
      "cell_type": "code",
      "metadata": {
        "id": "YI-M9QznJxcl",
        "colab_type": "code",
        "colab": {}
      },
      "source": [
        "USER_RATINGS = True #@param {type:\"boolean\"}\n",
        "users = song_df_1"
      ],
      "execution_count": 0,
      "outputs": []
    },
    {
      "cell_type": "code",
      "metadata": {
        "id": "7LkhdXCuJ0LQ",
        "colab_type": "code",
        "colab": {
          "base_uri": "https://localhost:8080/",
          "height": 34
        },
        "cellView": "both",
        "outputId": "a2abf0d0-c7d4-4ea3-f896-4a173775688f"
      },
      "source": [
        "# @title Run to create a spreadsheet, then use it to enter your ratings.\n",
        "# Authenticate user.\n",
        "if USER_RATINGS:\n",
        "  auth.authenticate_user()\n",
        "  gc = gspread.authorize(GoogleCredentials.get_application_default())\n",
        "  # Create the spreadsheet and print a link to it.\n",
        "  try:\n",
        "    sh = gc.open('music-test')\n",
        "  except(gspread.SpreadsheetNotFound):\n",
        "    sh = gc.create('music-test')\n",
        "\n",
        "  worksheet = sh.sheet1\n",
        "  titles = music['title'].values[0:1000] # take the first 100 songs\n",
        "#   titles = [re.sub(r'/\\s+/g', '-', str(item)) for item in titles]\n",
        "  cell_list = worksheet.range(1, 1, len(titles), 1)\n",
        "  for cell, title in zip(cell_list, titles):\n",
        "    cell.value = title\n",
        "  worksheet.update_cells(cell_list)\n",
        "  print(\"Link to the spreadsheet: \"\n",
        "        \"https://docs.google.com/spreadsheets/d/{}/edit\".format(sh.id))"
      ],
      "execution_count": 43,
      "outputs": [
        {
          "output_type": "stream",
          "text": [
            "Link to the spreadsheet: https://docs.google.com/spreadsheets/d/1GUMvcKhRrUyTbzcwhk32Dg8jYsEbu0lEPDmZSHnRipY/edit\n"
          ],
          "name": "stdout"
        }
      ]
    },
    {
      "cell_type": "code",
      "metadata": {
        "id": "8UDXFcx-OYUH",
        "colab_type": "code",
        "colab": {
          "base_uri": "https://localhost:8080/",
          "height": 170
        },
        "outputId": "0efe36e3-ca5d-45f8-a7a3-1b78ab654c3d"
      },
      "source": [
        "# Run to load your ratings.\n",
        "# Load the ratings from the spreadsheet and create a DataFrame.\n",
        "if USER_RATINGS:\n",
        "  my_ratings = pd.DataFrame.from_records(worksheet.get_all_values()).reset_index()\n",
        "  my_ratings = my_ratings[my_ratings[1] != '']\n",
        "  my_ratings = pd.DataFrame({\n",
        "      'user_id': \"943\",\n",
        "      'title':list(map(str, my_ratings[0])),\n",
        "      'listen_count': list(map(float, my_ratings[1])),\n",
        "  })\n",
        "  \n",
        "  my_ratings.merge(song_df_2, on=\"title\", how=\"left\")\n",
        "   \n",
        "  # Remove previous ratings.\n",
        "  song_df = song_df[song_df.user_id != \"943\"]\n",
        "  # Add new ratings.\n",
        "  song_df = song_df.append(my_ratings, ignore_index=True)\n",
        "  # Add new user to the users DataFrame.\n",
        "  if users.shape[0] == 943:\n",
        "    users = users.append(users.iloc[942], ignore_index=True)\n",
        "    users[\"user_id\"][943] = \"943\"\n",
        "  print(\"Added your %d ratings; you have great taste!\" % len(my_ratings))\n",
        "  song_df[song_df.user_id==\"943\"].merge(music[['song_id', 'title']])"
      ],
      "execution_count": 46,
      "outputs": [
        {
          "output_type": "stream",
          "text": [
            "/usr/local/lib/python3.6/dist-packages/pandas/core/frame.py:7116: FutureWarning: Sorting because non-concatenation axis is not aligned. A future version\n",
            "of pandas will change to not sort by default.\n",
            "\n",
            "To accept the future behavior, pass 'sort=False'.\n",
            "\n",
            "To retain the current behavior and silence the warning, pass 'sort=True'.\n",
            "\n",
            "  sort=sort,\n"
          ],
          "name": "stderr"
        },
        {
          "output_type": "stream",
          "text": [
            "Added your 12 ratings; you have great taste!\n"
          ],
          "name": "stdout"
        }
      ]
    },
    {
      "cell_type": "code",
      "metadata": {
        "id": "-WXdcf-oNeLg",
        "colab_type": "code",
        "colab": {}
      },
      "source": [
        "def user_recommendations(model, measure=DOT, exclude_rated=False, k=20):\n",
        "  if USER_RATINGS:\n",
        "    scores = compute_scores(\n",
        "        model.embeddings[\"user_id\"][943], model.embeddings[\"song_id\"], measure)\n",
        "    score_key = measure + ' score'\n",
        "    df = pd.DataFrame({\n",
        "        score_key: list(scores),\n",
        "        'song_id': music['song_id'],\n",
        "        'titles': music['title'],\n",
        "    })\n",
        "    if exclude_rated:\n",
        "      # remove music that are already rated\n",
        "      rated_music = ratings[ratings.user_id == \"943\"][\"song_id\"].values\n",
        "      df = df[df.song_id.apply(lambda song_id: song_id not in rated_music)]\n",
        "    display.display(df.sort_values([score_key], ascending=False).head(k))  \n"
      ],
      "execution_count": 0,
      "outputs": []
    },
    {
      "cell_type": "code",
      "metadata": {
        "id": "2rC8wFrQN3eR",
        "colab_type": "code",
        "colab": {
          "base_uri": "https://localhost:8080/",
          "height": 419
        },
        "outputId": "63d91e63-66fc-4df1-932f-01d5ba48f82a"
      },
      "source": [
        "if USER_RATINGS:\n",
        "  user_recommendations(reg_model, measure=DOT, k=20)"
      ],
      "execution_count": 48,
      "outputs": [
        {
          "output_type": "display_data",
          "data": {
            "text/html": [
              "<div>\n",
              "<style scoped>\n",
              "    .dataframe tbody tr th:only-of-type {\n",
              "        vertical-align: middle;\n",
              "    }\n",
              "\n",
              "    .dataframe tbody tr th {\n",
              "        vertical-align: top;\n",
              "    }\n",
              "\n",
              "    .dataframe thead th {\n",
              "        text-align: right;\n",
              "    }\n",
              "</style>\n",
              "<table border=\"1\" class=\"dataframe\">\n",
              "  <thead>\n",
              "    <tr style=\"text-align: right;\">\n",
              "      <th></th>\n",
              "      <th>dot score</th>\n",
              "      <th>song_id</th>\n",
              "      <th>titles</th>\n",
              "    </tr>\n",
              "  </thead>\n",
              "  <tbody>\n",
              "    <tr>\n",
              "      <th>282528</th>\n",
              "      <td>0.067</td>\n",
              "      <td>960848</td>\n",
              "      <td>Gueules Cassees</td>\n",
              "    </tr>\n",
              "    <tr>\n",
              "      <th>16356</th>\n",
              "      <td>0.060</td>\n",
              "      <td>574000</td>\n",
              "      <td>Una Historia De Amor</td>\n",
              "    </tr>\n",
              "    <tr>\n",
              "      <th>306571</th>\n",
              "      <td>0.060</td>\n",
              "      <td>349593</td>\n",
              "      <td>Worthy is the lamb</td>\n",
              "    </tr>\n",
              "    <tr>\n",
              "      <th>166936</th>\n",
              "      <td>0.059</td>\n",
              "      <td>797877</td>\n",
              "      <td>Wade in the Water</td>\n",
              "    </tr>\n",
              "    <tr>\n",
              "      <th>462512</th>\n",
              "      <td>0.059</td>\n",
              "      <td>309688</td>\n",
              "      <td>Trying Times</td>\n",
              "    </tr>\n",
              "    <tr>\n",
              "      <th>...</th>\n",
              "      <td>...</td>\n",
              "      <td>...</td>\n",
              "      <td>...</td>\n",
              "    </tr>\n",
              "    <tr>\n",
              "      <th>207941</th>\n",
              "      <td>0.056</td>\n",
              "      <td>543283</td>\n",
              "      <td>Canario</td>\n",
              "    </tr>\n",
              "    <tr>\n",
              "      <th>986917</th>\n",
              "      <td>0.056</td>\n",
              "      <td>838011</td>\n",
              "      <td>Spiritual (LP Version)</td>\n",
              "    </tr>\n",
              "    <tr>\n",
              "      <th>184101</th>\n",
              "      <td>0.056</td>\n",
              "      <td>925081</td>\n",
              "      <td>Misirlou</td>\n",
              "    </tr>\n",
              "    <tr>\n",
              "      <th>275164</th>\n",
              "      <td>0.056</td>\n",
              "      <td>565984</td>\n",
              "      <td>Gator Tango</td>\n",
              "    </tr>\n",
              "    <tr>\n",
              "      <th>117424</th>\n",
              "      <td>0.056</td>\n",
              "      <td>940047</td>\n",
              "      <td>City Of Rescue</td>\n",
              "    </tr>\n",
              "  </tbody>\n",
              "</table>\n",
              "<p>20 rows × 3 columns</p>\n",
              "</div>"
            ],
            "text/plain": [
              "        dot score  song_id                  titles\n",
              "282528      0.067   960848         Gueules Cassees\n",
              "16356       0.060   574000    Una Historia De Amor\n",
              "306571      0.060   349593      Worthy is the lamb\n",
              "166936      0.059   797877       Wade in the Water\n",
              "462512      0.059   309688            Trying Times\n",
              "...           ...      ...                     ...\n",
              "207941      0.056   543283                 Canario\n",
              "986917      0.056   838011  Spiritual (LP Version)\n",
              "184101      0.056   925081                Misirlou\n",
              "275164      0.056   565984             Gator Tango\n",
              "117424      0.056   940047          City Of Rescue\n",
              "\n",
              "[20 rows x 3 columns]"
            ]
          },
          "metadata": {
            "tags": []
          }
        }
      ]
    },
    {
      "cell_type": "markdown",
      "metadata": {
        "id": "uoRsJNFVnSG8",
        "colab_type": "text"
      },
      "source": [
        "## Build a content-based recommendation system"
      ]
    },
    {
      "cell_type": "markdown",
      "metadata": {
        "id": "PO8K6syOpHkH",
        "colab_type": "text"
      },
      "source": [
        "For the music data, we have \"song_id\",\t\"title\",\t\"release\", \"artist_name\",\t\"year\"\n",
        "\n",
        "We can first use Word2Vec to convert the title and artist name into vectors, then with some normalization, combining it with year, we can use knn to generate the song embedding (V) for unseen item and feed it back to the collobrative model in order to recommend unseen songs to users"
      ]
    },
    {
      "cell_type": "markdown",
      "metadata": {
        "id": "hng5pL2qJbnk",
        "colab_type": "text"
      },
      "source": [
        "### Use a Word2Vec to convert song title to a 100 dimension vector by averaging the vector of each word in the title"
      ]
    },
    {
      "cell_type": "code",
      "metadata": {
        "id": "ueo3JE_ms-QO",
        "colab_type": "code",
        "colab": {}
      },
      "source": [
        "# artist = set(song_df.artist_name.values)\n",
        "music = song_df_2 # note that as some song is not cover in the first file\n",
        "song_name = music.title.values\n",
        "song_name_clean = [re.sub(r'[^\\w]', ' ', str(item))for item in song_name]\n",
        "song_name_clean = [re.sub(r\" \\d+\", '', str(item.strip())) for item in song_name_clean]"
      ],
      "execution_count": 0,
      "outputs": []
    },
    {
      "cell_type": "code",
      "metadata": {
        "id": "o1WAtvq2tvDt",
        "colab_type": "code",
        "colab": {}
      },
      "source": [
        "sentences = list()\n",
        "for item in song_name_clean:\n",
        "  sentences.append(item.split())\n",
        "  \n",
        "unique_sentence = np.unique(sentences) # build the model on all unique sentence but not all sentence to save time"
      ],
      "execution_count": 0,
      "outputs": []
    },
    {
      "cell_type": "code",
      "metadata": {
        "id": "sZx9all2rAUh",
        "colab_type": "code",
        "outputId": "896028a2-85ff-4ba7-e594-c1df4271f20e",
        "colab": {
          "base_uri": "https://localhost:8080/",
          "height": 51
        }
      },
      "source": [
        "## create word2vec model\n",
        "# Set values for NN parameters\n",
        "num_features = 50    # Word vector dimensionality                      \n",
        "min_word_count = 50                      \n",
        "num_workers = 1      # Number of CPUs\n",
        "context = 3          # Context window size; \n",
        "                                                                                                        \n",
        "downsampling = 1e-3   # threshold for configuring which \n",
        "                      # higher-frequency words are randomly downsampled\n",
        "\n",
        "# Initialize and train the model \n",
        "model_wv = word2vec.Word2Vec(unique_sentence, workers=num_workers, \\\n",
        "            size=num_features, min_count = min_word_count, \\\n",
        "            window = context, sample = downsampling)\n",
        "\n",
        "# If you don't plan to train the model any further, calling \n",
        "# init_sims will make the model much more memory-efficient.\n",
        "model_wv.init_sims(replace=True)"
      ],
      "execution_count": 98,
      "outputs": [
        {
          "output_type": "stream",
          "text": [
            "WARNING: Logging before flag parsing goes to stderr.\n",
            "W0818 01:42:10.277009 139802250831744 base_any2vec.py:723] consider setting layer size to a multiple of 4 for greater performance\n"
          ],
          "name": "stderr"
        }
      ]
    },
    {
      "cell_type": "code",
      "metadata": {
        "id": "lmCsHayMve1i",
        "colab_type": "code",
        "colab": {}
      },
      "source": [
        "# model_wv.most_similar(u'Love') # similar word to love"
      ],
      "execution_count": 0,
      "outputs": []
    },
    {
      "cell_type": "markdown",
      "metadata": {
        "id": "WlXnH4r8vxfc",
        "colab_type": "text"
      },
      "source": [
        "Store the word2vec model"
      ]
    },
    {
      "cell_type": "code",
      "metadata": {
        "id": "o_vBmV60vr--",
        "colab_type": "code",
        "outputId": "7d4f79da-a3ef-4d19-ae3a-d6bbcbf27633",
        "colab": {
          "base_uri": "https://localhost:8080/",
          "height": 105
        }
      },
      "source": [
        "corpus = sorted(model_wv.wv.vocab.keys()) \n",
        "emb_tuple = tuple([model_wv[v] for v in corpus])\n",
        "X = np.vstack(emb_tuple)\n",
        "model_wv.wv.save_word2vec_format('song_tile_embedding.txt', binary = False)"
      ],
      "execution_count": 99,
      "outputs": [
        {
          "output_type": "stream",
          "text": [
            "/usr/local/lib/python3.6/dist-packages/ipykernel_launcher.py:2: DeprecationWarning: Call to deprecated `__getitem__` (Method will be removed in 4.0.0, use self.wv.__getitem__() instead).\n",
            "  \n",
            "/usr/local/lib/python3.6/dist-packages/smart_open/smart_open_lib.py:398: UserWarning: This function is deprecated, use smart_open.open instead. See the migration notes for details: https://github.com/RaRe-Technologies/smart_open/blob/master/README.rst#migrating-to-the-new-open-function\n",
            "  'See the migration notes for details: %s' % _MIGRATION_NOTES_URL\n"
          ],
          "name": "stderr"
        }
      ]
    },
    {
      "cell_type": "markdown",
      "metadata": {
        "id": "lfN20OR2JIv6",
        "colab_type": "text"
      },
      "source": [
        "Converting the song title one by and one and average the word vector is too time-consuming, we can take advantage of the GPU by building a neural network model and fix the weights as the Word2Vec weights to convert our data to vector"
      ]
    },
    {
      "cell_type": "code",
      "metadata": {
        "id": "vSiMFPcwIHJW",
        "colab_type": "code",
        "colab": {}
      },
      "source": [
        "X = sentences\n",
        "EMBEDDING_DIM = num_features\n",
        "max_length = max([len(s) for s in X])\n",
        "# maximum length of a number of ingredients\n",
        "\n",
        "tokenizer_obj = Tokenizer()\n",
        "tokenizer_obj.fit_on_texts(X)\n",
        "\n",
        "X_token = tokenizer_obj.texts_to_sequences(X)\n",
        "X_pad = pad_sequences(X_token, maxlen = max_length, padding = 'post')"
      ],
      "execution_count": 0,
      "outputs": []
    },
    {
      "cell_type": "code",
      "metadata": {
        "id": "MUsVHhlD661e",
        "colab_type": "code",
        "colab": {}
      },
      "source": [
        "embeddings_index = {}\n",
        "f = open(os.path.join('','song_tile_embedding.txt'), encoding = 'utf-8')\n",
        "for line in f:\n",
        "    values = line.split()\n",
        "    word = values[0]\n",
        "    coefs = np.asarray(values[1:])\n",
        "    embeddings_index[word] = coefs\n",
        "    \n",
        "f.close()\n",
        "\n",
        "word_index = tokenizer_obj.word_index\n",
        "num_words = len(word_index) + 1\n",
        "\n",
        "embedding_matrix = np.zeros((len(word_index) + 1, EMBEDDING_DIM))\n",
        "for word, i in word_index.items():\n",
        "    embedding_vector = embeddings_index.get(word)\n",
        "    if embedding_vector is not None:\n",
        "        # words not found in embedding index will be all-zeros.\n",
        "        embedding_matrix[i] = embedding_vector[-EMBEDDING_DIM:]    "
      ],
      "execution_count": 0,
      "outputs": []
    },
    {
      "cell_type": "code",
      "metadata": {
        "id": "cSR82ePzFygO",
        "colab_type": "code",
        "colab": {}
      },
      "source": [
        "model_wv_seq = Sequential()\n",
        "embedding_layer = Embedding(len(word_index) + 1,\n",
        "                            EMBEDDING_DIM,\n",
        "                            weights=[embedding_matrix],\n",
        "                            input_length=max_length,\n",
        "                            trainable=False)\n",
        "model_wv_seq.add(embedding_layer)\n",
        "model_wv_seq.compile(optimizer = 'adam', loss = 'mse')"
      ],
      "execution_count": 0,
      "outputs": []
    },
    {
      "cell_type": "code",
      "metadata": {
        "id": "DnV88pq7Mdjh",
        "colab_type": "code",
        "colab": {}
      },
      "source": [
        "model_wv_seq.save_weights('model_wv_seq.hdf5')"
      ],
      "execution_count": 0,
      "outputs": []
    },
    {
      "cell_type": "markdown",
      "metadata": {
        "id": "BHekFh-8VHK8",
        "colab_type": "text"
      },
      "source": [
        "However, to compute all the song we have, it is still very time consuming. Here, I play a small trick. For a new song X_new, something that the model hasn't seen before and I would like to recommend it to some users.\n",
        "\n",
        "Here is the step:\n",
        "\n",
        "1. Compute the word2vec vector for each word in the title, and average it on each dimension to get a vector of the whole title, here I chose a dimension of 50\n",
        "\n",
        "1. Randomly pick a few songs in the selected database, also compute the vector representation of the title and then calculate its similarity to the new song. If I manage to find enough songs that passed that threshold, find the users who listened to these old songs and recommend the new song to this user.\n",
        "\n",
        "Note that here I used the information of the title, but it can be any text, including lyrics. However, to get the vector representation of a song's lyrics, which will be much longer than the title, should use something rather than averaging. One idea is to use a LSTM autoencoder to genreate the features. "
      ]
    },
    {
      "cell_type": "code",
      "metadata": {
        "id": "dPaWLeywWgJk",
        "colab_type": "code",
        "colab": {}
      },
      "source": [
        "# pick one unseen songs from our pool\n",
        "\n",
        "old_songs = set(song_df_1.song_id.values)\n",
        "all_songs = set(song_df_2.song_id.values)\n",
        "\n",
        "unseen_song = all_songs- old_songs\n",
        "new_title = song_df_2[song_df_2.song_id == unseen_song.pop()].title\n",
        "new_title = song_df_2[song_df_2.song_id == unseen_song.pop()].title\n",
        "\n",
        "new_title = song_df_2[song_df_2.song_id == unseen_song.pop()].title\n",
        "\n",
        "new_title\n",
        "\n",
        "new_sentences = list()\n",
        "for item in new_title:\n",
        "  new_sentences.append(item.split())\n",
        "  \n",
        "\n",
        "X_token = tokenizer_obj.texts_to_sequences(new_sentences)\n",
        "X_pad_new = pad_sequences(X_token, maxlen = max_length, padding = 'post')\n",
        "Song_vector_new = model_wv_seq.predict(X_pad_new)\n",
        "\n",
        "Song_vector_copy = Song_vector_new.copy()\n",
        "Song_vector_copy[Song_vector_copy == 0] = np.nan\n",
        "means_new_song = np.nanmean(Song_vector_copy, axis=1) # the first axis of mean is example"
      ],
      "execution_count": 0,
      "outputs": []
    },
    {
      "cell_type": "code",
      "metadata": {
        "id": "_oHs5JRHZsBr",
        "colab_type": "code",
        "colab": {
          "base_uri": "https://localhost:8080/",
          "height": 170
        },
        "outputId": "8c715aa0-46a4-4918-9add-a0c06aca501a"
      },
      "source": [
        "np.nonzero(Song_vector_new)"
      ],
      "execution_count": 121,
      "outputs": [
        {
          "output_type": "execute_result",
          "data": {
            "text/plain": [
              "(array([0, 0, 0, 0, 0, 0, 0, 0, 0, 0, 0, 0, 0, 0, 0, 0, 0, 0, 0, 0, 0, 0,\n",
              "        0, 0, 0, 0, 0, 0, 0, 0, 0, 0, 0, 0, 0, 0, 0, 0, 0, 0, 0, 0, 0, 0,\n",
              "        0, 0, 0, 0, 0, 0]),\n",
              " array([0, 0, 0, 0, 0, 0, 0, 0, 0, 0, 0, 0, 0, 0, 0, 0, 0, 0, 0, 0, 0, 0,\n",
              "        0, 0, 0, 0, 0, 0, 0, 0, 0, 0, 0, 0, 0, 0, 0, 0, 0, 0, 0, 0, 0, 0,\n",
              "        0, 0, 0, 0, 0, 0]),\n",
              " array([ 0,  1,  2,  3,  4,  5,  6,  7,  8,  9, 10, 11, 12, 13, 14, 15, 16,\n",
              "        17, 18, 19, 20, 21, 22, 23, 24, 25, 26, 27, 28, 29, 30, 31, 32, 33,\n",
              "        34, 35, 36, 37, 38, 39, 40, 41, 42, 43, 44, 45, 46, 47, 48, 49]))"
            ]
          },
          "metadata": {
            "tags": []
          },
          "execution_count": 121
        }
      ]
    },
    {
      "cell_type": "code",
      "metadata": {
        "id": "HjM_GqRmIwQH",
        "colab_type": "code",
        "colab": {}
      },
      "source": [
        "Song_vector = model_wv_seq.predict(X_pad[0:16,:],  batch_size = 4)"
      ],
      "execution_count": 0,
      "outputs": []
    },
    {
      "cell_type": "code",
      "metadata": {
        "id": "-W_hb6Q5Kjph",
        "colab_type": "code",
        "colab": {
          "base_uri": "https://localhost:8080/",
          "height": 51
        },
        "outputId": "733ef5c4-28a6-430d-aa85-f4fe5a800b9f"
      },
      "source": [
        "Song_vector_copy = Song_vector.copy()\n",
        "Song_vector_copy[Song_vector_copy == 0] = np.nan\n",
        "means = np.nanmean(Song_vector_copy, axis=1) # the first axis of mean is example"
      ],
      "execution_count": 38,
      "outputs": [
        {
          "output_type": "stream",
          "text": [
            "/usr/local/lib/python3.6/dist-packages/ipykernel_launcher.py:3: RuntimeWarning: Mean of empty slice\n",
            "  This is separate from the ipykernel package so we can avoid doing imports until\n"
          ],
          "name": "stderr"
        }
      ]
    },
    {
      "cell_type": "code",
      "metadata": {
        "id": "a1DTAN2MTEww",
        "colab_type": "code",
        "colab": {
          "base_uri": "https://localhost:8080/",
          "height": 34
        },
        "outputId": "0b4a8249-0a09-47e9-f6e4-e2725463515f"
      },
      "source": [
        "np.shape(means)"
      ],
      "execution_count": 39,
      "outputs": [
        {
          "output_type": "execute_result",
          "data": {
            "text/plain": [
              "(16, 50)"
            ]
          },
          "metadata": {
            "tags": []
          },
          "execution_count": 39
        }
      ]
    },
    {
      "cell_type": "code",
      "metadata": {
        "id": "wI2FOvJHTfYU",
        "colab_type": "code",
        "colab": {
          "base_uri": "https://localhost:8080/",
          "height": 204
        },
        "outputId": "7a096248-00d3-428b-8338-ab5e2e7c0d16"
      },
      "source": [
        "means[0]"
      ],
      "execution_count": 40,
      "outputs": [
        {
          "output_type": "execute_result",
          "data": {
            "text/plain": [
              "array([-0.07355497,  0.15807122, -0.12072392, -0.05179739,  0.06622777,\n",
              "       -0.1810571 , -0.05547519, -0.07007836,  0.17584601, -0.00286802,\n",
              "       -0.05633828, -0.19717577, -0.13467264, -0.02734382, -0.18980516,\n",
              "        0.07616759, -0.13788968, -0.07674346,  0.10129731,  0.1617986 ,\n",
              "        0.00529331, -0.06247201, -0.01720187,  0.05282034, -0.10310776,\n",
              "       -0.20780276,  0.1431774 , -0.02855731, -0.09512206, -0.0029472 ,\n",
              "       -0.07337718,  0.02544626,  0.12002164, -0.07453785,  0.0038664 ,\n",
              "       -0.04011299,  0.15861464, -0.04986411, -0.0238953 ,  0.01137719,\n",
              "        0.04384555, -0.09641867,  0.15935309, -0.06284045, -0.12769106,\n",
              "       -0.0357904 ,  0.0054326 ,  0.00640167, -0.03864485, -0.00391219],\n",
              "      dtype=float32)"
            ]
          },
          "metadata": {
            "tags": []
          },
          "execution_count": 40
        }
      ]
    },
    {
      "cell_type": "code",
      "metadata": {
        "id": "A5k348VAUHlL",
        "colab_type": "code",
        "colab": {}
      },
      "source": [
        "from sklearn.metrics.pairwise import cosine_similarity"
      ],
      "execution_count": 0,
      "outputs": []
    },
    {
      "cell_type": "code",
      "metadata": {
        "id": "fVWuSk6AUab9",
        "colab_type": "code",
        "colab": {
          "base_uri": "https://localhost:8080/",
          "height": 204
        },
        "outputId": "2688488d-1064-4c91-94c5-d720213a3e07"
      },
      "source": [
        "means[2]"
      ],
      "execution_count": 47,
      "outputs": [
        {
          "output_type": "execute_result",
          "data": {
            "text/plain": [
              "array([-0.12298578,  0.13869222, -0.12569869,  0.07479558,  0.06399105,\n",
              "       -0.16312483, -0.00387738,  0.01962408,  0.1064715 ,  0.01468985,\n",
              "        0.04423764, -0.06042554, -0.16608769,  0.10689046, -0.10184509,\n",
              "       -0.03721223, -0.10551023, -0.11185306, -0.08845825,  0.15007512,\n",
              "        0.06640238, -0.00836781,  0.04383075,  0.01917603, -0.07694659,\n",
              "       -0.00864347,  0.07301946, -0.0754367 , -0.07141624, -0.02383572,\n",
              "       -0.04402979, -0.01576697,  0.07427925,  0.0307485 ,  0.07987086,\n",
              "        0.03969942, -0.01359951, -0.06130441,  0.00792923,  0.1276355 ,\n",
              "        0.11172171, -0.06819041,  0.17778608,  0.06929007, -0.24533708,\n",
              "        0.05810835, -0.04959764, -0.03823329,  0.02201087, -0.01490931],\n",
              "      dtype=float32)"
            ]
          },
          "metadata": {
            "tags": []
          },
          "execution_count": 47
        }
      ]
    },
    {
      "cell_type": "code",
      "metadata": {
        "id": "bt1UIKRDUQiQ",
        "colab_type": "code",
        "colab": {
          "base_uri": "https://localhost:8080/",
          "height": 34
        },
        "outputId": "65b7ce19-9163-4316-886a-74c5d1e7e116"
      },
      "source": [
        "scores = cosine_similarity(means[0].reshape(1, -1), means[2].reshape(1, -1))\n",
        "scores"
      ],
      "execution_count": 50,
      "outputs": [
        {
          "output_type": "execute_result",
          "data": {
            "text/plain": [
              "array([[0.635142]], dtype=float32)"
            ]
          },
          "metadata": {
            "tags": []
          },
          "execution_count": 50
        }
      ]
    }
  ]
}